{
 "cells": [
  {
   "cell_type": "markdown",
   "metadata": {},
   "source": [
    "[ 최종 결론 ]<br>\n",
    "    1. 의료/쇼핑/전체 관광객 숫자간 상관관계 파악<br>\n",
    "    2. 의료/쇼핑/전체 금액 간 상관관계 파악.<br>\n",
    "    3. 1과 2의 결과를 토대로 결론 도출."
   ]
  },
  {
   "cell_type": "markdown",
   "metadata": {},
   "source": [
    "[필요한 데이터]\n",
    " 1. 18~24 의료 지출액 / 환자수\n",
    " 2. 18~24 쇼핑 지출액 / 쇼핑목적 관광객 수\n",
    " 3. 18~24 전체 지출액 / 관광객 수"
   ]
  },
  {
   "cell_type": "markdown",
   "metadata": {},
   "source": [
    "[1] 모듈"
   ]
  },
  {
   "cell_type": "markdown",
   "metadata": {},
   "source": [
    "[1] 모듈"
   ]
  },
  {
   "cell_type": "code",
   "execution_count": 1,
   "metadata": {},
   "outputs": [],
   "source": [
    "import pandas as pd\n",
    "import numpy as np\n"
   ]
  },
  {
   "cell_type": "markdown",
   "metadata": {},
   "source": [
    "[2] 데이터셋 준비"
   ]
  },
  {
   "cell_type": "markdown",
   "metadata": {},
   "source": [
    "추가 데이터  - 총 관광객 수 / 총 관광지출액\n",
    "            - 쇼핑목적 관광객 수."
   ]
  }
 ],
 "metadata": {
  "kernelspec": {
   "display_name": "PY39",
   "language": "python",
   "name": "python3"
  },
  "language_info": {
   "codemirror_mode": {
    "name": "ipython",
    "version": 3
   },
   "file_extension": ".py",
   "mimetype": "text/x-python",
   "name": "python",
   "nbconvert_exporter": "python",
   "pygments_lexer": "ipython3",
   "version": "3.9.21"
  }
 },
 "nbformat": 4,
 "nbformat_minor": 2
}
