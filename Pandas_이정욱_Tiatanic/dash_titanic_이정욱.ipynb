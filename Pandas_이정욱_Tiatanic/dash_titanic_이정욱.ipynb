{
 "cells": [
  {
   "cell_type": "code",
   "execution_count": 1,
   "metadata": {},
   "outputs": [],
   "source": [
    "import pandas as pd                     # 데이터 분석 및 전처리용 모듈\n",
    "import numpy as np                      # 배열(array)을 지원하는 파이썬 패키지\n",
    "\n",
    "import streamlit as st\n",
    "import seaborn as sns\n",
    "import plotly.express as px\n",
    "import matplotlib.pyplot as plt         # 데이터 시각화 즉, 그래프 관련 모듈 \n",
    "import utils                            # 데이터확인용 "
   ]
  },
  {
   "cell_type": "code",
   "execution_count": 2,
   "metadata": {},
   "outputs": [],
   "source": [
    "# !pip install streamlit"
   ]
  },
  {
   "cell_type": "code",
   "execution_count": 3,
   "metadata": {},
   "outputs": [
    {
     "name": "stdout",
     "output_type": "stream",
     "text": [
      "설정된 폰트: NanumGothic\n"
     ]
    }
   ],
   "source": [
    "data = pd.read_csv('../DATA/titanic.csv')\n",
    "ttDF = pd.DataFrame(data)\n",
    "utils.setHangulFont()"
   ]
  },
  {
   "cell_type": "code",
   "execution_count": 4,
   "metadata": {},
   "outputs": [
    {
     "name": "stderr",
     "output_type": "stream",
     "text": [
      "2025-01-30 15:36:18.388 WARNING streamlit.runtime.scriptrunner_utils.script_run_context: Thread 'MainThread': missing ScriptRunContext! This warning can be ignored when running in bare mode.\n",
      "2025-01-30 15:36:18.866 \n",
      "  \u001b[33m\u001b[1mWarning:\u001b[0m to view this Streamlit app on a browser, run it with the following\n",
      "  command:\n",
      "\n",
      "    streamlit run c:\\Users\\kdt\\anaconda3\\envs\\PY39\\lib\\site-packages\\ipykernel_launcher.py [ARGUMENTS]\n",
      "2025-01-30 15:36:18.866 Thread 'MainThread': missing ScriptRunContext! This warning can be ignored when running in bare mode.\n",
      "2025-01-30 15:36:18.866 Thread 'MainThread': missing ScriptRunContext! This warning can be ignored when running in bare mode.\n",
      "2025-01-30 15:36:18.866 Thread 'MainThread': missing ScriptRunContext! This warning can be ignored when running in bare mode.\n",
      "2025-01-30 15:36:18.866 Thread 'MainThread': missing ScriptRunContext! This warning can be ignored when running in bare mode.\n",
      "2025-01-30 15:36:18.882 Thread 'MainThread': missing ScriptRunContext! This warning can be ignored when running in bare mode.\n",
      "2025-01-30 15:36:18.882 Thread 'MainThread': missing ScriptRunContext! This warning can be ignored when running in bare mode.\n",
      "2025-01-30 15:36:18.882 Thread 'MainThread': missing ScriptRunContext! This warning can be ignored when running in bare mode.\n"
     ]
    },
    {
     "data": {
      "text/plain": [
       "DeltaGenerator()"
      ]
     },
     "execution_count": 4,
     "metadata": {},
     "output_type": "execute_result"
    }
   ],
   "source": [
    "st.title(\n",
    "    '데이터분석 및 시각화 - 타이타닉 호 승객 목록'\n",
    ")\n",
    "st.write(\n",
    "    '''\n",
    "    1. 데이터셋 : titanic.csv \n",
    "    2. 데이터 분석 방법 : 확증적 분석 \n",
    "    2-1 가설 : 아메리칸 드림을 꿈꾸며 탄 독신 남성이 정말로 많았는가?\n",
    "    2-1-1 그렇다면 그들의 사망율은 얼마나 높은가?\n",
    "    2-2 가설 : 독신 남성을 제외한 나머지 인원의 수는 얼마나 되는가?\n",
    "    2-2-1 그들의 생존율은 어떠하였는가?\n",
    "    \n",
    "    3. 목표 데이터: who, adult_male, alone\n",
    "    4. feature/attribute: 나머지\n",
    "    '''\n",
    ")\n",
    "ttDF.head(5)\n",
    "st.divider()"
   ]
  },
  {
   "cell_type": "code",
   "execution_count": 5,
   "metadata": {},
   "outputs": [
    {
     "name": "stderr",
     "output_type": "stream",
     "text": [
      "2025-01-30 15:36:18.904 Thread 'MainThread': missing ScriptRunContext! This warning can be ignored when running in bare mode.\n",
      "2025-01-30 15:36:18.905 Thread 'MainThread': missing ScriptRunContext! This warning can be ignored when running in bare mode.\n",
      "2025-01-30 15:36:18.906 Thread 'MainThread': missing ScriptRunContext! This warning can be ignored when running in bare mode.\n",
      "2025-01-30 15:36:18.906 Thread 'MainThread': missing ScriptRunContext! This warning can be ignored when running in bare mode.\n",
      "2025-01-30 15:36:18.908 Thread 'MainThread': missing ScriptRunContext! This warning can be ignored when running in bare mode.\n",
      "2025-01-30 15:36:18.908 Thread 'MainThread': missing ScriptRunContext! This warning can be ignored when running in bare mode.\n"
     ]
    },
    {
     "data": {
      "text/plain": [
       "DeltaGenerator()"
      ]
     },
     "execution_count": 5,
     "metadata": {},
     "output_type": "execute_result"
    }
   ],
   "source": [
    "st.header(\n",
    "   '[1] 모듈 로딩 및 데이터 준비'\n",
    ")\n",
    "st.code(\n",
    "'''python\n",
    "import pandas as pd                     # 데이터 분석 및 전처리용 모듈\n",
    "import numpy as np                      # 배열(array)을 지원하는 파이썬 패키지\n",
    "\n",
    "import streamlit as st\n",
    "import seaborn as sns\n",
    "import plotly.express as px\n",
    "import matplotlib.pyplot as plt         # 데이터 시각화 즉, 그래프 관련 모듈 \n",
    "import utils                            # 데이터확인용 \n",
    "\n",
    "\n",
    "''')\n",
    "st.divider()"
   ]
  },
  {
   "cell_type": "code",
   "execution_count": 6,
   "metadata": {},
   "outputs": [
    {
     "name": "stderr",
     "output_type": "stream",
     "text": [
      "2025-01-30 15:36:18.929 Thread 'MainThread': missing ScriptRunContext! This warning can be ignored when running in bare mode.\n",
      "2025-01-30 15:36:18.930 Thread 'MainThread': missing ScriptRunContext! This warning can be ignored when running in bare mode.\n",
      "2025-01-30 15:36:18.931 Thread 'MainThread': missing ScriptRunContext! This warning can be ignored when running in bare mode.\n",
      "2025-01-30 15:36:18.932 Thread 'MainThread': missing ScriptRunContext! This warning can be ignored when running in bare mode.\n",
      "2025-01-30 15:36:18.934 Thread 'MainThread': missing ScriptRunContext! This warning can be ignored when running in bare mode.\n",
      "2025-01-30 15:36:18.934 Thread 'MainThread': missing ScriptRunContext! This warning can be ignored when running in bare mode.\n"
     ]
    },
    {
     "data": {
      "text/plain": [
       "DeltaGenerator()"
      ]
     },
     "execution_count": 6,
     "metadata": {},
     "output_type": "execute_result"
    }
   ],
   "source": [
    "st.header(\n",
    "   '[2] 데이터 준비'\n",
    ")\n",
    "st.code(\n",
    "'''python\n",
    "D_FILE = '../DATA/titanic.csv'\n",
    "data1 = pd.read_csv(D_FILE)\n",
    "ttDF = pd.DataFrame(data1)\n",
    "\n",
    "''')\n",
    "st.divider()"
   ]
  },
  {
   "cell_type": "code",
   "execution_count": 7,
   "metadata": {},
   "outputs": [
    {
     "name": "stderr",
     "output_type": "stream",
     "text": [
      "2025-01-30 15:36:18.959 Thread 'MainThread': missing ScriptRunContext! This warning can be ignored when running in bare mode.\n",
      "2025-01-30 15:36:18.960 Thread 'MainThread': missing ScriptRunContext! This warning can be ignored when running in bare mode.\n",
      "2025-01-30 15:36:18.961 Thread 'MainThread': missing ScriptRunContext! This warning can be ignored when running in bare mode.\n",
      "2025-01-30 15:36:18.962 Thread 'MainThread': missing ScriptRunContext! This warning can be ignored when running in bare mode.\n",
      "2025-01-30 15:36:18.964 Thread 'MainThread': missing ScriptRunContext! This warning can be ignored when running in bare mode.\n",
      "2025-01-30 15:36:18.964 Thread 'MainThread': missing ScriptRunContext! This warning can be ignored when running in bare mode.\n",
      "2025-01-30 15:36:18.965 Thread 'MainThread': missing ScriptRunContext! This warning can be ignored when running in bare mode.\n",
      "2025-01-30 15:36:18.965 Thread 'MainThread': missing ScriptRunContext! This warning can be ignored when running in bare mode.\n",
      "2025-01-30 15:36:18.967 Thread 'MainThread': missing ScriptRunContext! This warning can be ignored when running in bare mode.\n",
      "2025-01-30 15:36:18.970 Thread 'MainThread': missing ScriptRunContext! This warning can be ignored when running in bare mode.\n",
      "2025-01-30 15:36:18.978 Thread 'MainThread': missing ScriptRunContext! This warning can be ignored when running in bare mode.\n",
      "2025-01-30 15:36:19.000 Thread 'MainThread': missing ScriptRunContext! This warning can be ignored when running in bare mode.\n",
      "2025-01-30 15:36:19.001 Thread 'MainThread': missing ScriptRunContext! This warning can be ignored when running in bare mode.\n",
      "2025-01-30 15:36:19.002 Thread 'MainThread': missing ScriptRunContext! This warning can be ignored when running in bare mode.\n",
      "2025-01-30 15:36:19.002 Thread 'MainThread': missing ScriptRunContext! This warning can be ignored when running in bare mode.\n",
      "2025-01-30 15:36:19.015 Thread 'MainThread': missing ScriptRunContext! This warning can be ignored when running in bare mode.\n",
      "2025-01-30 15:36:19.015 Thread 'MainThread': missing ScriptRunContext! This warning can be ignored when running in bare mode.\n",
      "2025-01-30 15:36:19.015 Thread 'MainThread': missing ScriptRunContext! This warning can be ignored when running in bare mode.\n",
      "2025-01-30 15:36:19.015 Thread 'MainThread': missing ScriptRunContext! This warning can be ignored when running in bare mode.\n",
      "2025-01-30 15:36:19.015 Thread 'MainThread': missing ScriptRunContext! This warning can be ignored when running in bare mode.\n",
      "2025-01-30 15:36:19.015 Thread 'MainThread': missing ScriptRunContext! This warning can be ignored when running in bare mode.\n",
      "2025-01-30 15:36:19.015 Thread 'MainThread': missing ScriptRunContext! This warning can be ignored when running in bare mode.\n",
      "2025-01-30 15:36:19.015 Thread 'MainThread': missing ScriptRunContext! This warning can be ignored when running in bare mode.\n",
      "2025-01-30 15:36:19.030 Thread 'MainThread': missing ScriptRunContext! This warning can be ignored when running in bare mode.\n",
      "2025-01-30 15:36:19.030 Thread 'MainThread': missing ScriptRunContext! This warning can be ignored when running in bare mode.\n",
      "2025-01-30 15:36:19.030 Thread 'MainThread': missing ScriptRunContext! This warning can be ignored when running in bare mode.\n",
      "2025-01-30 15:36:19.030 Thread 'MainThread': missing ScriptRunContext! This warning can be ignored when running in bare mode.\n",
      "2025-01-30 15:36:19.030 Thread 'MainThread': missing ScriptRunContext! This warning can be ignored when running in bare mode.\n",
      "2025-01-30 15:36:19.030 Thread 'MainThread': missing ScriptRunContext! This warning can be ignored when running in bare mode.\n",
      "2025-01-30 15:36:19.030 Thread 'MainThread': missing ScriptRunContext! This warning can be ignored when running in bare mode.\n",
      "2025-01-30 15:36:19.030 Thread 'MainThread': missing ScriptRunContext! This warning can be ignored when running in bare mode.\n",
      "2025-01-30 15:36:19.030 Thread 'MainThread': missing ScriptRunContext! This warning can be ignored when running in bare mode.\n",
      "2025-01-30 15:36:19.030 Thread 'MainThread': missing ScriptRunContext! This warning can be ignored when running in bare mode.\n",
      "2025-01-30 15:36:19.030 Thread 'MainThread': missing ScriptRunContext! This warning can be ignored when running in bare mode.\n",
      "2025-01-30 15:36:19.030 Thread 'MainThread': missing ScriptRunContext! This warning can be ignored when running in bare mode.\n",
      "2025-01-30 15:36:19.030 Thread 'MainThread': missing ScriptRunContext! This warning can be ignored when running in bare mode.\n",
      "2025-01-30 15:36:19.030 Thread 'MainThread': missing ScriptRunContext! This warning can be ignored when running in bare mode.\n",
      "2025-01-30 15:36:19.030 Thread 'MainThread': missing ScriptRunContext! This warning can be ignored when running in bare mode.\n",
      "2025-01-30 15:36:19.030 Thread 'MainThread': missing ScriptRunContext! This warning can be ignored when running in bare mode.\n",
      "2025-01-30 15:36:19.046 Thread 'MainThread': missing ScriptRunContext! This warning can be ignored when running in bare mode.\n",
      "2025-01-30 15:36:19.046 Thread 'MainThread': missing ScriptRunContext! This warning can be ignored when running in bare mode.\n",
      "2025-01-30 15:36:19.046 Thread 'MainThread': missing ScriptRunContext! This warning can be ignored when running in bare mode.\n",
      "2025-01-30 15:36:19.046 Thread 'MainThread': missing ScriptRunContext! This warning can be ignored when running in bare mode.\n",
      "2025-01-30 15:36:19.046 Thread 'MainThread': missing ScriptRunContext! This warning can be ignored when running in bare mode.\n",
      "2025-01-30 15:36:19.046 Thread 'MainThread': missing ScriptRunContext! This warning can be ignored when running in bare mode.\n",
      "2025-01-30 15:36:19.046 Thread 'MainThread': missing ScriptRunContext! This warning can be ignored when running in bare mode.\n",
      "2025-01-30 15:36:19.046 Thread 'MainThread': missing ScriptRunContext! This warning can be ignored when running in bare mode.\n",
      "2025-01-30 15:36:19.046 Thread 'MainThread': missing ScriptRunContext! This warning can be ignored when running in bare mode.\n",
      "2025-01-30 15:36:19.046 Thread 'MainThread': missing ScriptRunContext! This warning can be ignored when running in bare mode.\n",
      "2025-01-30 15:36:19.046 Thread 'MainThread': missing ScriptRunContext! This warning can be ignored when running in bare mode.\n",
      "2025-01-30 15:36:19.046 Thread 'MainThread': missing ScriptRunContext! This warning can be ignored when running in bare mode.\n",
      "2025-01-30 15:36:19.046 Thread 'MainThread': missing ScriptRunContext! This warning can be ignored when running in bare mode.\n",
      "2025-01-30 15:36:19.046 Thread 'MainThread': missing ScriptRunContext! This warning can be ignored when running in bare mode.\n",
      "2025-01-30 15:36:19.046 Thread 'MainThread': missing ScriptRunContext! This warning can be ignored when running in bare mode.\n",
      "2025-01-30 15:36:19.046 Thread 'MainThread': missing ScriptRunContext! This warning can be ignored when running in bare mode.\n",
      "2025-01-30 15:36:19.046 Thread 'MainThread': missing ScriptRunContext! This warning can be ignored when running in bare mode.\n",
      "2025-01-30 15:36:19.046 Thread 'MainThread': missing ScriptRunContext! This warning can be ignored when running in bare mode.\n",
      "2025-01-30 15:36:19.046 Thread 'MainThread': missing ScriptRunContext! This warning can be ignored when running in bare mode.\n",
      "2025-01-30 15:36:19.061 Thread 'MainThread': missing ScriptRunContext! This warning can be ignored when running in bare mode.\n",
      "2025-01-30 15:36:19.061 Thread 'MainThread': missing ScriptRunContext! This warning can be ignored when running in bare mode.\n",
      "2025-01-30 15:36:19.061 Thread 'MainThread': missing ScriptRunContext! This warning can be ignored when running in bare mode.\n",
      "2025-01-30 15:36:19.061 Thread 'MainThread': missing ScriptRunContext! This warning can be ignored when running in bare mode.\n",
      "2025-01-30 15:36:19.061 Thread 'MainThread': missing ScriptRunContext! This warning can be ignored when running in bare mode.\n",
      "2025-01-30 15:36:19.061 Thread 'MainThread': missing ScriptRunContext! This warning can be ignored when running in bare mode.\n",
      "2025-01-30 15:36:19.061 Thread 'MainThread': missing ScriptRunContext! This warning can be ignored when running in bare mode.\n",
      "2025-01-30 15:36:19.061 Thread 'MainThread': missing ScriptRunContext! This warning can be ignored when running in bare mode.\n",
      "2025-01-30 15:36:19.061 Thread 'MainThread': missing ScriptRunContext! This warning can be ignored when running in bare mode.\n",
      "2025-01-30 15:36:19.061 Thread 'MainThread': missing ScriptRunContext! This warning can be ignored when running in bare mode.\n",
      "2025-01-30 15:36:19.061 Thread 'MainThread': missing ScriptRunContext! This warning can be ignored when running in bare mode.\n",
      "2025-01-30 15:36:19.061 Thread 'MainThread': missing ScriptRunContext! This warning can be ignored when running in bare mode.\n",
      "2025-01-30 15:36:19.061 Thread 'MainThread': missing ScriptRunContext! This warning can be ignored when running in bare mode.\n",
      "2025-01-30 15:36:19.061 Thread 'MainThread': missing ScriptRunContext! This warning can be ignored when running in bare mode.\n",
      "2025-01-30 15:36:19.061 Thread 'MainThread': missing ScriptRunContext! This warning can be ignored when running in bare mode.\n",
      "2025-01-30 15:36:19.061 Thread 'MainThread': missing ScriptRunContext! This warning can be ignored when running in bare mode.\n",
      "2025-01-30 15:36:19.077 Thread 'MainThread': missing ScriptRunContext! This warning can be ignored when running in bare mode.\n",
      "2025-01-30 15:36:19.078 Thread 'MainThread': missing ScriptRunContext! This warning can be ignored when running in bare mode.\n",
      "2025-01-30 15:36:19.078 Thread 'MainThread': missing ScriptRunContext! This warning can be ignored when running in bare mode.\n",
      "2025-01-30 15:36:19.078 Thread 'MainThread': missing ScriptRunContext! This warning can be ignored when running in bare mode.\n",
      "2025-01-30 15:36:19.078 Thread 'MainThread': missing ScriptRunContext! This warning can be ignored when running in bare mode.\n",
      "2025-01-30 15:36:19.078 Thread 'MainThread': missing ScriptRunContext! This warning can be ignored when running in bare mode.\n",
      "2025-01-30 15:36:19.078 Thread 'MainThread': missing ScriptRunContext! This warning can be ignored when running in bare mode.\n",
      "2025-01-30 15:36:19.078 Thread 'MainThread': missing ScriptRunContext! This warning can be ignored when running in bare mode.\n",
      "2025-01-30 15:36:19.078 Thread 'MainThread': missing ScriptRunContext! This warning can be ignored when running in bare mode.\n",
      "2025-01-30 15:36:19.078 Thread 'MainThread': missing ScriptRunContext! This warning can be ignored when running in bare mode.\n",
      "2025-01-30 15:36:19.078 Thread 'MainThread': missing ScriptRunContext! This warning can be ignored when running in bare mode.\n",
      "2025-01-30 15:36:19.078 Thread 'MainThread': missing ScriptRunContext! This warning can be ignored when running in bare mode.\n",
      "2025-01-30 15:36:19.078 Thread 'MainThread': missing ScriptRunContext! This warning can be ignored when running in bare mode.\n",
      "2025-01-30 15:36:19.093 Thread 'MainThread': missing ScriptRunContext! This warning can be ignored when running in bare mode.\n",
      "2025-01-30 15:36:19.093 Thread 'MainThread': missing ScriptRunContext! This warning can be ignored when running in bare mode.\n",
      "2025-01-30 15:36:19.093 Thread 'MainThread': missing ScriptRunContext! This warning can be ignored when running in bare mode.\n",
      "2025-01-30 15:36:19.101 Thread 'MainThread': missing ScriptRunContext! This warning can be ignored when running in bare mode.\n",
      "2025-01-30 15:36:19.102 Thread 'MainThread': missing ScriptRunContext! This warning can be ignored when running in bare mode.\n",
      "2025-01-30 15:36:19.102 Thread 'MainThread': missing ScriptRunContext! This warning can be ignored when running in bare mode.\n",
      "2025-01-30 15:36:19.105 Thread 'MainThread': missing ScriptRunContext! This warning can be ignored when running in bare mode.\n",
      "2025-01-30 15:36:19.105 Thread 'MainThread': missing ScriptRunContext! This warning can be ignored when running in bare mode.\n",
      "2025-01-30 15:36:19.105 Thread 'MainThread': missing ScriptRunContext! This warning can be ignored when running in bare mode.\n",
      "2025-01-30 15:36:19.105 Thread 'MainThread': missing ScriptRunContext! This warning can be ignored when running in bare mode.\n",
      "2025-01-30 15:36:19.109 Thread 'MainThread': missing ScriptRunContext! This warning can be ignored when running in bare mode.\n",
      "2025-01-30 15:36:19.109 Thread 'MainThread': missing ScriptRunContext! This warning can be ignored when running in bare mode.\n",
      "2025-01-30 15:36:19.109 Thread 'MainThread': missing ScriptRunContext! This warning can be ignored when running in bare mode.\n",
      "2025-01-30 15:36:19.113 Thread 'MainThread': missing ScriptRunContext! This warning can be ignored when running in bare mode.\n",
      "2025-01-30 15:36:19.114 Thread 'MainThread': missing ScriptRunContext! This warning can be ignored when running in bare mode.\n",
      "2025-01-30 15:36:19.114 Thread 'MainThread': missing ScriptRunContext! This warning can be ignored when running in bare mode.\n",
      "2025-01-30 15:36:19.114 Thread 'MainThread': missing ScriptRunContext! This warning can be ignored when running in bare mode.\n",
      "2025-01-30 15:36:19.114 Thread 'MainThread': missing ScriptRunContext! This warning can be ignored when running in bare mode.\n",
      "2025-01-30 15:36:19.114 Thread 'MainThread': missing ScriptRunContext! This warning can be ignored when running in bare mode.\n",
      "2025-01-30 15:36:19.114 Thread 'MainThread': missing ScriptRunContext! This warning can be ignored when running in bare mode.\n",
      "2025-01-30 15:36:19.114 Thread 'MainThread': missing ScriptRunContext! This warning can be ignored when running in bare mode.\n",
      "2025-01-30 15:36:19.114 Thread 'MainThread': missing ScriptRunContext! This warning can be ignored when running in bare mode.\n",
      "2025-01-30 15:36:19.124 Thread 'MainThread': missing ScriptRunContext! This warning can be ignored when running in bare mode.\n",
      "2025-01-30 15:36:19.124 Thread 'MainThread': missing ScriptRunContext! This warning can be ignored when running in bare mode.\n",
      "2025-01-30 15:36:19.124 Thread 'MainThread': missing ScriptRunContext! This warning can be ignored when running in bare mode.\n",
      "2025-01-30 15:36:19.129 Thread 'MainThread': missing ScriptRunContext! This warning can be ignored when running in bare mode.\n",
      "2025-01-30 15:36:19.129 Thread 'MainThread': missing ScriptRunContext! This warning can be ignored when running in bare mode.\n",
      "2025-01-30 15:36:19.129 Thread 'MainThread': missing ScriptRunContext! This warning can be ignored when running in bare mode.\n",
      "2025-01-30 15:36:19.134 Thread 'MainThread': missing ScriptRunContext! This warning can be ignored when running in bare mode.\n",
      "2025-01-30 15:36:19.134 Thread 'MainThread': missing ScriptRunContext! This warning can be ignored when running in bare mode.\n",
      "2025-01-30 15:36:19.134 Thread 'MainThread': missing ScriptRunContext! This warning can be ignored when running in bare mode.\n",
      "2025-01-30 15:36:19.137 Thread 'MainThread': missing ScriptRunContext! This warning can be ignored when running in bare mode.\n",
      "2025-01-30 15:36:19.137 Thread 'MainThread': missing ScriptRunContext! This warning can be ignored when running in bare mode.\n",
      "2025-01-30 15:36:19.137 Thread 'MainThread': missing ScriptRunContext! This warning can be ignored when running in bare mode.\n",
      "2025-01-30 15:36:19.140 Thread 'MainThread': missing ScriptRunContext! This warning can be ignored when running in bare mode.\n",
      "2025-01-30 15:36:19.141 Thread 'MainThread': missing ScriptRunContext! This warning can be ignored when running in bare mode.\n",
      "2025-01-30 15:36:19.141 Thread 'MainThread': missing ScriptRunContext! This warning can be ignored when running in bare mode.\n",
      "2025-01-30 15:36:19.141 Thread 'MainThread': missing ScriptRunContext! This warning can be ignored when running in bare mode.\n"
     ]
    },
    {
     "name": "stdout",
     "output_type": "stream",
     "text": [
      "<class 'pandas.core.frame.DataFrame'>\n",
      "RangeIndex: 891 entries, 0 to 890\n",
      "Data columns (total 15 columns):\n",
      " #   Column       Non-Null Count  Dtype  \n",
      "---  ------       --------------  -----  \n",
      " 0   survived     891 non-null    int64  \n",
      " 1   pclass       891 non-null    int64  \n",
      " 2   sex          891 non-null    object \n",
      " 3   age          714 non-null    float64\n",
      " 4   sibsp        891 non-null    int64  \n",
      " 5   parch        891 non-null    int64  \n",
      " 6   fare         891 non-null    float64\n",
      " 7   embarked     889 non-null    object \n",
      " 8   class        891 non-null    object \n",
      " 9   who          891 non-null    object \n",
      " 10  adult_male   891 non-null    bool   \n",
      " 11  deck         203 non-null    object \n",
      " 12  embark_town  889 non-null    object \n",
      " 13  alive        891 non-null    object \n",
      " 14  alone        891 non-null    bool   \n",
      "dtypes: bool(2), float64(2), int64(4), object(7)\n",
      "memory usage: 92.4+ KB\n",
      "\n",
      "[survived컬럼의 고유값]=====\n",
      "갯수 :  2\n",
      "[0 1]\n",
      "survived\n",
      "0    549\n",
      "1    342\n",
      "Name: count, dtype: int64\n",
      "\n",
      "[pclass컬럼의 고유값]=====\n",
      "갯수 :  3\n",
      "[3 1 2]\n",
      "pclass\n",
      "3    491\n",
      "1    216\n",
      "2    184\n",
      "Name: count, dtype: int64\n",
      "\n",
      "[sex컬럼의 고유값]=====\n",
      "갯수 :  2\n",
      "['male' 'female']\n",
      "sex\n",
      "male      577\n",
      "female    314\n",
      "Name: count, dtype: int64\n",
      "\n",
      "[age컬럼의 고유값]=====\n",
      "갯수 :  88\n",
      "[22.   38.   26.   35.     nan 54.    2.   27.   14.    4.   58.   20.\n",
      " 39.   55.   31.   34.   15.   28.    8.   19.   40.   66.   42.   21.\n",
      " 18.    3.    7.   49.   29.   65.   28.5   5.   11.   45.   17.   32.\n",
      " 16.   25.    0.83 30.   33.   23.   24.   46.   59.   71.   37.   47.\n",
      " 14.5  70.5  32.5  12.    9.   36.5  51.   55.5  40.5  44.    1.   61.\n",
      " 56.   50.   36.   45.5  20.5  62.   41.   52.   63.   23.5   0.92 43.\n",
      " 60.   10.   64.   13.   48.    0.75 53.   57.   80.   70.   24.5   6.\n",
      "  0.67 30.5   0.42 34.5  74.  ]\n",
      "age\n",
      "24.00    30\n",
      "22.00    27\n",
      "18.00    26\n",
      "19.00    25\n",
      "28.00    25\n",
      "         ..\n",
      "36.50     1\n",
      "55.50     1\n",
      "0.92      1\n",
      "23.50     1\n",
      "74.00     1\n",
      "Name: count, Length: 88, dtype: int64\n",
      "\n",
      "[sibsp컬럼의 고유값]=====\n",
      "갯수 :  7\n",
      "[1 0 3 4 2 5 8]\n",
      "sibsp\n",
      "0    608\n",
      "1    209\n",
      "2     28\n",
      "4     18\n",
      "3     16\n",
      "8      7\n",
      "5      5\n",
      "Name: count, dtype: int64\n",
      "\n",
      "[parch컬럼의 고유값]=====\n",
      "갯수 :  7\n",
      "[0 1 2 5 3 4 6]\n",
      "parch\n",
      "0    678\n",
      "1    118\n",
      "2     80\n",
      "5      5\n",
      "3      5\n",
      "4      4\n",
      "6      1\n",
      "Name: count, dtype: int64\n",
      "\n",
      "[fare컬럼의 고유값]=====\n",
      "갯수 :  248\n",
      "[  7.25    71.2833   7.925   53.1      8.05     8.4583  51.8625  21.075\n",
      "  11.1333  30.0708  16.7     26.55    31.275    7.8542  16.      29.125\n",
      "  13.      18.       7.225   26.       8.0292  35.5     31.3875 263.\n",
      "   7.8792   7.8958  27.7208 146.5208   7.75    10.5     82.1708  52.\n",
      "   7.2292  11.2417   9.475   21.      41.5792  15.5     21.6792  17.8\n",
      "  39.6875   7.8     76.7292  61.9792  27.75    46.9     80.      83.475\n",
      "  27.9     15.2458   8.1583   8.6625  73.5     14.4542  56.4958   7.65\n",
      "  29.      12.475    9.       9.5      7.7875  47.1     15.85    34.375\n",
      "  61.175   20.575   34.6542  63.3583  23.      77.2875   8.6542   7.775\n",
      "  24.15     9.825   14.4583 247.5208   7.1417  22.3583   6.975    7.05\n",
      "  14.5     15.0458  26.2833   9.2167  79.2      6.75    11.5     36.75\n",
      "   7.7958  12.525   66.6      7.3125  61.3792   7.7333  69.55    16.1\n",
      "  15.75    20.525   55.      25.925   33.5     30.6958  25.4667  28.7125\n",
      "   0.      15.05    39.      22.025   50.       8.4042   6.4958  10.4625\n",
      "  18.7875  31.     113.275   27.      76.2917  90.       9.35    13.5\n",
      "   7.55    26.25    12.275    7.125   52.5542  20.2125  86.5    512.3292\n",
      "  79.65   153.4625 135.6333  19.5     29.7     77.9583  20.25    78.85\n",
      "  91.0792  12.875    8.85   151.55    30.5     23.25    12.35   110.8833\n",
      " 108.9     24.      56.9292  83.1583 262.375   14.     164.8667 134.5\n",
      "   6.2375  57.9792  28.5    133.65    15.9      9.225   35.      75.25\n",
      "  69.3     55.4417 211.5      4.0125 227.525   15.7417   7.7292  12.\n",
      " 120.      12.65    18.75     6.8583  32.5      7.875   14.4     55.9\n",
      "   8.1125  81.8583  19.2583  19.9667  89.1042  38.5      7.725   13.7917\n",
      "   9.8375   7.0458   7.5208  12.2875   9.5875  49.5042  78.2667  15.1\n",
      "   7.6292  22.525   26.2875  59.4      7.4958  34.0208  93.5    221.7792\n",
      " 106.425   49.5     71.      13.8625   7.8292  39.6     17.4     51.4792\n",
      "  26.3875  30.      40.125    8.7125  15.      33.      42.4     15.55\n",
      "  65.      32.3208   7.0542   8.4333  25.5875   9.8417   8.1375  10.1708\n",
      " 211.3375  57.      13.4167   7.7417   9.4833   7.7375   8.3625  23.45\n",
      "  25.9292   8.6833   8.5167   7.8875  37.0042   6.45     6.95     8.3\n",
      "   6.4375  39.4     14.1083  13.8583  50.4958   5.       9.8458  10.5167]\n",
      "fare\n",
      "8.0500     43\n",
      "13.0000    42\n",
      "7.8958     38\n",
      "7.7500     34\n",
      "26.0000    31\n",
      "           ..\n",
      "35.0000     1\n",
      "28.5000     1\n",
      "6.2375      1\n",
      "14.0000     1\n",
      "10.5167     1\n",
      "Name: count, Length: 248, dtype: int64\n",
      "\n",
      "[embarked컬럼의 고유값]=====\n",
      "갯수 :  3\n",
      "['S' 'C' 'Q' nan]\n",
      "embarked\n",
      "S    644\n",
      "C    168\n",
      "Q     77\n",
      "Name: count, dtype: int64\n",
      "\n",
      "[class컬럼의 고유값]=====\n",
      "갯수 :  3\n",
      "['Third' 'First' 'Second']\n",
      "class\n",
      "Third     491\n",
      "First     216\n",
      "Second    184\n",
      "Name: count, dtype: int64\n",
      "\n",
      "[who컬럼의 고유값]=====\n",
      "갯수 :  3\n",
      "['man' 'woman' 'child']\n",
      "who\n",
      "man      537\n",
      "woman    271\n",
      "child     83\n",
      "Name: count, dtype: int64\n",
      "\n",
      "[adult_male컬럼의 고유값]=====\n",
      "갯수 :  2\n",
      "[ True False]\n",
      "adult_male\n",
      "True     537\n",
      "False    354\n",
      "Name: count, dtype: int64\n",
      "\n",
      "[deck컬럼의 고유값]=====\n",
      "갯수 :  7\n",
      "[nan 'C' 'E' 'G' 'D' 'A' 'B' 'F']\n",
      "deck\n",
      "C    59\n",
      "B    47\n",
      "D    33\n",
      "E    32\n",
      "A    15\n",
      "F    13\n",
      "G     4\n",
      "Name: count, dtype: int64\n",
      "\n",
      "[embark_town컬럼의 고유값]=====\n",
      "갯수 :  3\n",
      "['Southampton' 'Cherbourg' 'Queenstown' nan]\n",
      "embark_town\n",
      "Southampton    644\n",
      "Cherbourg      168\n",
      "Queenstown      77\n",
      "Name: count, dtype: int64\n",
      "\n",
      "[alive컬럼의 고유값]=====\n",
      "갯수 :  2\n",
      "['no' 'yes']\n",
      "alive\n",
      "no     549\n",
      "yes    342\n",
      "Name: count, dtype: int64\n",
      "\n",
      "[alone컬럼의 고유값]=====\n",
      "갯수 :  2\n",
      "[False  True]\n",
      "alone\n",
      "True     537\n",
      "False    354\n",
      "Name: count, dtype: int64\n"
     ]
    },
    {
     "name": "stderr",
     "output_type": "stream",
     "text": [
      "2025-01-30 15:36:19.145 Thread 'MainThread': missing ScriptRunContext! This warning can be ignored when running in bare mode.\n",
      "2025-01-30 15:36:19.147 Thread 'MainThread': missing ScriptRunContext! This warning can be ignored when running in bare mode.\n",
      "2025-01-30 15:36:19.147 Thread 'MainThread': missing ScriptRunContext! This warning can be ignored when running in bare mode.\n",
      "2025-01-30 15:36:19.147 Thread 'MainThread': missing ScriptRunContext! This warning can be ignored when running in bare mode.\n",
      "2025-01-30 15:36:19.147 Thread 'MainThread': missing ScriptRunContext! This warning can be ignored when running in bare mode.\n",
      "2025-01-30 15:36:19.147 Thread 'MainThread': missing ScriptRunContext! This warning can be ignored when running in bare mode.\n",
      "2025-01-30 15:36:19.147 Thread 'MainThread': missing ScriptRunContext! This warning can be ignored when running in bare mode.\n",
      "2025-01-30 15:36:19.147 Thread 'MainThread': missing ScriptRunContext! This warning can be ignored when running in bare mode.\n",
      "2025-01-30 15:36:19.147 Thread 'MainThread': missing ScriptRunContext! This warning can be ignored when running in bare mode.\n",
      "2025-01-30 15:36:19.147 Thread 'MainThread': missing ScriptRunContext! This warning can be ignored when running in bare mode.\n",
      "2025-01-30 15:36:19.147 Thread 'MainThread': missing ScriptRunContext! This warning can be ignored when running in bare mode.\n",
      "2025-01-30 15:36:19.147 Thread 'MainThread': missing ScriptRunContext! This warning can be ignored when running in bare mode.\n",
      "2025-01-30 15:36:19.147 Thread 'MainThread': missing ScriptRunContext! This warning can be ignored when running in bare mode.\n",
      "2025-01-30 15:36:19.147 Thread 'MainThread': missing ScriptRunContext! This warning can be ignored when running in bare mode.\n",
      "2025-01-30 15:36:19.147 Thread 'MainThread': missing ScriptRunContext! This warning can be ignored when running in bare mode.\n",
      "2025-01-30 15:36:19.147 Thread 'MainThread': missing ScriptRunContext! This warning can be ignored when running in bare mode.\n",
      "2025-01-30 15:36:19.157 Thread 'MainThread': missing ScriptRunContext! This warning can be ignored when running in bare mode.\n",
      "2025-01-30 15:36:19.157 Thread 'MainThread': missing ScriptRunContext! This warning can be ignored when running in bare mode.\n",
      "2025-01-30 15:36:19.157 Thread 'MainThread': missing ScriptRunContext! This warning can be ignored when running in bare mode.\n",
      "2025-01-30 15:36:19.157 Thread 'MainThread': missing ScriptRunContext! This warning can be ignored when running in bare mode.\n",
      "2025-01-30 15:36:19.157 Thread 'MainThread': missing ScriptRunContext! This warning can be ignored when running in bare mode.\n",
      "2025-01-30 15:36:19.157 Thread 'MainThread': missing ScriptRunContext! This warning can be ignored when running in bare mode.\n",
      "2025-01-30 15:36:19.157 Thread 'MainThread': missing ScriptRunContext! This warning can be ignored when running in bare mode.\n",
      "2025-01-30 15:36:19.157 Thread 'MainThread': missing ScriptRunContext! This warning can be ignored when running in bare mode.\n",
      "2025-01-30 15:36:19.157 Thread 'MainThread': missing ScriptRunContext! This warning can be ignored when running in bare mode.\n",
      "2025-01-30 15:36:19.157 Thread 'MainThread': missing ScriptRunContext! This warning can be ignored when running in bare mode.\n",
      "2025-01-30 15:36:19.157 Thread 'MainThread': missing ScriptRunContext! This warning can be ignored when running in bare mode.\n",
      "2025-01-30 15:36:19.157 Thread 'MainThread': missing ScriptRunContext! This warning can be ignored when running in bare mode.\n",
      "2025-01-30 15:36:19.157 Thread 'MainThread': missing ScriptRunContext! This warning can be ignored when running in bare mode.\n",
      "2025-01-30 15:36:19.172 Thread 'MainThread': missing ScriptRunContext! This warning can be ignored when running in bare mode.\n",
      "2025-01-30 15:36:19.172 Thread 'MainThread': missing ScriptRunContext! This warning can be ignored when running in bare mode.\n",
      "2025-01-30 15:36:19.172 Thread 'MainThread': missing ScriptRunContext! This warning can be ignored when running in bare mode.\n",
      "2025-01-30 15:36:19.172 Thread 'MainThread': missing ScriptRunContext! This warning can be ignored when running in bare mode.\n",
      "2025-01-30 15:36:19.172 Thread 'MainThread': missing ScriptRunContext! This warning can be ignored when running in bare mode.\n",
      "2025-01-30 15:36:19.172 Thread 'MainThread': missing ScriptRunContext! This warning can be ignored when running in bare mode.\n",
      "2025-01-30 15:36:19.172 Thread 'MainThread': missing ScriptRunContext! This warning can be ignored when running in bare mode.\n",
      "2025-01-30 15:36:19.172 Thread 'MainThread': missing ScriptRunContext! This warning can be ignored when running in bare mode.\n",
      "2025-01-30 15:36:19.179 Thread 'MainThread': missing ScriptRunContext! This warning can be ignored when running in bare mode.\n",
      "2025-01-30 15:36:19.182 Thread 'MainThread': missing ScriptRunContext! This warning can be ignored when running in bare mode.\n",
      "2025-01-30 15:36:19.182 Thread 'MainThread': missing ScriptRunContext! This warning can be ignored when running in bare mode.\n",
      "2025-01-30 15:36:19.182 Thread 'MainThread': missing ScriptRunContext! This warning can be ignored when running in bare mode.\n",
      "2025-01-30 15:36:19.182 Thread 'MainThread': missing ScriptRunContext! This warning can be ignored when running in bare mode.\n"
     ]
    },
    {
     "data": {
      "text/plain": [
       "DeltaGenerator()"
      ]
     },
     "execution_count": 7,
     "metadata": {},
     "output_type": "execute_result"
    }
   ],
   "source": [
    "st.header(\n",
    "   '[3] 데이터 확인 및 전처리'\n",
    ")\n",
    "col1, col2 = st.columns(2)\n",
    "with col1:\n",
    "    st.code(\n",
    "        '''\n",
    "    ttDF.head(3)                   # 데이터확인용 \n",
    "    ''')\n",
    "    ttDF.head(3) \n",
    "\n",
    "    st.code(\n",
    "        '''\n",
    "    ttDF.info()                  # 데이터확인용 \n",
    "    ''')\n",
    "    ttDF.info()\n",
    "\n",
    "    st.code(\n",
    "        '''\n",
    "    utils.printUniqueValue(ttDF)                  # 데이터확인용 \n",
    "    ''')\n",
    "    st.write(\n",
    "    {utils.printUniqueValue(ttDF)}\n",
    "    )\n",
    "with col2:\n",
    "    fig, ax = plt.subplots(figsize=(4, 8))\n",
    "    utils.returnUniqueValue(ttDF)\n",
    "    \n",
    "st.divider()"
   ]
  },
  {
   "cell_type": "code",
   "execution_count": 8,
   "metadata": {},
   "outputs": [
    {
     "name": "stderr",
     "output_type": "stream",
     "text": [
      "2025-01-30 15:36:19.197 Thread 'MainThread': missing ScriptRunContext! This warning can be ignored when running in bare mode.\n",
      "2025-01-30 15:36:19.197 Thread 'MainThread': missing ScriptRunContext! This warning can be ignored when running in bare mode.\n",
      "2025-01-30 15:36:19.197 Thread 'MainThread': missing ScriptRunContext! This warning can be ignored when running in bare mode.\n",
      "2025-01-30 15:36:19.197 Thread 'MainThread': missing ScriptRunContext! This warning can be ignored when running in bare mode.\n",
      "2025-01-30 15:36:19.207 Thread 'MainThread': missing ScriptRunContext! This warning can be ignored when running in bare mode.\n",
      "2025-01-30 15:36:19.208 Thread 'MainThread': missing ScriptRunContext! This warning can be ignored when running in bare mode.\n"
     ]
    },
    {
     "data": {
      "text/plain": [
       "DeltaGenerator()"
      ]
     },
     "execution_count": 8,
     "metadata": {},
     "output_type": "execute_result"
    }
   ],
   "source": [
    "st.write('''\n",
    "ttDF.isna().sum()\n",
    "deck 는 688/891 이 nan이므로 데이터의 가치가 없음.''')\n",
    "st.code(\n",
    "'''\n",
    "ttDF = ttDF.drop(columns='deck').copy()\n",
    "tdDF = ttDF[ttDF['survived']==0]\n",
    "utils.printUniqueValue(tdDF)''')"
   ]
  },
  {
   "cell_type": "markdown",
   "metadata": {},
   "source": [
    "age를 살펴보니 25%가량의 nan 데이터 확인\n",
    "범위가 다양하게 퍼져있고, 특징이 보이지 않아 삭제하기 보단 따로 분류하여\n",
    "미상 그룹을 만들기로 함."
   ]
  },
  {
   "cell_type": "code",
   "execution_count": 9,
   "metadata": {},
   "outputs": [
    {
     "name": "stderr",
     "output_type": "stream",
     "text": [
      "2025-01-30 15:36:19.251 Thread 'MainThread': missing ScriptRunContext! This warning can be ignored when running in bare mode.\n",
      "2025-01-30 15:36:19.251 Thread 'MainThread': missing ScriptRunContext! This warning can be ignored when running in bare mode.\n",
      "2025-01-30 15:36:19.253 Thread 'MainThread': missing ScriptRunContext! This warning can be ignored when running in bare mode.\n",
      "2025-01-30 15:36:19.253 Thread 'MainThread': missing ScriptRunContext! This warning can be ignored when running in bare mode.\n"
     ]
    },
    {
     "data": {
      "text/plain": [
       "DeltaGenerator()"
      ]
     },
     "execution_count": 9,
     "metadata": {},
     "output_type": "execute_result"
    }
   ],
   "source": [
    "# 21세 기준이므로\n",
    "# 21세 미만, 21~30, 31~40, 41~50, 51~60, 그이상 으로 하여 6가지분류로 그룹화\n",
    "bins = [0, 21, 30, 40, 50, 60, float('inf')]\n",
    "labels = ['21under', '20대', '30대', '40대', '50대', '60over']\n",
    "ttDF['age_group'] = pd.cut(ttDF['age'], bins=bins, labels=labels, right=False)\n",
    "\n",
    "# 위에서는 범위로 지정하였기 때문에 nan 값만을 따로 지정할수 없음\n",
    "# 따로 범주를 추가하고, 데이터에도 별개로 처리\n",
    "ordered_labels = ['missing', '21under', '20대', '30대', '40대', '50대', '60over']\n",
    "ttDF['age_group'] = pd.Categorical(ttDF['age_group'], categories=ordered_labels, ordered=True)\n",
    "\n",
    "\n",
    "ttDF['age_group'] = ttDF['age_group'].fillna('missing')\n",
    "ttDF['age_group'].isna().sum()\n",
    "\n",
    "ttDFama = ttDF[(ttDF['adult_male'] == True) & (ttDF['alone'] == True)]\n",
    "ttDFama['class'].value_counts()\n",
    "ttDFama['age'].isna().sum()\n",
    "ttDFama['age'].min()\n",
    "ttDFama['age'].max()\n",
    "# 16세 데이터가 포함됨을 확인 \n",
    "# 조사해보니 21세가 기준임을 확인.\n",
    "# 21세 미만이며 성인남성으로 분류된 경우가 63건.\n",
    "# age 분류의 정리가 필요.\n",
    "ttDF[(ttDF['age'] < 21) & (ttDF['adult_male']==True)].count()  # 63\n",
    "# ttDF[(ttDF['age'] < 21)].count()      # 180\n",
    "\n",
    "ttDFama['age_group'].isna().sum()\n",
    "\n",
    "st.code('''\n",
    "# 21세 기준이므로\n",
    "# 21세 미만, 21~30, 31~40, 41~50, 51~60, 그이상 으로 하여 6가지분류로 그룹화\n",
    "bins = [0, 21, 30, 40, 50, 60, float('inf')]\n",
    "labels = ['21under', '20대', '30대', '40대', '50대', '60over']\n",
    "ttDF['age_group'] = pd.cut(ttDF['age'], bins=bins, labels=labels, right=False)\n",
    "\n",
    "# 위에서는 범위로 지정하였기 때문에 nan 값만을 따로 지정할수 없음\n",
    "# 따로 범주를 추가하고, 데이터에도 별개로 처리\n",
    "ordered_labels = ['missing', '21under', '20대', '30대', '40대', '50대', '60over']\n",
    "ttDF['age_group'] = pd.Categorical(ttDF['age_group'], categories=ordered_labels, ordered=True)\n",
    "\n",
    "\n",
    "ttDF['age_group'] = ttDF['age_group'].fillna('missing')\n",
    "ttDF['age_group'].isna().sum()\n",
    "    \n",
    "ttDFama = ttDF[(ttDF['adult_male'] == True) & (ttDF['alone'] == True)]\n",
    "ttDFama['class'].value_counts()\n",
    "ttDFama['age'].isna().sum()\n",
    "ttDFama['age'].min()\n",
    "ttDFama['age'].max()\n",
    "# 16세 데이터가 포함됨을 확인 \n",
    "# 조사해보니 21세가 기준임을 확인.\n",
    "# 21세 미만이며 성인남성으로 분류된 경우가 63건.\n",
    "# age 분류의 정리가 필요.\n",
    "ttDF[(ttDF['age'] < 21) & (ttDF['adult_male']==True)].count()  # 63\n",
    "# ttDF[(ttDF['age'] < 21)].count()      # 180\n",
    "\n",
    "ttDFama['age_group'].isna().sum()        \n",
    "                \n",
    "'''    \n",
    ")\n",
    "st.divider()"
   ]
  },
  {
   "cell_type": "code",
   "execution_count": 10,
   "metadata": {},
   "outputs": [
    {
     "data": {
      "text/plain": [
       "array([204, 180, 177, 167,  89,  48,  26], dtype=int64)"
      ]
     },
     "execution_count": 10,
     "metadata": {},
     "output_type": "execute_result"
    }
   ],
   "source": [
    "# ttDF['age_group'].value_counts().values"
   ]
  },
  {
   "cell_type": "code",
   "execution_count": 11,
   "metadata": {},
   "outputs": [
    {
     "name": "stderr",
     "output_type": "stream",
     "text": [
      "C:\\Users\\kdt\\AppData\\Local\\Temp\\ipykernel_28980\\4075655968.py:5: UserWarning: FigureCanvasAgg is non-interactive, and thus cannot be shown\n",
      "  plt.show()\n",
      "2025-01-30 15:36:19.357 Thread 'MainThread': missing ScriptRunContext! This warning can be ignored when running in bare mode.\n",
      "2025-01-30 15:36:19.358 Thread 'MainThread': missing ScriptRunContext! This warning can be ignored when running in bare mode.\n"
     ]
    },
    {
     "data": {
      "text/plain": [
       "DeltaGenerator()"
      ]
     },
     "execution_count": 11,
     "metadata": {},
     "output_type": "execute_result"
    }
   ],
   "source": [
    "col1, col2 = st.columns(2)\n",
    "with col1:\n",
    "        \n",
    "        st.write('각 나이대별로 age 그룹 분리. ')        \n",
    "        st.write(ttDF['age_group'].value_counts())\n",
    "\n",
    "with col2:\n",
    "        plt.figure(figsize=(10,6))\n",
    "        # ttDF['age_group'].value_counts()\n",
    "        plt.pie(ttDF['age_group'].value_counts().values, labels = ttDF['age_group'].value_counts().index,\n",
    "                autopct='%1.1f%%', startangle=90)\n",
    "        plt.title('age_group - all', fontdict={'size':'large'})\n",
    "        st.pyplot(plt)\n",
    "\n",
    "st.divider()"
   ]
  },
  {
   "cell_type": "code",
   "execution_count": 12,
   "metadata": {},
   "outputs": [
    {
     "name": "stderr",
     "output_type": "stream",
     "text": [
      "2025-01-30 15:36:19.393 Thread 'MainThread': missing ScriptRunContext! This warning can be ignored when running in bare mode.\n",
      "2025-01-30 15:36:19.395 Thread 'MainThread': missing ScriptRunContext! This warning can be ignored when running in bare mode.\n",
      "2025-01-30 15:36:19.397 Thread 'MainThread': missing ScriptRunContext! This warning can be ignored when running in bare mode.\n",
      "2025-01-30 15:36:19.398 Thread 'MainThread': missing ScriptRunContext! This warning can be ignored when running in bare mode.\n",
      "2025-01-30 15:36:19.398 Thread 'MainThread': missing ScriptRunContext! This warning can be ignored when running in bare mode.\n",
      "2025-01-30 15:36:19.399 Thread 'MainThread': missing ScriptRunContext! This warning can be ignored when running in bare mode.\n",
      "2025-01-30 15:36:19.399 Thread 'MainThread': missing ScriptRunContext! This warning can be ignored when running in bare mode.\n",
      "2025-01-30 15:36:19.402 Thread 'MainThread': missing ScriptRunContext! This warning can be ignored when running in bare mode.\n",
      "2025-01-30 15:36:19.402 Thread 'MainThread': missing ScriptRunContext! This warning can be ignored when running in bare mode.\n",
      "2025-01-30 15:36:19.421 Thread 'MainThread': missing ScriptRunContext! This warning can be ignored when running in bare mode.\n",
      "2025-01-30 15:36:19.530 Thread 'MainThread': missing ScriptRunContext! This warning can be ignored when running in bare mode.\n",
      "2025-01-30 15:36:19.530 Thread 'MainThread': missing ScriptRunContext! This warning can be ignored when running in bare mode.\n",
      "2025-01-30 15:36:19.530 Thread 'MainThread': missing ScriptRunContext! This warning can be ignored when running in bare mode.\n",
      "2025-01-30 15:36:19.530 Thread 'MainThread': missing ScriptRunContext! This warning can be ignored when running in bare mode.\n"
     ]
    },
    {
     "name": "stdout",
     "output_type": "stream",
     "text": [
      "(2,)\n"
     ]
    },
    {
     "data": {
      "text/plain": [
       "DeltaGenerator()"
      ]
     },
     "execution_count": 12,
     "metadata": {},
     "output_type": "execute_result"
    }
   ],
   "source": [
    "ttDF.loc[(ttDF['age_group'] == '21under') & (ttDF['sex'] == 'female'), 'adult_male'] = False\n",
    "ama = (ttDF[(ttDF['alone']==True)&(ttDF['age']>21)&(ttDF['sex']=='male')]['class'].value_counts())\n",
    "\n",
    "col1, col2 = st.columns(2)\n",
    "\n",
    "with col1:\n",
    "    st.write('''전체 891명 중, \n",
    "             단독으로 탑승한 성인남성은 242명''')\n",
    "    st.write(ama)\n",
    "    \n",
    "with col2:\n",
    "    #성인 남성, 단독 총 410\n",
    "    # 탑승항별\n",
    "    plt.figure(figsize=(12,6))\n",
    "    agg_count=ttDFama['alive'].value_counts()\n",
    "    # xData = agg_count.index\n",
    "    yData2 = agg_count.values\n",
    "    print(yData2.shape)\n",
    "\n",
    "    plt.pie(yData2, labels=agg_count.index, autopct='%1.1f%%', startangle=90)\n",
    "\n",
    "    plt.title( 'adult_male & alone - alive ', fontdict={'size':'large'})\n",
    "\n",
    "    st.pyplot(plt)\n",
    "\n",
    "\n",
    "st.divider()"
   ]
  },
  {
   "cell_type": "code",
   "execution_count": 13,
   "metadata": {},
   "outputs": [
    {
     "name": "stderr",
     "output_type": "stream",
     "text": [
      "C:\\Users\\kdt\\AppData\\Local\\Temp\\ipykernel_28980\\4292993589.py:5: SettingWithCopyWarning: \n",
      "A value is trying to be set on a copy of a slice from a DataFrame.\n",
      "Try using .loc[row_indexer,col_indexer] = value instead\n",
      "\n",
      "See the caveats in the documentation: https://pandas.pydata.org/pandas-docs/stable/user_guide/indexing.html#returning-a-view-versus-a-copy\n",
      "  ttDFama['age_group'] = pd.Categorical(ttDFama['age_group'], categories=labels, ordered=True)\n",
      "2025-01-30 15:36:19.583 Thread 'MainThread': missing ScriptRunContext! This warning can be ignored when running in bare mode.\n"
     ]
    },
    {
     "name": "stdout",
     "output_type": "stream",
     "text": [
      "(6,) (6,)\n"
     ]
    },
    {
     "name": "stderr",
     "output_type": "stream",
     "text": [
      "2025-01-30 15:36:19.913 Thread 'MainThread': missing ScriptRunContext! This warning can be ignored when running in bare mode.\n",
      "2025-01-30 15:36:19.913 Thread 'MainThread': missing ScriptRunContext! This warning can be ignored when running in bare mode.\n",
      "2025-01-30 15:36:19.913 Thread 'MainThread': missing ScriptRunContext! This warning can be ignored when running in bare mode.\n",
      "2025-01-30 15:36:19.913 Thread 'MainThread': missing ScriptRunContext! This warning can be ignored when running in bare mode.\n"
     ]
    },
    {
     "data": {
      "text/plain": [
       "DeltaGenerator()"
      ]
     },
     "execution_count": 13,
     "metadata": {},
     "output_type": "execute_result"
    }
   ],
   "source": [
    "# [3-1] 시각화\n",
    "#성인 남성, 단독 총 410\n",
    "#연령대별 분포.\n",
    "plt.figure(figsize=(12,6))\n",
    "ttDFama['age_group'] = pd.Categorical(ttDFama['age_group'], categories=labels, ordered=True)\n",
    "agg_count=ttDFama['age_group'].value_counts()\n",
    "agg_count = agg_count.reindex(labels, fill_value=0)\n",
    "xData = agg_count.index\n",
    "yData1 = ''\n",
    "yData2 = agg_count.values\n",
    "print(xData.shape, yData2.shape)\n",
    "# print(ttDFama['age_group'].dtype)\n",
    "\n",
    "for i in range(len(xData)):\n",
    "    plt.text(xData[i], yData2[i] + 1, str(yData2[i]), ha='center', va='bottom')\n",
    "\n",
    "plt.title( 'adult_male & alone - age_group')\n",
    "plt.bar(xData,yData2)\n",
    "st.pyplot(plt)\n",
    "\n",
    "st.divider()"
   ]
  },
  {
   "cell_type": "code",
   "execution_count": 14,
   "metadata": {},
   "outputs": [
    {
     "name": "stderr",
     "output_type": "stream",
     "text": [
      "2025-01-30 15:36:19.952 Thread 'MainThread': missing ScriptRunContext! This warning can be ignored when running in bare mode.\n",
      "2025-01-30 15:36:19.952 Thread 'MainThread': missing ScriptRunContext! This warning can be ignored when running in bare mode.\n",
      "2025-01-30 15:36:19.995 Thread 'MainThread': missing ScriptRunContext! This warning can be ignored when running in bare mode.\n"
     ]
    },
    {
     "name": "stdout",
     "output_type": "stream",
     "text": [
      "(6,) (6,) (6,)\n"
     ]
    },
    {
     "name": "stderr",
     "output_type": "stream",
     "text": [
      "2025-01-30 15:36:20.336 Thread 'MainThread': missing ScriptRunContext! This warning can be ignored when running in bare mode.\n",
      "2025-01-30 15:36:20.337 Thread 'MainThread': missing ScriptRunContext! This warning can be ignored when running in bare mode.\n",
      "2025-01-30 15:36:20.337 Thread 'MainThread': missing ScriptRunContext! This warning can be ignored when running in bare mode.\n",
      "2025-01-30 15:36:20.339 Thread 'MainThread': missing ScriptRunContext! This warning can be ignored when running in bare mode.\n"
     ]
    },
    {
     "data": {
      "text/plain": [
       "DeltaGenerator()"
      ]
     },
     "execution_count": 14,
     "metadata": {},
     "output_type": "execute_result"
    }
   ],
   "source": [
    "st.code('''\n",
    "ttDFamay = ttDFama.loc[(ttDFama['alive']=='yes'),'age_group']\n",
    "ttDFaman = ttDFama.loc[(ttDFama['alive']=='no'),'age_group']\n",
    "\n",
    "plt.figure(figsize=(12,6))\n",
    "ttDFamay = pd.Categorical(ttDFamay, categories=labels, ordered=True)\n",
    "agg_count1 = ttDFamay.value_counts()\n",
    "agg_count1 = agg_count1.reindex(labels, fill_value=0)\n",
    "\n",
    "ttDFaman = pd.Categorical(ttDFaman, categories=labels, ordered=True)\n",
    "agg_count2 = ttDFaman.value_counts()\n",
    "agg_count2 = agg_count2.reindex(labels, fill_value=0)\n",
    "\n",
    "xData1 = agg_count1.index\n",
    "xData2 = agg_count2.index\n",
    "yData1 = agg_count1.values\n",
    "yData2 = agg_count2.values\n",
    "print(xData1.shape,yData1.shape, yData2.shape)\n",
    "# print(ttDFama['age_group'].dtype)\n",
    "width=0.2\n",
    "xData1_num = np.arange(len(xData1))\n",
    "plt.bar(xData1_num-width,yData1, width=0.4, label='yes')\n",
    "plt.bar(xData1_num+width,yData2, width=0.4, label='no')\n",
    "\n",
    "\n",
    "for i in range(len(xData1)):\n",
    "    plt.text(xData1_num[i]-width, yData1[i] + 0.5, str(yData1[i]), ha='center', va='bottom')\n",
    "for i in range(len(xData1)):\n",
    "    plt.text(xData1_num[i]+width, yData2[i] + 0.5, str(yData2[i]), ha='center', va='bottom')\n",
    "plt.xticks(xData1_num, xData1)\n",
    "plt.title( 'adult_male & alone - age_group')\n",
    "plt.legend()\n",
    "st.pyplot(plt)\n",
    "''')\n",
    "ttDFamay = ttDFama.loc[(ttDFama['alive']=='yes'),'age_group']\n",
    "ttDFaman = ttDFama.loc[(ttDFama['alive']=='no'),'age_group']\n",
    "\n",
    "plt.figure(figsize=(12,6))\n",
    "ttDFamay = pd.Categorical(ttDFamay, categories=labels, ordered=True)\n",
    "agg_count1 = ttDFamay.value_counts()\n",
    "agg_count1 = agg_count1.reindex(labels, fill_value=0)\n",
    "\n",
    "ttDFaman = pd.Categorical(ttDFaman, categories=labels, ordered=True)\n",
    "agg_count2 = ttDFaman.value_counts()\n",
    "agg_count2 = agg_count2.reindex(labels, fill_value=0)\n",
    "\n",
    "xData1 = agg_count1.index\n",
    "xData2 = agg_count2.index\n",
    "yData1 = agg_count1.values\n",
    "yData2 = agg_count2.values\n",
    "print(xData1.shape,yData1.shape, yData2.shape)\n",
    "# print(ttDFama['age_group'].dtype)\n",
    "width=0.2\n",
    "xData1_num = np.arange(len(xData1))\n",
    "plt.bar(xData1_num-width,yData1, width=0.4, label='yes')\n",
    "plt.bar(xData1_num+width,yData2, width=0.4, label='no')\n",
    "\n",
    "\n",
    "for i in range(len(xData1)):\n",
    "    plt.text(xData1_num[i]-width, yData1[i] + 0.5, str(yData1[i]), ha='center', va='bottom')\n",
    "for i in range(len(xData1)):\n",
    "    plt.text(xData1_num[i]+width, yData2[i] + 0.5, str(yData2[i]), ha='center', va='bottom')\n",
    "plt.xticks(xData1_num, xData1)\n",
    "plt.title( 'adult_male & alone - age_group')\n",
    "plt.legend()\n",
    "st.pyplot(plt)\n",
    "\n",
    "st.divider()"
   ]
  },
  {
   "cell_type": "code",
   "execution_count": 15,
   "metadata": {},
   "outputs": [
    {
     "name": "stderr",
     "output_type": "stream",
     "text": [
      "2025-01-30 15:36:20.397 Thread 'MainThread': missing ScriptRunContext! This warning can be ignored when running in bare mode.\n"
     ]
    },
    {
     "name": "stdout",
     "output_type": "stream",
     "text": [
      "(6,) (6,) (6,)\n"
     ]
    },
    {
     "name": "stderr",
     "output_type": "stream",
     "text": [
      "2025-01-30 15:36:20.845 Thread 'MainThread': missing ScriptRunContext! This warning can be ignored when running in bare mode.\n",
      "2025-01-30 15:36:20.845 Thread 'MainThread': missing ScriptRunContext! This warning can be ignored when running in bare mode.\n",
      "2025-01-30 15:36:20.845 Thread 'MainThread': missing ScriptRunContext! This warning can be ignored when running in bare mode.\n",
      "2025-01-30 15:36:20.860 Thread 'MainThread': missing ScriptRunContext! This warning can be ignored when running in bare mode.\n"
     ]
    },
    {
     "data": {
      "text/plain": [
       "DeltaGenerator()"
      ]
     },
     "execution_count": 15,
     "metadata": {},
     "output_type": "execute_result"
    }
   ],
   "source": [
    "plt.figure(figsize=(12,6))\n",
    "ttDFamay = pd.Categorical(ttDFamay, categories=labels, ordered=True)\n",
    "agg_count1 = ttDFamay.value_counts()\n",
    "agg_count1 = agg_count1.reindex(labels, fill_value=0)\n",
    "\n",
    "ttDFaman = pd.Categorical(ttDFaman, categories=labels, ordered=True)\n",
    "agg_count2 = ttDFaman.value_counts()\n",
    "agg_count2 = agg_count2.reindex(labels, fill_value=0)\n",
    "\n",
    "xData1 = agg_count1.index\n",
    "xData2 = agg_count2.index\n",
    "yData1 = agg_count1.values\n",
    "yData2 = agg_count2.values\n",
    "print(xData1.shape,yData1.shape, yData2.shape)\n",
    "# print(ttDFama['age_group'].dtype)\n",
    "\n",
    "plt.plot(xData1,yData2, 'o-', label='no')\n",
    "plt.plot(xData1,yData1, 'o-', label='yes')\n",
    "\n",
    "plt.bar(xData1,yData2, width=0.4, label='no')\n",
    "plt.bar(xData1,yData1, width=0.4, label='yes')\n",
    "\n",
    "\n",
    "for i in range(len(xData1)):\n",
    "    plt.text(xData1[i], yData1[i] + 0.5, str(yData1[i]), ha='center', va='bottom')\n",
    "for i in range(len(xData1)):\n",
    "    plt.text(xData1[i], yData2[i] + 0.5, str(yData2[i]), ha='center', va='bottom')\n",
    "plt.xticks(xData1)\n",
    "plt.title( 'adult_male & alone - age_group')\n",
    "plt.legend()\n",
    "st.pyplot(plt)\n",
    "\n",
    "st.divider()"
   ]
  },
  {
   "cell_type": "code",
   "execution_count": 16,
   "metadata": {},
   "outputs": [
    {
     "name": "stderr",
     "output_type": "stream",
     "text": [
      "2025-01-30 15:36:20.894 Thread 'MainThread': missing ScriptRunContext! This warning can be ignored when running in bare mode.\n"
     ]
    },
    {
     "name": "stdout",
     "output_type": "stream",
     "text": [
      "(3,) (3,)\n"
     ]
    },
    {
     "name": "stderr",
     "output_type": "stream",
     "text": [
      "2025-01-30 15:36:21.199 Thread 'MainThread': missing ScriptRunContext! This warning can be ignored when running in bare mode.\n",
      "2025-01-30 15:36:21.199 Thread 'MainThread': missing ScriptRunContext! This warning can be ignored when running in bare mode.\n",
      "2025-01-30 15:36:21.199 Thread 'MainThread': missing ScriptRunContext! This warning can be ignored when running in bare mode.\n",
      "2025-01-30 15:36:21.199 Thread 'MainThread': missing ScriptRunContext! This warning can be ignored when running in bare mode.\n"
     ]
    },
    {
     "data": {
      "text/plain": [
       "DeltaGenerator()"
      ]
     },
     "execution_count": 16,
     "metadata": {},
     "output_type": "execute_result"
    }
   ],
   "source": [
    "plt.figure(figsize=(12,6))\n",
    "agg_count=ttDFama['embark_town'].value_counts()\n",
    "xData = agg_count.index\n",
    "yData2 = agg_count.values\n",
    "print(xData.shape, yData2.shape)\n",
    "\n",
    "# print(ttDFama['embark_town'].dtype)\n",
    "\n",
    "for i in range(len(xData)):\n",
    "    plt.text(xData[i], yData2[i], str(yData2[i]), ha='center', va='bottom')\n",
    "\n",
    "plt.title('adult_male & alone - embark_town')\n",
    "plt.bar(xData,yData2)\n",
    "st.pyplot(plt)\n",
    "\n",
    "st.divider()"
   ]
  },
  {
   "cell_type": "code",
   "execution_count": 17,
   "metadata": {},
   "outputs": [
    {
     "name": "stderr",
     "output_type": "stream",
     "text": [
      "2025-01-30 15:36:21.246 Thread 'MainThread': missing ScriptRunContext! This warning can be ignored when running in bare mode.\n"
     ]
    },
    {
     "name": "stdout",
     "output_type": "stream",
     "text": [
      "(3,) (3,)\n"
     ]
    },
    {
     "name": "stderr",
     "output_type": "stream",
     "text": [
      "2025-01-30 15:36:21.599 Thread 'MainThread': missing ScriptRunContext! This warning can be ignored when running in bare mode.\n",
      "2025-01-30 15:36:21.600 Thread 'MainThread': missing ScriptRunContext! This warning can be ignored when running in bare mode.\n",
      "2025-01-30 15:36:21.601 Thread 'MainThread': missing ScriptRunContext! This warning can be ignored when running in bare mode.\n",
      "2025-01-30 15:36:21.602 Thread 'MainThread': missing ScriptRunContext! This warning can be ignored when running in bare mode.\n"
     ]
    },
    {
     "data": {
      "text/plain": [
       "DeltaGenerator()"
      ]
     },
     "execution_count": 17,
     "metadata": {},
     "output_type": "execute_result"
    }
   ],
   "source": [
    "plt.figure(figsize=(12,6))\n",
    "agg_count=ttDFama['pclass'].value_counts()\n",
    "xData = agg_count.index\n",
    "yData2 = agg_count.values\n",
    "print(xData.shape, yData2.shape)\n",
    "\n",
    "# print(ttDFama['pclass'].dtype)\n",
    "\n",
    "for i in range(len(xData)):\n",
    "    plt.text(xData[i], yData2[i], str(yData2[i]), ha='center', va='bottom')\n",
    "\n",
    "plt.title('adult_male & alone -pclass')\n",
    "plt.bar(xData,yData2)\n",
    "st.pyplot(plt)\n",
    "\n",
    "st.divider()"
   ]
  },
  {
   "cell_type": "code",
   "execution_count": 18,
   "metadata": {},
   "outputs": [
    {
     "name": "stderr",
     "output_type": "stream",
     "text": [
      "2025-01-30 15:36:21.721 Thread 'MainThread': missing ScriptRunContext! This warning can be ignored when running in bare mode.\n"
     ]
    },
    {
     "name": "stdout",
     "output_type": "stream",
     "text": [
      "(3,) (3,)\n"
     ]
    },
    {
     "name": "stderr",
     "output_type": "stream",
     "text": [
      "2025-01-30 15:36:22.041 Thread 'MainThread': missing ScriptRunContext! This warning can be ignored when running in bare mode.\n",
      "2025-01-30 15:36:22.041 Thread 'MainThread': missing ScriptRunContext! This warning can be ignored when running in bare mode.\n",
      "2025-01-30 15:36:22.041 Thread 'MainThread': missing ScriptRunContext! This warning can be ignored when running in bare mode.\n",
      "2025-01-30 15:36:22.041 Thread 'MainThread': missing ScriptRunContext! This warning can be ignored when running in bare mode.\n"
     ]
    },
    {
     "data": {
      "text/plain": [
       "DeltaGenerator()"
      ]
     },
     "execution_count": 18,
     "metadata": {},
     "output_type": "execute_result"
    }
   ],
   "source": [
    "plt.figure(figsize=(12,6))\n",
    "agg_count1=ttDFama.loc[(ttDFama['alive']=='yes'),'pclass'].value_counts()\n",
    "agg_count2=ttDFama.loc[(ttDFama['alive']=='no'),'pclass'].value_counts()\n",
    "\n",
    "xData = agg_count1.index\n",
    "yData1 = agg_count1.values\n",
    "yData2 = agg_count2.values\n",
    "print(xData.shape, yData2.shape)\n",
    "\n",
    "width = 0.15\n",
    "plt.bar(xData-width,yData1, width=0.3, label='yes')\n",
    "plt.bar(xData+width,yData2, width=0.3, label='no')\n",
    "# print(ttDFama['pclass'].dtype)\n",
    "\n",
    "for i in range(len(xData)):\n",
    "    plt.text(xData[i]-width, yData1[i], str(yData1[i]), ha='center', va='bottom')\n",
    "    plt.text(xData[i]+width, yData2[i], str(yData2[i]), ha='center', va='bottom')\n",
    "plt.legend()\n",
    "plt.title('adult_male & alone - pclass')\n",
    "plt.xticks(agg_count1.index)\n",
    "st.pyplot(plt)\n",
    "\n",
    "st.divider()"
   ]
  },
  {
   "cell_type": "code",
   "execution_count": 19,
   "metadata": {},
   "outputs": [
    {
     "name": "stderr",
     "output_type": "stream",
     "text": [
      "2025-01-30 15:36:22.077 Thread 'MainThread': missing ScriptRunContext! This warning can be ignored when running in bare mode.\n",
      "2025-01-30 15:36:22.163 Thread 'MainThread': missing ScriptRunContext! This warning can be ignored when running in bare mode.\n",
      "2025-01-30 15:36:22.164 Thread 'MainThread': missing ScriptRunContext! This warning can be ignored when running in bare mode.\n",
      "2025-01-30 15:36:22.165 Thread 'MainThread': missing ScriptRunContext! This warning can be ignored when running in bare mode.\n",
      "2025-01-30 15:36:22.165 Thread 'MainThread': missing ScriptRunContext! This warning can be ignored when running in bare mode.\n"
     ]
    },
    {
     "name": "stdout",
     "output_type": "stream",
     "text": [
      "(2,)\n"
     ]
    },
    {
     "data": {
      "text/plain": [
       "DeltaGenerator()"
      ]
     },
     "execution_count": 19,
     "metadata": {},
     "output_type": "execute_result"
    }
   ],
   "source": [
    "ttDFnama = ttDF.loc[(ttDF['alone']==False) | (ttDF['adult_male']==False)]\n",
    "\n",
    "plt.figure(figsize=(12,6))\n",
    "agg_count=ttDFnama['alive'].value_counts()\n",
    "# xData = agg_count.index\n",
    "yData2 = agg_count.values\n",
    "print(yData2.shape)\n",
    "\n",
    "plt.pie(yData2, labels=agg_count.index, autopct='%1.1f%%', startangle=90)\n",
    "\n",
    "plt.title( 'not (adult_male & alone) - alive ')\n",
    "\n",
    "st.pyplot(plt)\n",
    "st.divider()"
   ]
  },
  {
   "cell_type": "code",
   "execution_count": 20,
   "metadata": {},
   "outputs": [
    {
     "name": "stderr",
     "output_type": "stream",
     "text": [
      "2025-01-30 15:36:22.214 Thread 'MainThread': missing ScriptRunContext! This warning can be ignored when running in bare mode.\n"
     ]
    },
    {
     "name": "stdout",
     "output_type": "stream",
     "text": [
      "(6,) (6,) (6,)\n"
     ]
    },
    {
     "name": "stderr",
     "output_type": "stream",
     "text": [
      "2025-01-30 15:36:22.535 Thread 'MainThread': missing ScriptRunContext! This warning can be ignored when running in bare mode.\n",
      "2025-01-30 15:36:22.535 Thread 'MainThread': missing ScriptRunContext! This warning can be ignored when running in bare mode.\n",
      "2025-01-30 15:36:22.535 Thread 'MainThread': missing ScriptRunContext! This warning can be ignored when running in bare mode.\n",
      "2025-01-30 15:36:22.535 Thread 'MainThread': missing ScriptRunContext! This warning can be ignored when running in bare mode.\n"
     ]
    },
    {
     "data": {
      "text/plain": [
       "DeltaGenerator()"
      ]
     },
     "execution_count": 20,
     "metadata": {},
     "output_type": "execute_result"
    }
   ],
   "source": [
    "ttDFnamay = ttDFnama.loc[(ttDFnama['alive']=='yes'),'age_group']\n",
    "ttDFnaman = ttDFnama.loc[(ttDFnama['alive']=='no'),'age_group']\n",
    "\n",
    "\n",
    "plt.figure(figsize=(12,6))\n",
    "ttDFnamay = pd.Categorical(ttDFnamay, categories=labels, ordered=True)\n",
    "agg_count1 = ttDFnamay.value_counts()\n",
    "agg_count1 = agg_count1.reindex(labels, fill_value=0)\n",
    "\n",
    "ttDFnaman = pd.Categorical(ttDFnaman, categories=labels, ordered=True)\n",
    "agg_count2 = ttDFnaman.value_counts()\n",
    "agg_count2 = agg_count2.reindex(labels, fill_value=0)\n",
    "\n",
    "xData1 = agg_count1.index\n",
    "xData2 = agg_count2.index\n",
    "yData1 = agg_count1.values\n",
    "yData2 = agg_count2.values\n",
    "print(xData1.shape,yData1.shape, yData2.shape)\n",
    "# print(ttDFama['age_group'].dtype)\n",
    "width=0.2\n",
    "xData1_num = np.arange(len(xData1))\n",
    "plt.bar(xData1_num-width,yData1, width=0.4, label='yes')\n",
    "plt.bar(xData1_num+width,yData2, width=0.4, label='no')\n",
    "\n",
    "\n",
    "for i in range(len(xData1)):\n",
    "    plt.text(xData1_num[i]-width, yData1[i] + 0.5, str(yData1[i]), ha='center', va='bottom')\n",
    "for i in range(len(xData1)):\n",
    "    plt.text(xData1_num[i]+width, yData2[i] + 0.5, str(yData2[i]), ha='center', va='bottom')\n",
    "plt.xticks(xData1_num, xData1)\n",
    "plt.title( 'not (adult_male & alone) - age_group')\n",
    "plt.legend()\n",
    "st.pyplot(plt)\n",
    "\n",
    "st.divider()"
   ]
  },
  {
   "cell_type": "code",
   "execution_count": 21,
   "metadata": {},
   "outputs": [
    {
     "name": "stderr",
     "output_type": "stream",
     "text": [
      "2025-01-30 15:36:22.581 Thread 'MainThread': missing ScriptRunContext! This warning can be ignored when running in bare mode.\n"
     ]
    },
    {
     "name": "stdout",
     "output_type": "stream",
     "text": [
      "(3,) (3,)\n"
     ]
    },
    {
     "name": "stderr",
     "output_type": "stream",
     "text": [
      "2025-01-30 15:36:22.861 Thread 'MainThread': missing ScriptRunContext! This warning can be ignored when running in bare mode.\n",
      "2025-01-30 15:36:22.862 Thread 'MainThread': missing ScriptRunContext! This warning can be ignored when running in bare mode.\n",
      "2025-01-30 15:36:22.863 Thread 'MainThread': missing ScriptRunContext! This warning can be ignored when running in bare mode.\n",
      "2025-01-30 15:36:22.863 Thread 'MainThread': missing ScriptRunContext! This warning can be ignored when running in bare mode.\n"
     ]
    },
    {
     "data": {
      "text/plain": [
       "DeltaGenerator()"
      ]
     },
     "execution_count": 21,
     "metadata": {},
     "output_type": "execute_result"
    }
   ],
   "source": [
    "plt.figure(figsize=(12,6))\n",
    "agg_count1=ttDFnama.loc[(ttDFnama['alive']=='yes'),'pclass'].value_counts()\n",
    "agg_count2=ttDFnama.loc[(ttDFnama['alive']=='no'),'pclass'].value_counts()\n",
    "\n",
    "xData = agg_count1.index\n",
    "yData1 = agg_count1.values\n",
    "agg_count2 = agg_count2.reindex(agg_count1.index,fill_value=0)\n",
    "yData2 = agg_count2.values\n",
    "\n",
    "print(xData.shape, yData2.shape)\n",
    "\n",
    "width = 0.15\n",
    "plt.bar(xData-width,yData1, width=0.3, label='yes')\n",
    "plt.bar(xData+width,yData2, width=0.3, label='no')\n",
    "# print(ttDFnama['pclass'].dtype)\n",
    "\n",
    "for i in range(len(xData)):\n",
    "    plt.text(xData[i]-width, yData1[i], str(yData1[i]), ha='center', va='bottom')\n",
    "    plt.text(xData[i]+width, yData2[i], str(yData2[i]), ha='center', va='bottom')\n",
    "plt.legend()\n",
    "plt.title('not (adult_male & alone) - pclass')\n",
    "plt.xticks(agg_count1.index)\n",
    "st.pyplot(plt)\n",
    "\n",
    "st.divider()"
   ]
  },
  {
   "cell_type": "code",
   "execution_count": 22,
   "metadata": {},
   "outputs": [],
   "source": [
    "# ttDFnama\n",
    "# ttDFnama.info()\n",
    "# %matplotlib inline"
   ]
  },
  {
   "cell_type": "code",
   "execution_count": 23,
   "metadata": {},
   "outputs": [
    {
     "name": "stderr",
     "output_type": "stream",
     "text": [
      "2025-01-30 15:36:22.895 Thread 'MainThread': missing ScriptRunContext! This warning can be ignored when running in bare mode.\n",
      "2025-01-30 15:36:22.895 Thread 'MainThread': missing ScriptRunContext! This warning can be ignored when running in bare mode.\n",
      "2025-01-30 15:36:22.902 Thread 'MainThread': missing ScriptRunContext! This warning can be ignored when running in bare mode.\n",
      "2025-01-30 15:36:22.902 Thread 'MainThread': missing ScriptRunContext! This warning can be ignored when running in bare mode.\n",
      "2025-01-30 15:36:22.902 Thread 'MainThread': missing ScriptRunContext! This warning can be ignored when running in bare mode.\n",
      "2025-01-30 15:36:22.904 Thread 'MainThread': missing ScriptRunContext! This warning can be ignored when running in bare mode.\n",
      "2025-01-30 15:36:22.904 Thread 'MainThread': missing ScriptRunContext! This warning can be ignored when running in bare mode.\n",
      "2025-01-30 15:36:22.905 Thread 'MainThread': missing ScriptRunContext! This warning can be ignored when running in bare mode.\n",
      "2025-01-30 15:36:22.905 Thread 'MainThread': missing ScriptRunContext! This warning can be ignored when running in bare mode.\n",
      "2025-01-30 15:36:22.905 Thread 'MainThread': missing ScriptRunContext! This warning can be ignored when running in bare mode.\n"
     ]
    },
    {
     "data": {
      "text/plain": [
       "DeltaGenerator()"
      ]
     },
     "execution_count": 23,
     "metadata": {},
     "output_type": "execute_result"
    }
   ],
   "source": [
    "st.title( ' 결론')\n",
    "st.header('독신 남성의 수가 단일집단 치고는 많으며, 그 사망률 또한 높다.')\n",
    "st.header('사망률과 유의미하게 관계있는 지표는 pclass 이다.')\n",
    "\n",
    "st.header('독신남성을 제외한 집단의 경우 비교적 낮은 사망률을 보이며,')\n",
    "st.header('독신 남성의 경우와 같이 pclass가 의미있는 지표를 보인다.')"
   ]
  },
  {
   "cell_type": "code",
   "execution_count": 24,
   "metadata": {},
   "outputs": [
    {
     "name": "stderr",
     "output_type": "stream",
     "text": [
      "2025-01-30 15:36:22.930 Thread 'MainThread': missing ScriptRunContext! This warning can be ignored when running in bare mode.\n",
      "2025-01-30 15:36:22.930 Thread 'MainThread': missing ScriptRunContext! This warning can be ignored when running in bare mode.\n",
      "2025-01-30 15:36:22.933 Thread 'MainThread': missing ScriptRunContext! This warning can be ignored when running in bare mode.\n",
      "2025-01-30 15:36:22.933 Thread 'MainThread': missing ScriptRunContext! This warning can be ignored when running in bare mode.\n"
     ]
    },
    {
     "data": {
      "text/plain": [
       "DeltaGenerator()"
      ]
     },
     "execution_count": 24,
     "metadata": {},
     "output_type": "execute_result"
    }
   ],
   "source": [
    "# 번외\n",
    "st.code('''ttDF[ttDF['fare']==0]\n",
    "\n",
    "ttDF.loc[(ttDF['age'].isna()) & (ttDF['sex']=='male'), ['pclass']]\n",
    "ttDF.loc[(ttDF['age'].isna()) & (ttDF['sex']=='female'), ['pclass']]\n",
    "    \n",
    "ttDF.loc[(ttDF['age'].isna()) & (ttDF['sex']=='male'), ['pclass']]\n",
    "ttDF.loc[(ttDF['age'].isna()) & (ttDF['sex']=='female'), ['pclass']].value_counts()\n",
    "\n",
    "''')\n",
    "\n",
    "st.divider()"
   ]
  },
  {
   "cell_type": "code",
   "execution_count": 25,
   "metadata": {},
   "outputs": [
    {
     "name": "stderr",
     "output_type": "stream",
     "text": [
      "2025-01-30 15:36:22.976 Thread 'MainThread': missing ScriptRunContext! This warning can be ignored when running in bare mode.\n"
     ]
    },
    {
     "name": "stdout",
     "output_type": "stream",
     "text": [
      "pclass\n",
      "3         94\n",
      "1         21\n",
      "2          9\n",
      "Name: count, dtype: int64\n",
      "pclass\n",
      "3         42\n",
      "1          9\n",
      "2          2\n",
      "Name: count, dtype: int64\n"
     ]
    },
    {
     "name": "stderr",
     "output_type": "stream",
     "text": [
      "2025-01-30 15:36:23.247 Thread 'MainThread': missing ScriptRunContext! This warning can be ignored when running in bare mode.\n",
      "2025-01-30 15:36:23.247 Thread 'MainThread': missing ScriptRunContext! This warning can be ignored when running in bare mode.\n",
      "2025-01-30 15:36:23.247 Thread 'MainThread': missing ScriptRunContext! This warning can be ignored when running in bare mode.\n",
      "2025-01-30 15:36:23.247 Thread 'MainThread': missing ScriptRunContext! This warning can be ignored when running in bare mode.\n"
     ]
    },
    {
     "data": {
      "text/plain": [
       "DeltaGenerator()"
      ]
     },
     "execution_count": 25,
     "metadata": {},
     "output_type": "execute_result"
    }
   ],
   "source": [
    "plt.figure(figsize=(12,6))\n",
    "mis_count1= ttDF.loc[(ttDF['age'].isna()) & (ttDF['sex']=='male'), ['pclass']].value_counts()\n",
    "mis_count2= ttDF.loc[(ttDF['age'].isna()) & (ttDF['sex']=='female'), ['pclass']].value_counts()\n",
    "# print(mis_count1.index)\n",
    "\n",
    "## 멀티 인덱스 구조를 가지고 있어, 리인덱스를 하기 힘들었음.\n",
    "## 따라서 같은 배열을 가진 것을 \n",
    "# mis_count1 = mis_count1.reindex(['1','2','3',])\n",
    "# mis_count2 = mis_count2.reindex(['1','2','3',])\n",
    "# mis_count2 = mis_count2.reindex([1,2,3,],fill_value=0)\n",
    "\n",
    "\n",
    "xData = pd.Series([3,1,2])\n",
    "yData1 = mis_count1.values\n",
    "yData2 = mis_count2.values\n",
    "# print(xData.shape, yData1.shape, yData2.shape)\n",
    "# print(xData.dtype, yData1.dtype, yData2.dtype)\n",
    "\n",
    "print(mis_count1)\n",
    "print(mis_count2)\n",
    "\n",
    "# xx = np.arange(1,4)\n",
    "width = 0.2\n",
    "plt.bar(xData-width,yData1, width=0.4, label='male')\n",
    "plt.bar(xData+width,yData2, width=0.4, label='female')\n",
    "\n",
    "for i in range(len(xData)):\n",
    "    plt.text(xData[i]-width, yData1[i], str(yData1[i]), ha='center', va='bottom')\n",
    "for i in range(len(xData)):\n",
    "    plt.text(xData[i]+width, yData2[i], str(yData2[i]), ha='center', va='bottom')\n",
    "\n",
    "\n",
    "plt.title('age missing - pclass',pad=20,  fontdict={'weight':'bold','size':'25'})\n",
    "plt.legend()\n",
    "plt.xticks([1,2,3])\n",
    "st.pyplot(plt)\n",
    "\n",
    "st.divider()"
   ]
  },
  {
   "cell_type": "code",
   "execution_count": 26,
   "metadata": {},
   "outputs": [
    {
     "name": "stderr",
     "output_type": "stream",
     "text": [
      "2025-01-30 15:36:23.262 Thread 'MainThread': missing ScriptRunContext! This warning can be ignored when running in bare mode.\n",
      "2025-01-30 15:36:23.271 Thread 'MainThread': missing ScriptRunContext! This warning can be ignored when running in bare mode.\n",
      "2025-01-30 15:36:23.271 Thread 'MainThread': missing ScriptRunContext! This warning can be ignored when running in bare mode.\n",
      "2025-01-30 15:36:23.272 Thread 'MainThread': missing ScriptRunContext! This warning can be ignored when running in bare mode.\n",
      "2025-01-30 15:36:23.272 Thread 'MainThread': missing ScriptRunContext! This warning can be ignored when running in bare mode.\n",
      "2025-01-30 15:36:23.273 Thread 'MainThread': missing ScriptRunContext! This warning can be ignored when running in bare mode.\n",
      "2025-01-30 15:36:23.273 Thread 'MainThread': missing ScriptRunContext! This warning can be ignored when running in bare mode.\n",
      "2025-01-30 15:36:23.274 Thread 'MainThread': missing ScriptRunContext! This warning can be ignored when running in bare mode.\n"
     ]
    },
    {
     "data": {
      "text/plain": [
       "DeltaGenerator()"
      ]
     },
     "execution_count": 26,
     "metadata": {},
     "output_type": "execute_result"
    }
   ],
   "source": [
    "st.header('번외')\n",
    "st.write('fare 값의 최소치에 0이 존재. why?')\n",
    "\n",
    "st.code('''\n",
    "# ttDF.loc[(ttDF['pclass']==1) & (ttDF['fare']==0), 'age']\n",
    "# age로는 이유를 파악할 수 없음.\n",
    "\n",
    "ttDF.loc[(ttDF['pclass']==3) & (ttDF['fare']==0), 'sibsp']\n",
    "# 'sibsp' 은 1,2,3 모두 0임.\n",
    "ttDF.loc[(ttDF['pclass']==3) & (ttDF['fare']==0), 'embarked']\n",
    "# 'alone' 은 1,2,3 모두 True임. why? \n",
    "# 'sex' 모두 male\n",
    "# 'embarked' 는 모두 Southampton\n",
    "# 자료의 오류인가? \n",
    "ttDF.loc[(ttDF['fare']==0),'alive']\n",
    "# ttDF.loc[(ttDF['fare']==0)].count()\n",
    "# 탑승비용이 0원인 자는, 15명이며 전원 사우스햄튼에서 탑승한 남성이며 동승자가 없다.\n",
    "# 1명만 살아남았다.\n",
    "        \n",
    "       ''' )\n",
    "\n",
    "\n"
   ]
  }
 ],
 "metadata": {
  "kernelspec": {
   "display_name": "PY39",
   "language": "python",
   "name": "python3"
  },
  "language_info": {
   "codemirror_mode": {
    "name": "ipython",
    "version": 3
   },
   "file_extension": ".py",
   "mimetype": "text/x-python",
   "name": "python",
   "nbconvert_exporter": "python",
   "pygments_lexer": "ipython3",
   "version": "3.9.21"
  }
 },
 "nbformat": 4,
 "nbformat_minor": 2
}
