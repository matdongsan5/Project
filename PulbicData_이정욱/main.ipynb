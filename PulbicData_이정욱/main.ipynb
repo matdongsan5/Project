{
 "cells": [
  {
   "cell_type": "markdown",
   "metadata": {},
   "source": [
    "데이터셋\n",
    "1. 기상상황 \n",
    "    1-1 기온\n",
    "    1-2 습도\n",
    "    1-3 강수량/장마기간\n",
    "2. 모기지표\n",
    "    1-1 일본뇌염/말라리아모기 발생밀도\n",
    "    1-2 일본뇌염 말라리아 발병수\n",
    "    1-3 서울 모기지표(미정)"
   ]
  },
  {
   "cell_type": "code",
   "execution_count": null,
   "metadata": {},
   "outputs": [],
   "source": []
  }
 ],
 "metadata": {
  "kernelspec": {
   "display_name": "bigdata",
   "language": "python",
   "name": "python3"
  },
  "language_info": {
   "name": "python",
   "version": "3.12.8"
  }
 },
 "nbformat": 4,
 "nbformat_minor": 2
}
