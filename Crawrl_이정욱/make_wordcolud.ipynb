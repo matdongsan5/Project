{
 "cells": [
  {
   "cell_type": "code",
   "execution_count": 1,
   "metadata": {},
   "outputs": [],
   "source": [
    "from bs4 import BeautifulSoup\n",
    "from urllib.request import Request\n",
    "from urllib.parse import quote\n",
    "from urllib.request import urlopen\n",
    "from konlpy.tag import Okt\n",
    "from collections import Counter\n",
    "from wordcloud import WordCloud\n",
    "import matplotlib.pyplot as plt\n",
    "import platform\n",
    "import numpy as np\n",
    "from PIL import Image\n",
    "import collections"
   ]
  },
  {
   "cell_type": "code",
   "execution_count": null,
   "metadata": {},
   "outputs": [],
   "source": []
  },
  {
   "cell_type": "code",
   "execution_count": 7,
   "metadata": {},
   "outputs": [],
   "source": [
    "def make_wordcloud(word_list, stopwords, word_count):\n",
    "    okt = Okt()\n",
    "    counts = Counter(word_list)\n",
    "    tags = counts.most_common(word_count)\n",
    "    tag_dict = dict(tags)\n",
    "    # 검색어 제외 방법 : dict에서 해당 검색어 제거\n",
    "    for stopword in stopwords:\n",
    "        if stopword in tag_dict:\n",
    "            tag_dict.pop(stopword)\n",
    "            \n",
    "    print('-' * 80)\n",
    "    print('tag_dict:', tag_dict)\n",
    "    if platform.system() == 'Windows':\n",
    "        path = r'c:\\Windows\\Fonts\\malgun.ttf'\n",
    "    elif platform.system() == 'Darwin': # Mac OS\n",
    "        path = r'/System/Library/Fonts/AppleGothic'\n",
    "    else:\n",
    "        path = r'/usr/share/fonts/truetype/name/NanumMyeongjo.ttf'\n",
    "        \n",
    "    img_mask = np.array(Image.open('cloud.png'))\n",
    "    wordcloud = WordCloud(font_path=path, width=800,\n",
    "                        height=600,\n",
    "                        background_color=\"white\",\n",
    "                        max_font_size=200,\n",
    "                        repeat=True,\n",
    "                        colormap='inferno',\n",
    "                        mask=img_mask)\n",
    "    \n",
    "    cloud = wordcloud.generate_from_frequencies(tag_dict)\n",
    "    \n",
    "    plt.figure(figsize=(10, 8))\n",
    "    plt.axis('off')\n",
    "    plt.imshow(cloud)\n",
    "    plt.show()"
   ]
  },
  {
   "cell_type": "code",
   "execution_count": 8,
   "metadata": {},
   "outputs": [],
   "source": [
    "sector_list = [\"포지션 상세폴라리스오피스에서 새로운 성장을 함께 만들어 나갈 인재를 모십니다.!폴라리스오피스는 단 하나의 앱으로 워드, 엑셀, 파워포인트 등 모든 포맷의 문서를 언제 어디서든 편집할 수 있는 글로벌 오피스 소프트웨어입니다. 모바일, PC 다양한 환경에서 최적화된 서비스를 제공하고  있으며, 안정적이고 뛰어난 호환성으로 원격근무와 스마트오피스 필수 앱으로 자리매김 하였습니다.매일 평균 5만 명의 신규 가입자가 발생하고 현재까지 1.3억명 이상의 글로벌 유저와 60여개 글로벌 고객사를 지니고 있으며, 국내 최초 생성형 언어모델을 탑재한 오피스AI 솔루션 'Nova'를 출시하여 오피스시장을 선도하고 있습니다. 가파른 성장세로 2024년, 폴라리스AI와 폴라리스AI파마를 인수하여 5개 코스닥 상장사로 이루어진 '폴라리스오피스그룹'의 모회사가 되었으며 소프트웨어 뿐만 아니라 다양한 비즈니스에서 AI융합기술 시너지를 모색하고 있습니다. [팀 소개]기업개발팀은 Polaris Office Engine기반의 B2B 서비스 Polaris Docs와 Polaris Converter 개발 및 유지 보수를 합니다.Polaris Docs는 문서 중앙화 기반의 공동편집 솔루션으로써 문서 협업에 최적화된 환경을 제공하기 위해 고객사 시스템환경과 요구사항에 맞게 개발을 하고, 리눅스 컨테이너 환경에서 솔루션을 구축하는 경험을 할 수 있습니다. Polaris Converter는 다양한 문서에 대해서 PDF 또는 이미지 형태로 변환하는 문서 변환 솔루션으로, 완제품 형태의 서버형과 기존 서비스에 연동하여 사용하는 Libary형 제품으로 제공되며, 변화 하는 시장에 맞춰 꾸준한 업그레이드가 진행 됩니다.본인이 가지고 있는 아이디어와 새로운 기술을 적용하는데에 있어 적극적으로 지원하고 있으니 관심있는 분들의 지원을 기다리겠습니다.주요업무• Docker 기반 오피스 솔루션 구축 및 유지보수• 기업 요청사항에 따른 솔루션 기능개발[사용하는 기술 및 환경]• Docker, Spring Java, JPA, JavaScript, JSP, jQuery, Ajax, HTML5, CSS자격요건[자격요건]• 신입 ~ 경력 6년 이하• Spring 기반 Java API 구현 및 내부 서비스 구현• HTML5, CSS3 웹 표준에 대한 이해• JS(ES6)/HTML/CSS를 이용해 웹 페이지 개발 가능하신 분• RDBMS(MariaDB) 사용 경험이 있으신 분• 고객사와 원활하게 소통이 가능하며 외근 및 출장 업무에 거부감이 없으신 분[필요지식 및 기술]• Spring 기반 Java API 구현 및 내부 서비스 구현• HTML5, CSS3 웹 표준에 대한 이해• JavaScript에 대한 이해 및 활용• shell script에 대한 이해[이런 분을 선호해요!]• 새로운 AI 기술과 트렌드에 대한 열린 자세로 끊임없이 학습·적용하며, 변화에 유연하게 대응하는 태도가 좋은 분• 협업 동료와의 원활한 커뮤니케이션을 바탕으로 협업을 이끌어내고, 요구사항을 정확히 파악하여 반영하는 태도가 좋은 분• 사용자 중심의 관점과 논리적 사고를 통해 문제를 파악하고 해결책을 제시할 수 있는 태도가 좋은 분우대사항• Linux 서버 운영 경험자• Docker 환경에서 서비스 유경험자• 서버 이중화 유경험자• 서버 기반의 제품 서비스 유경험자• 고객 요구사항 관련 미팅 및 유지보수/구축업무를 위한 외근 및 출장 가능한 분• [제출자료]•이력서(자기소개서와 기본 인적사항 기재해주세요.)•경력기술서•포트폴리오 (선택사항)혜택 및 복지[Polaris Office Culture]■ 성장의 에너지를 경험해요!•   폴라리스오피스는 가파르게 성장하며 지금은 5개 상장사로 구성된 폴라리스오피스그룹의 모회사가 되었어요. 구성원으로 합류한다면 성장의 에너지와 문화를 경험할 수 있어요! •  국내 최초 온디바이스 AI 오피스 솔루션으로 글로벌 1억 3천만명 이상의 가입자를 보유하고 있어요! 높은 트래픽을 지닌 서비스를 경험하며 성장하고 커리어도 Level Up! 할 수 있어요. •  개발자가 성장할 수 있는 문화를 지향해요.  Devday, 개인 연구시간 부여, 직무 관련 도서/교육비를 폭넓게 지원하며 새로운 기술을 경험하고 성장할 수 있는 환경을 만들어가고 있어요. ■ 커뮤니케이션은 수평적으로, 업무는 체계적으로 해요!•  영어 호칭을 사용한 지 무려 10년차! 유연한 커뮤니케이션을 위해 직급을 사용하지  않고 누구나 적극적으로 의견을 낼  수 있는 환경을 만들었어요.•  “Meet up with Project” 행사를 통해 프로젝트별 목표와 성과를 전사에 공유하고 회고하는 시간을 가져요. 프로젝트 구성원 모두가 목표를 생각하고 동기부여될 수 있는 ‘등대’와도 같은 행사에요. • Teams, Confluence 와 같은 협업툴을 적극 활용하여 산출물은 투명하게 관리하고 불필요한 보고체계는 최소화하여 보다 집중해서 업무에 몰두할 수 있어요.■ 자율과 책임의 조직문화를 기반으로 혁신적인 근무제도를 시행하고있어요.• 원격지에 거주하는 개발인재는 100% 재택근무를 지원해요. 연고지에서 이전 불필요! 출퇴근 비용과 시간 절감까지 하고 업무효율도 높일 수 있어요. •  퇴근 후 저녁이 있는 삶을 존중해요. 하이브리드 근무제를 운영해서 주2회 재택근무와 자율출퇴근제를 사용해요. 8시~10시 30분 까지 자유롭게 출근하고 야근하는 날이 있으면 다른 날 일찍 퇴근할 수 있어요. ■ Work & Life Synergy ! 휴식이 있어야 즐겁게 일할 수 있고 생산성과 만족도도 높아져요!•  일하는 시간보다는 성과와 도전에 더 집중해요. 불필요한 야근을 줄이고 업무효율성을 높이는 근무환경을 만들어가고 있어요.      • 당일 연차사용도 OK! 매년 전직원이 99% 이상 연차를 사용하고 있어요. 가족과 함께 소중한 날을 보낼 수 있도록 연2회 패밀리데이(유급휴가)도 지원해요. [Benefits]• 든든한 점심식사 1만원 지원!• 급한 용무 볼 수 있는 반반차(외출) 휴가제도 운영• 더 행복한 생일을 위한 20만원 상당의 백화점 상품권 지원• 동반가족 1인 포함 종합건강검진 지원• 자녀 초등학교 입학선물 지원• 신규입사 Welcome Kit, 임신직원 Maternity Kit 지원• 1년에 2번, 가족과 오붓한 시간을 보낼 수 있는 Family Day• 질병, 부상 관련 본인 의료비 지원• 자기개발 및 어학능력 향상을 위한 외국어 교육비 지원• 직무 관련 도서구입비 지원• 임직원 생활안정자금 대출제도 운영• 결혼축하금 100만원 및 7일 휴가지원, 본인/배우자 출산선물 지원• 중소기업 청년 소득세 감면제도 운영• 휴게실, 안마의자, 커피머신, 음료 등 입사하면 더 많은 혜택이!채용 전형•서류전형 ＞ 온라인코딩테스트 ＞ 1차 인터뷰 ＞ 인성검사/2차 인터뷰 ＞ 처우협상 ＞ 최종합격\",\n",
    " '포지션 상세베링랩은 가장 어렵고 난해한 번역 문제에 대해 AI기반 솔루션을 제공하는 Language Tech 기업입니다.법률/특허 등 전문 도메인에 특화된 AI번역 엔진 및 손쉽게 번역 및 검수를 할 수 있는 전문 번역 협업 툴 (CAT Tool) 또한 개발하고 있습니다.세계적인 학회 WMT20 (World Machine Translation) 및 WAT (Workshop on Asia Translation) 2021에서 1위를 기록할 만큼 최고의 기술력을 보유하고 있으며 네이버와 서울대학교로부터 기관투자를 유치했습니다.위의 기술적 자본을 바탕으로 내외에서 많은 관심을 받고 있으며, 현재 공식 서비스 출시를 앞두고 있습니다. 저희는 탄탄한 기술력과 앞으로의 성장 가능성을 바탕으로 함께 성장해 나가실 Rust 개발자를 모시고자 합니다.주요업무- 번역의 의뢰부터 진행/검수/납품/결제까지의 전 단계를 커버하는 번역 서비스 플랫폼을 만듭니다.자격요건- 매너있지만 확실하게 자기 주장하시는분- Rust 혹은 프로그래밍에 대한 깊은 이해가 있으신 분- CI/CD 프로세스에 대한 조예가 있으신 분- System design의 Trade-off에 대한 논의를 좋아하시는 분- Execution이 빠르신 분우대사항- Microservice Architecture에 익숙하신 분- Domain-driven Development에 관심이 있거나 조예가 깊으신 분- 대용량 Transaction 처리 경험이 있으신 분- Concurrent Programming에 경험이 있으신 분- Socket programming 경험이 있으신 분- DevOps 경험이 있으신 분혜택 및 복지- 최신형 노트북 제공 (맥북/기타)- 주 1회 재택근무 (선택 가능)- 점심시간 제외 7시간 근무- 유연근무제 운영 (8시부터 11시까지 자유롭게 출근하세요!)- 도서구입비/교육비 무제한 지원- 과자, 음료, 주류(?!) 등 간식 무제한 제공',\n",
    " '포지션 상세[To be the Global No.1 in Industrial AI & Autonomous Manufacturing | 인터엑스 소개]인터엑스는 디지털 기술을 통한 새로운 가치 창출을 목표로 하는 산업 AX & 자율 제조 전문 파트너입니다.누구에게나 쉬운 AI, 산업 AI 트랜스포메이션의 동반자로서, 고객 중심의 혁신을 통해 Global No.1 Industrial AI & DataSpace Partner로 도약하고 있습니다.AI 자율 제조, 제조 데이터 분석, 생성형 AI (Gen AI), 일반 인공지능 (AGI) 등 최첨단 기술을 기반으로 고객 맞춤형 솔루션을 제공하며,산업 전반의 디지털 전환을 지원하는 파트너로 자리매김하고 있습니다.[핵심 비전과 성장]• 시리즈 B 투자 유치 성공: 인터엑스는 180억 원 규모의 시리즈 B 투자를 성공적으로 유치하며, 글로벌 AI 및 자율 제조 시장을 선도하는 데 필요한 자본과 신뢰를 확보했습니다.• IPO 상장 준비 중: 인터엑스는 2026년 상장을 목표로 글로벌 시장에서 더욱 빠르게 성장하며, 최고의 제조 AI & 데이터 서비스 전문 기업으로 자리 잡고 있습니다.• Goal 2025로 설정한 \"고객 중심 AX 전문 파트너십 구축\"을 위해 제조 AX & 데이터 혁신 선도, AI 자율공장 기술 개발 및 적용 확대, 고객 맞춤형 솔루션과 서비스를 통한 지속 성장등의 구체적 비전을 바탕으로 끊임없이 도전하고 있습니다.인터엑스는 이러한 비전을 실현하기 위해 우수한 인재를 영입하고, 최고의 AI 전문가 조직을 구축해 가고 있습니다. 함께 자율제조 산업의 미래를 만들어갈 당신을 기다립니다.[CEO of INTERX 인터뷰 영상]https://youtu.be/-tExbkOqwnA?feature=shared[인터엑스 주요기사]https://interxlab.com:48139/news[인터엑스 인재상]자신의 전문성을 바탕으로 꾸준히 학습하고 활용하면서 그 분야 고수로 인정받는 사람이러한 능력을 바탕으로 미래의 새로운 가치를 만드는 사람 해당 분야에 최고의 지식과 경험을 가진 동시에 실제 가치를 만드는 사람이런 능력을 다른 전문가들이 신뢰하는 수준으로 전달할 수 있는 사람새로운 가치를 만들기 위해 몰입하고 협력하여 끝까지 완수해내는 사람[채용팀 Talk]Unity 엔진과 C#을 활용해 디지털 트윈 플랫폼 및 그래픽 시뮬레이션 프로그램을 개발할 Unity 개발자를 채용중에 있습니다! 유관 경력 5년 이상의 Unity 개발 경험과 네트워크 프로그래밍 및 디지털 트윈 구현 경험을 보유하신 분을 찾고 있습니다. 능동적이고 창의적인 개발에 열정이 있는 분들의 많은 지원 부탁드립니다\\u200d.주요업무• Unity 3D 개발• 디지털 트윈 플랫폼 개발• Unity 엔진을 이용한 그래픽 시뮬레이션 프로그램 개발자격요건• 유관 경력 5년 이상의 C# 개발 경험 또는 이에 준하는 역량과 이해도를 보유하신 분• C#, 알고리즘 이해, 네트워크 프로그래밍 경험이 있으신 분• 자료구조, 알고리즘 및 객체지향 개발에 대한 지식과 경험이 있으신 분• Unity 엔진을 이용한 디지털 트윈 구현 경험이 있으신 분• TCP, UDP 를 이용한 클라이언트 서버 구조의 패킷 통신에 대한 이해도를 보유하신 분• 6개월 이상의 장기 프로젝트 경험과 협업에 대한 이해가 있으신 분우대사항컴퓨터공학, 기계공학 전공하신 분• 컴퓨터 그래픽스에 대한 이해도를 보유하신 분• 디지털 트윈 개념과 응용 사례 경험이 있으신 분• 클라이언트 서버 구조의 네트워크 (TCP,UDP) 연동 경험이 있으신 분• 개발 설계 문서 작성이 가능하신 분• 작업 내용 및 가이드 문서화 할 수 있는 능력을 보유하신 분• 자발적이고 능동적인 제안과 개발 진행이 가능하신 분혜택 및 복지[복지 패키지]• 인터엑스에만 있는 지원  직무역량 및 자기계발 교육과정 IX Academy - 직무별 커리어 성장 지원  역량 진단 제도 ‘IX Expert - 성과별 보상• Compensation Package  3년 근속 시, 5일 휴가 or 100만원 보너스  중소기업 청년 소득세 감면 지원• Work Environment  업무 관련 도서 구입 무한지원  사내 스터디 지원 (시험 합격 시, 응시비용 전액 지원)  최신식 IT 장비 지원  자율 복장과 수평적인 조직문화  자유로운 연차 & 1시간단위 시간차 사용• Refresh  효율적인 협업을 위해 팀간 협업 지원비  사내동호회 운영 비용 지원  생일 유급 반차  경조 휴가/경조금 지원  (회사의 복지제도는 상황에 따라 유연하게 변경될 수 있습니다.)채용 전형[인터엑스 합류 여정]지원-＞ 서류전형-＞  채용팀폰미팅-＞  인터뷰(필요시 추가 심층인터뷰)-＞ 처우 협의(평판조회)-＞  최종입사(온보딩)[참고사항]• 전형별 결과에 따라 절차(추가 인터뷰 등)가 추가될 수 있습니다.• 본 공고는 채용 완료 시 조기 마감될 수 있습니다. • 지원서에 기재된 학력 및 경력사항 등 기재사항이 허위임이 판명될 경우 합격이 취소될 수 있습니다.• 장애인 및 국가유공자 등 취업보호대상자는 관계 법령에 따라 우대합니다.• 제출해 주신 지원서의 검토 결과 발표는 지원서에 등록하신 이메일로 개별 안내드립니다.• 구직자 서류는 채용 여부 확정 후 1년간 보관 후 파기됩니다.',\n",
    " '포지션 상세[To be the Global No.1 in Industrial AI & Autonomous Manufacturing – 인터엑스 소개]인터엑스는 디지털 트랜스포메이션(DX)과 제조 AI기술을 기반으로 자율 제조 및 데이터 서비스의 혁신을 주도하는 기업입니다. AI 자율 제조, 제조 데이터 분석, 생성 AI (Gen AI), 일반 인공지능 (AGI) 등 최첨단 기술을 통해 제조 혁신을 이끌어가며 다양한 산업 분야에서 고객 맞춤형 솔루션을 제공합니다. 인터엑스는 \"글로벌 No.1 제조 AI, 자율공장, DX 플랫폼 전문 파트너\"를 목표로, 이를 실현하기 위해 우수 인재를 지속적으로 영입하고 있습니다.[CEO of INTERX 인터뷰 영상]https://youtu.be/-tExbkOqwnA?feature=shared[인터엑스 주요기사]https://interxlab.com:48139/news[인터엑스 인재상]자신의 전문성을 바탕으로 꾸준히 학습하고 활용하면서 그 분야 고수로 인정받는 사람이러한 능력을 바탕으로 미래의 새로운 가치를 만드는 사람 해당 분야에 최고의 지식과 경험을 가진 동시에 실제 가치를 만드는 사람이런 능력을 다른 전문가들이 신뢰하는 수준으로 전달할 수 있는 사람새로운 가치를 만들기 위해 몰입하고 협력하여 끝까지 완수해내는 사람[Job Title]Head of Architecture [채용팀 Talk]인터엑스 연구소에서 Dataspace - B2B 장비거래를 총괄해주실 Head of Architecture, 수석급 인재를 채용합니다.이 포지션은 B2B 장비거래/전자상거래/마켓플레이스의 기획과 설계를 주도하며, 데이터 거래와 트랜잭션 중심의 플랫폼을 구축할 핵심 역할을 맡게 됩니다.B2C가 아닌 제조AI B2B 장비거래를 대한민국 최초 최고수준으로 세팅해주실 도전적인 인재를 채용합니다.이 프로젝트의 성공을 위해 예전 같이 일하시던 팀원들 중심의 팀 세팅 및 최고의 업무환경 등 전폭적인 서포트를 해드릴 예정입니다.[지원자에게 드리는 기회]B2B 장비거래/전자상거래/마켓플레이스의 첫 설계 주도• Big Tech와 유사한 B2C 대규모 플랫폼을 넘어 B2B 장비거래 중심의 새로운 시장 개척팀 빌딩 및 리더십• Big team 세팅 (예전 같이 일하시던 분들 or 신규채용)을 직접 세팅하고 리딩할 기회 제공전폭적인 지원• 글로벌 시장을 선도하기 위한 R&D 인프라와 자원을 적극적으로 지원주요업무[담당 업무]DataSpace 플랫폼 설계 및 아키텍쳐 정의• DataSpace 플랫폼 상세 서비스 설계• B2B 마켓플레이스 플랫폼 설계• 검색(SEO), 추천 시스템, 트랜잭션 설계 등 플랫폼 핵심 기능 설계• 데이터 거래 중심의 비즈니스 프로세스 최적화서비스 아키텍처 설계• 결제 및 트랜잭션 관리 시스템 설계 및 운영• 데이터 기반 고객 맞춤형 솔루션 설계• 디지털 자산 거래 솔루션 설계 및 운영Data Space R&D 팀 리더십• 팀 빌딩 및 조직화• 효율적인 개발 환경 및 인프라 구축자격요건[필수 경험과 역량]10년 이상 대규모 전자상거래 플랫폼 아키텍트 경력검색/추천 시스템 또는 트랜잭션 설계 경험DevOps 인프라 구축 및 개발 경험우대사항[우대사항]글로벌 B2B 플랫폼 설계 경험R&D 조직 관리 및 팀 빌딩 경험제조 AI, 데이터 거래 플랫폼 설계 경험혜택 및 복지[복지 패키지]• 인터엑스에만 있는 지원  직무역량 및 자기계발 교육과정 IX Academy - 직무별 커리어 성장 지원  역량 진단 제도 ‘IX Expert - 성과별 보상• Compensation Package  3년 근속 시, 5일 휴가 or 100만원 보너스  중소기업 청년 소득세 감면 지원• Work Environment  업무 관련 도서 구입 무한지원  사내 스터디 지원 (시험 합격 시, 응시비용 전액 지원)  최신식 IT 장비 지원  자율 복장과 수평적인 조직문화  자유로운 연차 & 1시간단위 시간차 사용• Refresh  효율적인 협업을 위해 팀간 협업 지원비  사내동호회 운영 비용 지원  생일 유급 반차  경조 휴가/경조금 지원  (회사의 복지제도는 상황에 따라 유연하게 변경될 수 있습니다.)채용 전형[인터엑스 합류 여정]지원-＞ 서류전형-＞  채용팀폰미팅-＞  인터뷰(필요시 추가 심층인터뷰)-＞ 처우 협의(평판조회)-＞  최종입사(온보딩)[참고사항]• 전형별 결과에 따라 절차(추가 인터뷰 등)가 추가될 수 있습니다.• 본 공고는 채용 완료 시 조기 마감될 수 있습니다.• 지원서에 기재된 학력 및 경력사항 등 기재사항이 허위임이 판명될 경우 합격이 취소될 수 있습니다.• 장애인 및 국가유공자 등 취업보호대상자는 관계 법령에 따라 우대합니다.• 제출해 주신 지원서의 검토 결과 발표는 지원서에 등록하신 이메일로 개별 안내드립니다.• 구직자 서류는 채용 여부 확정 후 1년간 보관 후 파기됩니다.',\n",
    " '포지션 상세To be the Global No.1 in Industrial AI & Autonomous Manufacturing – 인터엑스 소개]인터엑스는 제조 AI와 자율제조 전문 기업으로, AI와 빅데이터 분석을 통해 제조 공정을 최적화하고 자율적 운영을 지원합니다. 기존의 빅데이터 분석이 단순한 시각화에 그쳤다면, 인터엑스는 이 데이터를 분석하고 실제 운영에 반영함으로써 빠른 의사결정과 문제 해결을 지원하며, 사전 이슈 예방이 가능합니다. 디지털 트윈 기술을 통해 가상의 공간에서 설비 상태를 실시간으로 모니터링할 수 있어 더욱 정밀한 제조 서비스를 제공합니다. 우리는 제조 AI와 자율제조의 무한한 가능성을 통해 제조 기업들이 함께 성장하고 성공적인 스토리를 만들어 가도록 돕고자 합니다.[CEO of INTERX 인터뷰 영상]https://youtu.be/-tExbkOqwnA?feature=shared[인터엑스 주요기사]https://interxlab.com:48139/news[인터엑스 인재상]자신의 전문성을 바탕으로 꾸준히 학습하고 활용하면서 그 분야 고수로 인정받는 사람이러한 능력을 바탕으로 미래의 새로운 가치를 만드는 사람 해당 분야에 최고의 지식과 경험을 가진 동시에 실제 가치를 만드는 사람이런 능력을 다른 전문가들이 신뢰하는 수준으로 전달할 수 있는 사람새로운 가치를 만들기 위해 몰입하고 협력하여 끝까지 완수해내는 사람제출해주신 이력서와 포트폴리오를 기반으로 위의 인재상에 부합하는 부분을 인터뷰 시에 심도 깊게 확인할 예정입니다.인터뷰 질문 또한 미리 공개드리오니 연구소 채용에 대한 안내 가이드의 많은 관심과 지원 부탁드립니다!안내 가이드 링크: https://bit.ly/3YBzf9P[채용팀 Talk]인터엑스는 AI 모델 최적화 및 툴 체인 개발을 담당하실 분을 찾고 있습니다. 모델 압축(양자화, 프루닝)과 HW 최적화를 통해 성능을 끌어올리고, AI 모델을 실시간으로 최적화해 보실 수 있습니다. PyTorch, TensorFlow Lite 등 딥러닝 프레임워크에 익숙하시고 Python/C++에 자신 있다면, 저희와 함께 더 나은 AI 시스템을 만들어 나가보실 수 있습니다! 하드웨어 가속기나 엣지 컴퓨팅 경험이 있다면 더 환영합니다주요업무AI Model Optimization• 모델 압축(양자화, 프루닝 등), 연산자 퓨전, 메모리 최적화 기법을 활용하여 모델 성능 개선 및 모델 추론 속도 향상• CPU/GPU/NPU등 HW를 고려한 AI모델 최적화 기법 개발• 필요한 AI 모듈(예: 객체 인식, 이상 탐지 등)을 최적화하여 실시간 실행 성능 확보• AI 모델 병렬화 및 분산 실행 기술 적용Tool 체인 개발• AI 모델 변환 및 최적화를 위한 툴체인 설계 및 구현신기술 리서치 및 연구 • AI 및 Hardware 가속기 관련 최신 기술 및 연구 동향 분석자격요건• 컴퓨터 공학, AI 또는 관련 분야 석사 학위를 소지하신 분• PyTorch, ONNX, TensorFlow Lite 와 같은 딥러닝 프레임워크 및 모델 변환 도구 사용 경험이 있으신 분• 양자화, 프루닝, 지연 평가(Lazy Evaluation)와 같은 모델 압축 및 최적화 기술에 대한 이해도가 높으신 분• CPU, GPU, NPU을 활용한 AI 최적화 경험이 있으신 분• 프로그래밍 언어 Python 및 C++ 활용 능력이 높으신 분우대사항• 하드웨어 가속기(e.g., FPGA)에서 머신러닝 및 딥러닝 모델 최적화 경험이 있으신 분• 클라우드 기반 AI 솔루션 및 엣지 컴퓨팅 시스템과의 통합 (integration) 경험이 있으신 분• NPU SW Toolkit (Compiler, Quantizer, Runtime 등) 개발 경험이 있으신 분• 팀 환경 내에서 개별적으로 또는 협력적으로 일할 수 있는 능력이 있으신 분혜택 및 복지[복지 패키지]• 인터엑스에만 있는 지원  직무역량 및 자기계발 교육과정 IX Academy - 직무별 커리어 성장 지원  역량 진단 제도 ‘IX Expert - 성과별 보상• Compensation Package  3년 근속 시, 5일 휴가 or 100만원 보너스  중소기업 청년 소득세 감면 지원• Work Environment  업무 관련 도서 구입 무한지원  사내 스터디 지원 (시험 합격 시, 응시비용 전액 지원)  최신식 IT 장비 지원  자율 복장과 수평적인 조직문화  자유로운 연차 & 1시간단위 시간차 사용• Refresh  효율적인 협업을 위해 팀간 협업 지원비  사내동호회 운영 비용 지원  생일 유급 반차  경조 휴가/경조금 지원  (회사의 복지제도는 상황에 따라 유연하게 변경될 수 있습니다.)채용 전형[인터엑스 합류 여정]지원-＞ 서류전형-＞  채용팀폰미팅-＞  인터뷰(필요시 추가 심층인터뷰)-＞ 처우 협의(평판조회)-＞  최종입사(온보딩)[참고사항]• 전형별 결과에 따라 절차(추가 인터뷰 등)가 추가될 수 있습니다.• 본 공고는 채용 완료 시 조기 마감될 수 있습니다. • 지원서에 기재된 학력 및 경력사항 등 기재사항이 허위임이 판명될 경우 합격이 취소될 수 있습니다.• 장애인 및 국가유공자 등 취업보호대상자는 관계 법령에 따라 우대합니다.• 제출해 주신 지원서의 검토 결과 발표는 지원서에 등록하신 이메일로 개별 안내드립니다.• 구직자 서류는 채용 여부 확정 후 1년간 보관 후 파기됩니다.']"
   ]
  },
  {
   "cell_type": "code",
   "execution_count": null,
   "metadata": {},
   "outputs": [],
   "source": [
    "for i in sector_list:\n",
    "    i.split().strip"
   ]
  },
  {
   "cell_type": "code",
   "execution_count": 11,
   "metadata": {},
   "outputs": [
    {
     "name": "stdout",
     "output_type": "stream",
     "text": [
      "sector_list len: 5\n",
      "--------------------------------------------------------------------------------\n",
      "tag_dict: {\"포지션 상세폴라리스오피스에서 새로운 성장을 함께 만들어 나갈 인재를 모십니다.!폴라리스오피스는 단 하나의 앱으로 워드, 엑셀, 파워포인트 등 모든 포맷의 문서를 언제 어디서든 편집할 수 있는 글로벌 오피스 소프트웨어입니다. 모바일, PC 다양한 환경에서 최적화된 서비스를 제공하고  있으며, 안정적이고 뛰어난 호환성으로 원격근무와 스마트오피스 필수 앱으로 자리매김 하였습니다.매일 평균 5만 명의 신규 가입자가 발생하고 현재까지 1.3억명 이상의 글로벌 유저와 60여개 글로벌 고객사를 지니고 있으며, 국내 최초 생성형 언어모델을 탑재한 오피스AI 솔루션 'Nova'를 출시하여 오피스시장을 선도하고 있습니다. 가파른 성장세로 2024년, 폴라리스AI와 폴라리스AI파마를 인수하여 5개 코스닥 상장사로 이루어진 '폴라리스오피스그룹'의 모회사가 되었으며 소프트웨어 뿐만 아니라 다양한 비즈니스에서 AI융합기술 시너지를 모색하고 있습니다. [팀 소개]기업개발팀은 Polaris Office Engine기반의 B2B 서비스 Polaris Docs와 Polaris Converter 개발 및 유지 보수를 합니다.Polaris Docs는 문서 중앙화 기반의 공동편집 솔루션으로써 문서 협업에 최적화된 환경을 제공하기 위해 고객사 시스템환경과 요구사항에 맞게 개발을 하고, 리눅스 컨테이너 환경에서 솔루션을 구축하는 경험을 할 수 있습니다. Polaris Converter는 다양한 문서에 대해서 PDF 또는 이미지 형태로 변환하는 문서 변환 솔루션으로, 완제품 형태의 서버형과 기존 서비스에 연동하여 사용하는 Libary형 제품으로 제공되며, 변화 하는 시장에 맞춰 꾸준한 업그레이드가 진행 됩니다.본인이 가지고 있는 아이디어와 새로운 기술을 적용하는데에 있어 적극적으로 지원하고 있으니 관심있는 분들의 지원을 기다리겠습니다.주요업무• Docker 기반 오피스 솔루션 구축 및 유지보수• 기업 요청사항에 따른 솔루션 기능개발[사용하는 기술 및 환경]• Docker, Spring Java, JPA, JavaScript, JSP, jQuery, Ajax, HTML5, CSS자격요건[자격요건]• 신입 ~ 경력 6년 이하• Spring 기반 Java API 구현 및 내부 서비스 구현• HTML5, CSS3 웹 표준에 대한 이해• JS(ES6)/HTML/CSS를 이용해 웹 페이지 개발 가능하신 분• RDBMS(MariaDB) 사용 경험이 있으신 분• 고객사와 원활하게 소통이 가능하며 외근 및 출장 업무에 거부감이 없으신 분[필요지식 및 기술]• Spring 기반 Java API 구현 및 내부 서비스 구현• HTML5, CSS3 웹 표준에 대한 이해• JavaScript에 대한 이해 및 활용• shell script에 대한 이해[이런 분을 선호해요!]• 새로운 AI 기술과 트렌드에 대한 열린 자세로 끊임없이 학습·적용하며, 변화에 유연하게 대응하는 태도가 좋은 분• 협업 동료와의 원활한 커뮤니케이션을 바탕으로 협업을 이끌어내고, 요구사항을 정확히 파악하여 반영하는 태도가 좋은 분• 사용자 중심의 관점과 논리적 사고를 통해 문제를 파악하고 해결책을 제시할 수 있는 태도가 좋은 분우대사항• Linux 서버 운영 경험자• Docker 환경에서 서비스 유경험자• 서버 이중화 유경험자• 서버 기반의 제품 서비스 유경험자• 고객 요구사항 관련 미팅 및 유지보수/구축업무를 위한 외근 및 출장 가능한 분• [제출자료]•이력서(자기소개서와 기본 인적사항 기재해주세요.)•경력기술서•포트폴리오 (선택사항)혜택 및 복지[Polaris Office Culture]■ 성장의 에너지를 경험해요!•   폴라리스오피스는 가파르게 성장하며 지금은 5개 상장사로 구성된 폴라리스오피스그룹의 모회사가 되었어요. 구성원으로 합류한다면 성장의 에너지와 문화를 경험할 수 있어요! •  국내 최초 온디바이스 AI 오피스 솔루션으로 글로벌 1억 3천만명 이상의 가입자를 보유하고 있어요! 높은 트래픽을 지닌 서비스를 경험하며 성장하고 커리어도 Level Up! 할 수 있어요. •  개발자가 성장할 수 있는 문화를 지향해요.  Devday, 개인 연구시간 부여, 직무 관련 도서/교육비를 폭넓게 지원하며 새로운 기술을 경험하고 성장할 수 있는 환경을 만들어가고 있어요. ■ 커뮤니케이션은 수평적으로, 업무는 체계적으로 해요!•  영어 호칭을 사용한 지 무려 10년차! 유연한 커뮤니케이션을 위해 직급을 사용하지  않고 누구나 적극적으로 의견을 낼  수 있는 환경을 만들었어요.•  “Meet up with Project” 행사를 통해 프로젝트별 목표와 성과를 전사에 공유하고 회고하는 시간을 가져요. 프로젝트 구성원 모두가 목표를 생각하고 동기부여될 수 있는 ‘등대’와도 같은 행사에요. • Teams, Confluence 와 같은 협업툴을 적극 활용하여 산출물은 투명하게 관리하고 불필요한 보고체계는 최소화하여 보다 집중해서 업무에 몰두할 수 있어요.■ 자율과 책임의 조직문화를 기반으로 혁신적인 근무제도를 시행하고있어요.• 원격지에 거주하는 개발인재는 100% 재택근무를 지원해요. 연고지에서 이전 불필요! 출퇴근 비용과 시간 절감까지 하고 업무효율도 높일 수 있어요. •  퇴근 후 저녁이 있는 삶을 존중해요. 하이브리드 근무제를 운영해서 주2회 재택근무와 자율출퇴근제를 사용해요. 8시~10시 30분 까지 자유롭게 출근하고 야근하는 날이 있으면 다른 날 일찍 퇴근할 수 있어요. ■ Work & Life Synergy ! 휴식이 있어야 즐겁게 일할 수 있고 생산성과 만족도도 높아져요!•  일하는 시간보다는 성과와 도전에 더 집중해요. 불필요한 야근을 줄이고 업무효율성을 높이는 근무환경을 만들어가고 있어요.      • 당일 연차사용도 OK! 매년 전직원이 99% 이상 연차를 사용하고 있어요. 가족과 함께 소중한 날을 보낼 수 있도록 연2회 패밀리데이(유급휴가)도 지원해요. [Benefits]• 든든한 점심식사 1만원 지원!• 급한 용무 볼 수 있는 반반차(외출) 휴가제도 운영• 더 행복한 생일을 위한 20만원 상당의 백화점 상품권 지원• 동반가족 1인 포함 종합건강검진 지원• 자녀 초등학교 입학선물 지원• 신규입사 Welcome Kit, 임신직원 Maternity Kit 지원• 1년에 2번, 가족과 오붓한 시간을 보낼 수 있는 Family Day• 질병, 부상 관련 본인 의료비 지원• 자기개발 및 어학능력 향상을 위한 외국어 교육비 지원• 직무 관련 도서구입비 지원• 임직원 생활안정자금 대출제도 운영• 결혼축하금 100만원 및 7일 휴가지원, 본인/배우자 출산선물 지원• 중소기업 청년 소득세 감면제도 운영• 휴게실, 안마의자, 커피머신, 음료 등 입사하면 더 많은 혜택이!채용 전형•서류전형 ＞ 온라인코딩테스트 ＞ 1차 인터뷰 ＞ 인성검사/2차 인터뷰 ＞ 처우협상 ＞ 최종합격\": 1, '포지션 상세베링랩은 가장 어렵고 난해한 번역 문제에 대해 AI기반 솔루션을 제공하는 Language Tech 기업입니다.법률/특허 등 전문 도메인에 특화된 AI번역 엔진 및 손쉽게 번역 및 검수를 할 수 있는 전문 번역 협업 툴 (CAT Tool) 또한 개발하고 있습니다.세계적인 학회 WMT20 (World Machine Translation) 및 WAT (Workshop on Asia Translation) 2021에서 1위를 기록할 만큼 최고의 기술력을 보유하고 있으며 네이버와 서울대학교로부터 기관투자를 유치했습니다.위의 기술적 자본을 바탕으로 내외에서 많은 관심을 받고 있으며, 현재 공식 서비스 출시를 앞두고 있습니다. 저희는 탄탄한 기술력과 앞으로의 성장 가능성을 바탕으로 함께 성장해 나가실 Rust 개발자를 모시고자 합니다.주요업무- 번역의 의뢰부터 진행/검수/납품/결제까지의 전 단계를 커버하는 번역 서비스 플랫폼을 만듭니다.자격요건- 매너있지만 확실하게 자기 주장하시는분- Rust 혹은 프로그래밍에 대한 깊은 이해가 있으신 분- CI/CD 프로세스에 대한 조예가 있으신 분- System design의 Trade-off에 대한 논의를 좋아하시는 분- Execution이 빠르신 분우대사항- Microservice Architecture에 익숙하신 분- Domain-driven Development에 관심이 있거나 조예가 깊으신 분- 대용량 Transaction 처리 경험이 있으신 분- Concurrent Programming에 경험이 있으신 분- Socket programming 경험이 있으신 분- DevOps 경험이 있으신 분혜택 및 복지- 최신형 노트북 제공 (맥북/기타)- 주 1회 재택근무 (선택 가능)- 점심시간 제외 7시간 근무- 유연근무제 운영 (8시부터 11시까지 자유롭게 출근하세요!)- 도서구입비/교육비 무제한 지원- 과자, 음료, 주류(?!) 등 간식 무제한 제공': 1, '포지션 상세[To be the Global No.1 in Industrial AI & Autonomous Manufacturing | 인터엑스 소개]인터엑스는 디지털 기술을 통한 새로운 가치 창출을 목표로 하는 산업 AX & 자율 제조 전문 파트너입니다.누구에게나 쉬운 AI, 산업 AI 트랜스포메이션의 동반자로서, 고객 중심의 혁신을 통해 Global No.1 Industrial AI & DataSpace Partner로 도약하고 있습니다.AI 자율 제조, 제조 데이터 분석, 생성형 AI (Gen AI), 일반 인공지능 (AGI) 등 최첨단 기술을 기반으로 고객 맞춤형 솔루션을 제공하며,산업 전반의 디지털 전환을 지원하는 파트너로 자리매김하고 있습니다.[핵심 비전과 성장]• 시리즈 B 투자 유치 성공: 인터엑스는 180억 원 규모의 시리즈 B 투자를 성공적으로 유치하며, 글로벌 AI 및 자율 제조 시장을 선도하는 데 필요한 자본과 신뢰를 확보했습니다.• IPO 상장 준비 중: 인터엑스는 2026년 상장을 목표로 글로벌 시장에서 더욱 빠르게 성장하며, 최고의 제조 AI & 데이터 서비스 전문 기업으로 자리 잡고 있습니다.• Goal 2025로 설정한 \"고객 중심 AX 전문 파트너십 구축\"을 위해 제조 AX & 데이터 혁신 선도, AI 자율공장 기술 개발 및 적용 확대, 고객 맞춤형 솔루션과 서비스를 통한 지속 성장등의 구체적 비전을 바탕으로 끊임없이 도전하고 있습니다.인터엑스는 이러한 비전을 실현하기 위해 우수한 인재를 영입하고, 최고의 AI 전문가 조직을 구축해 가고 있습니다. 함께 자율제조 산업의 미래를 만들어갈 당신을 기다립니다.[CEO of INTERX 인터뷰 영상]https://youtu.be/-tExbkOqwnA?feature=shared[인터엑스 주요기사]https://interxlab.com:48139/news[인터엑스 인재상]자신의 전문성을 바탕으로 꾸준히 학습하고 활용하면서 그 분야 고수로 인정받는 사람이러한 능력을 바탕으로 미래의 새로운 가치를 만드는 사람 해당 분야에 최고의 지식과 경험을 가진 동시에 실제 가치를 만드는 사람이런 능력을 다른 전문가들이 신뢰하는 수준으로 전달할 수 있는 사람새로운 가치를 만들기 위해 몰입하고 협력하여 끝까지 완수해내는 사람[채용팀 Talk]Unity 엔진과 C#을 활용해 디지털 트윈 플랫폼 및 그래픽 시뮬레이션 프로그램을 개발할 Unity 개발자를 채용중에 있습니다! 유관 경력 5년 이상의 Unity 개발 경험과 네트워크 프로그래밍 및 디지털 트윈 구현 경험을 보유하신 분을 찾고 있습니다. 능동적이고 창의적인 개발에 열정이 있는 분들의 많은 지원 부탁드립니다\\u200d.주요업무• Unity 3D 개발• 디지털 트윈 플랫폼 개발• Unity 엔진을 이용한 그래픽 시뮬레이션 프로그램 개발자격요건• 유관 경력 5년 이상의 C# 개발 경험 또는 이에 준하는 역량과 이해도를 보유하신 분• C#, 알고리즘 이해, 네트워크 프로그래밍 경험이 있으신 분• 자료구조, 알고리즘 및 객체지향 개발에 대한 지식과 경험이 있으신 분• Unity 엔진을 이용한 디지털 트윈 구현 경험이 있으신 분• TCP, UDP 를 이용한 클라이언트 서버 구조의 패킷 통신에 대한 이해도를 보유하신 분• 6개월 이상의 장기 프로젝트 경험과 협업에 대한 이해가 있으신 분우대사항컴퓨터공학, 기계공학 전공하신 분• 컴퓨터 그래픽스에 대한 이해도를 보유하신 분• 디지털 트윈 개념과 응용 사례 경험이 있으신 분• 클라이언트 서버 구조의 네트워크 (TCP,UDP) 연동 경험이 있으신 분• 개발 설계 문서 작성이 가능하신 분• 작업 내용 및 가이드 문서화 할 수 있는 능력을 보유하신 분• 자발적이고 능동적인 제안과 개발 진행이 가능하신 분혜택 및 복지[복지 패키지]• 인터엑스에만 있는 지원  직무역량 및 자기계발 교육과정 IX Academy - 직무별 커리어 성장 지원  역량 진단 제도 ‘IX Expert - 성과별 보상• Compensation Package  3년 근속 시, 5일 휴가 or 100만원 보너스  중소기업 청년 소득세 감면 지원• Work Environment  업무 관련 도서 구입 무한지원  사내 스터디 지원 (시험 합격 시, 응시비용 전액 지원)  최신식 IT 장비 지원  자율 복장과 수평적인 조직문화  자유로운 연차 & 1시간단위 시간차 사용• Refresh  효율적인 협업을 위해 팀간 협업 지원비  사내동호회 운영 비용 지원  생일 유급 반차  경조 휴가/경조금 지원  (회사의 복지제도는 상황에 따라 유연하게 변경될 수 있습니다.)채용 전형[인터엑스 합류 여정]지원-＞ 서류전형-＞  채용팀폰미팅-＞  인터뷰(필요시 추가 심층인터뷰)-＞ 처우 협의(평판조회)-＞  최종입사(온보딩)[참고사항]• 전형별 결과에 따라 절차(추가 인터뷰 등)가 추가될 수 있습니다.• 본 공고는 채용 완료 시 조기 마감될 수 있습니다. • 지원서에 기재된 학력 및 경력사항 등 기재사항이 허위임이 판명될 경우 합격이 취소될 수 있습니다.• 장애인 및 국가유공자 등 취업보호대상자는 관계 법령에 따라 우대합니다.• 제출해 주신 지원서의 검토 결과 발표는 지원서에 등록하신 이메일로 개별 안내드립니다.• 구직자 서류는 채용 여부 확정 후 1년간 보관 후 파기됩니다.': 1, '포지션 상세[To be the Global No.1 in Industrial AI & Autonomous Manufacturing – 인터엑스 소개]인터엑스는 디지털 트랜스포메이션(DX)과 제조 AI기술을 기반으로 자율 제조 및 데이터 서비스의 혁신을 주도하는 기업입니다. AI 자율 제조, 제조 데이터 분석, 생성 AI (Gen AI), 일반 인공지능 (AGI) 등 최첨단 기술을 통해 제조 혁신을 이끌어가며 다양한 산업 분야에서 고객 맞춤형 솔루션을 제공합니다. 인터엑스는 \"글로벌 No.1 제조 AI, 자율공장, DX 플랫폼 전문 파트너\"를 목표로, 이를 실현하기 위해 우수 인재를 지속적으로 영입하고 있습니다.[CEO of INTERX 인터뷰 영상]https://youtu.be/-tExbkOqwnA?feature=shared[인터엑스 주요기사]https://interxlab.com:48139/news[인터엑스 인재상]자신의 전문성을 바탕으로 꾸준히 학습하고 활용하면서 그 분야 고수로 인정받는 사람이러한 능력을 바탕으로 미래의 새로운 가치를 만드는 사람 해당 분야에 최고의 지식과 경험을 가진 동시에 실제 가치를 만드는 사람이런 능력을 다른 전문가들이 신뢰하는 수준으로 전달할 수 있는 사람새로운 가치를 만들기 위해 몰입하고 협력하여 끝까지 완수해내는 사람[Job Title]Head of Architecture [채용팀 Talk]인터엑스 연구소에서 Dataspace - B2B 장비거래를 총괄해주실 Head of Architecture, 수석급 인재를 채용합니다.이 포지션은 B2B 장비거래/전자상거래/마켓플레이스의 기획과 설계를 주도하며, 데이터 거래와 트랜잭션 중심의 플랫폼을 구축할 핵심 역할을 맡게 됩니다.B2C가 아닌 제조AI B2B 장비거래를 대한민국 최초 최고수준으로 세팅해주실 도전적인 인재를 채용합니다.이 프로젝트의 성공을 위해 예전 같이 일하시던 팀원들 중심의 팀 세팅 및 최고의 업무환경 등 전폭적인 서포트를 해드릴 예정입니다.[지원자에게 드리는 기회]B2B 장비거래/전자상거래/마켓플레이스의 첫 설계 주도• Big Tech와 유사한 B2C 대규모 플랫폼을 넘어 B2B 장비거래 중심의 새로운 시장 개척팀 빌딩 및 리더십• Big team 세팅 (예전 같이 일하시던 분들 or 신규채용)을 직접 세팅하고 리딩할 기회 제공전폭적인 지원• 글로벌 시장을 선도하기 위한 R&D 인프라와 자원을 적극적으로 지원주요업무[담당 업무]DataSpace 플랫폼 설계 및 아키텍쳐 정의• DataSpace 플랫폼 상세 서비스 설계• B2B 마켓플레이스 플랫폼 설계• 검색(SEO), 추천 시스템, 트랜잭션 설계 등 플랫폼 핵심 기능 설계• 데이터 거래 중심의 비즈니스 프로세스 최적화서비스 아키텍처 설계• 결제 및 트랜잭션 관리 시스템 설계 및 운영• 데이터 기반 고객 맞춤형 솔루션 설계• 디지털 자산 거래 솔루션 설계 및 운영Data Space R&D 팀 리더십• 팀 빌딩 및 조직화• 효율적인 개발 환경 및 인프라 구축자격요건[필수 경험과 역량]10년 이상 대규모 전자상거래 플랫폼 아키텍트 경력검색/추천 시스템 또는 트랜잭션 설계 경험DevOps 인프라 구축 및 개발 경험우대사항[우대사항]글로벌 B2B 플랫폼 설계 경험R&D 조직 관리 및 팀 빌딩 경험제조 AI, 데이터 거래 플랫폼 설계 경험혜택 및 복지[복지 패키지]• 인터엑스에만 있는 지원  직무역량 및 자기계발 교육과정 IX Academy - 직무별 커리어 성장 지원  역량 진단 제도 ‘IX Expert - 성과별 보상• Compensation Package  3년 근속 시, 5일 휴가 or 100만원 보너스  중소기업 청년 소득세 감면 지원• Work Environment  업무 관련 도서 구입 무한지원  사내 스터디 지원 (시험 합격 시, 응시비용 전액 지원)  최신식 IT 장비 지원  자율 복장과 수평적인 조직문화  자유로운 연차 & 1시간단위 시간차 사용• Refresh  효율적인 협업을 위해 팀간 협업 지원비  사내동호회 운영 비용 지원  생일 유급 반차  경조 휴가/경조금 지원  (회사의 복지제도는 상황에 따라 유연하게 변경될 수 있습니다.)채용 전형[인터엑스 합류 여정]지원-＞ 서류전형-＞  채용팀폰미팅-＞  인터뷰(필요시 추가 심층인터뷰)-＞ 처우 협의(평판조회)-＞  최종입사(온보딩)[참고사항]• 전형별 결과에 따라 절차(추가 인터뷰 등)가 추가될 수 있습니다.• 본 공고는 채용 완료 시 조기 마감될 수 있습니다.• 지원서에 기재된 학력 및 경력사항 등 기재사항이 허위임이 판명될 경우 합격이 취소될 수 있습니다.• 장애인 및 국가유공자 등 취업보호대상자는 관계 법령에 따라 우대합니다.• 제출해 주신 지원서의 검토 결과 발표는 지원서에 등록하신 이메일로 개별 안내드립니다.• 구직자 서류는 채용 여부 확정 후 1년간 보관 후 파기됩니다.': 1, '포지션 상세To be the Global No.1 in Industrial AI & Autonomous Manufacturing – 인터엑스 소개]인터엑스는 제조 AI와 자율제조 전문 기업으로, AI와 빅데이터 분석을 통해 제조 공정을 최적화하고 자율적 운영을 지원합니다. 기존의 빅데이터 분석이 단순한 시각화에 그쳤다면, 인터엑스는 이 데이터를 분석하고 실제 운영에 반영함으로써 빠른 의사결정과 문제 해결을 지원하며, 사전 이슈 예방이 가능합니다. 디지털 트윈 기술을 통해 가상의 공간에서 설비 상태를 실시간으로 모니터링할 수 있어 더욱 정밀한 제조 서비스를 제공합니다. 우리는 제조 AI와 자율제조의 무한한 가능성을 통해 제조 기업들이 함께 성장하고 성공적인 스토리를 만들어 가도록 돕고자 합니다.[CEO of INTERX 인터뷰 영상]https://youtu.be/-tExbkOqwnA?feature=shared[인터엑스 주요기사]https://interxlab.com:48139/news[인터엑스 인재상]자신의 전문성을 바탕으로 꾸준히 학습하고 활용하면서 그 분야 고수로 인정받는 사람이러한 능력을 바탕으로 미래의 새로운 가치를 만드는 사람 해당 분야에 최고의 지식과 경험을 가진 동시에 실제 가치를 만드는 사람이런 능력을 다른 전문가들이 신뢰하는 수준으로 전달할 수 있는 사람새로운 가치를 만들기 위해 몰입하고 협력하여 끝까지 완수해내는 사람제출해주신 이력서와 포트폴리오를 기반으로 위의 인재상에 부합하는 부분을 인터뷰 시에 심도 깊게 확인할 예정입니다.인터뷰 질문 또한 미리 공개드리오니 연구소 채용에 대한 안내 가이드의 많은 관심과 지원 부탁드립니다!안내 가이드 링크: https://bit.ly/3YBzf9P[채용팀 Talk]인터엑스는 AI 모델 최적화 및 툴 체인 개발을 담당하실 분을 찾고 있습니다. 모델 압축(양자화, 프루닝)과 HW 최적화를 통해 성능을 끌어올리고, AI 모델을 실시간으로 최적화해 보실 수 있습니다. PyTorch, TensorFlow Lite 등 딥러닝 프레임워크에 익숙하시고 Python/C++에 자신 있다면, 저희와 함께 더 나은 AI 시스템을 만들어 나가보실 수 있습니다! 하드웨어 가속기나 엣지 컴퓨팅 경험이 있다면 더 환영합니다주요업무AI Model Optimization• 모델 압축(양자화, 프루닝 등), 연산자 퓨전, 메모리 최적화 기법을 활용하여 모델 성능 개선 및 모델 추론 속도 향상• CPU/GPU/NPU등 HW를 고려한 AI모델 최적화 기법 개발• 필요한 AI 모듈(예: 객체 인식, 이상 탐지 등)을 최적화하여 실시간 실행 성능 확보• AI 모델 병렬화 및 분산 실행 기술 적용Tool 체인 개발• AI 모델 변환 및 최적화를 위한 툴체인 설계 및 구현신기술 리서치 및 연구 • AI 및 Hardware 가속기 관련 최신 기술 및 연구 동향 분석자격요건• 컴퓨터 공학, AI 또는 관련 분야 석사 학위를 소지하신 분• PyTorch, ONNX, TensorFlow Lite 와 같은 딥러닝 프레임워크 및 모델 변환 도구 사용 경험이 있으신 분• 양자화, 프루닝, 지연 평가(Lazy Evaluation)와 같은 모델 압축 및 최적화 기술에 대한 이해도가 높으신 분• CPU, GPU, NPU을 활용한 AI 최적화 경험이 있으신 분• 프로그래밍 언어 Python 및 C++ 활용 능력이 높으신 분우대사항• 하드웨어 가속기(e.g., FPGA)에서 머신러닝 및 딥러닝 모델 최적화 경험이 있으신 분• 클라우드 기반 AI 솔루션 및 엣지 컴퓨팅 시스템과의 통합 (integration) 경험이 있으신 분• NPU SW Toolkit (Compiler, Quantizer, Runtime 등) 개발 경험이 있으신 분• 팀 환경 내에서 개별적으로 또는 협력적으로 일할 수 있는 능력이 있으신 분혜택 및 복지[복지 패키지]• 인터엑스에만 있는 지원  직무역량 및 자기계발 교육과정 IX Academy - 직무별 커리어 성장 지원  역량 진단 제도 ‘IX Expert - 성과별 보상• Compensation Package  3년 근속 시, 5일 휴가 or 100만원 보너스  중소기업 청년 소득세 감면 지원• Work Environment  업무 관련 도서 구입 무한지원  사내 스터디 지원 (시험 합격 시, 응시비용 전액 지원)  최신식 IT 장비 지원  자율 복장과 수평적인 조직문화  자유로운 연차 & 1시간단위 시간차 사용• Refresh  효율적인 협업을 위해 팀간 협업 지원비  사내동호회 운영 비용 지원  생일 유급 반차  경조 휴가/경조금 지원  (회사의 복지제도는 상황에 따라 유연하게 변경될 수 있습니다.)채용 전형[인터엑스 합류 여정]지원-＞ 서류전형-＞  채용팀폰미팅-＞  인터뷰(필요시 추가 심층인터뷰)-＞ 처우 협의(평판조회)-＞  최종입사(온보딩)[참고사항]• 전형별 결과에 따라 절차(추가 인터뷰 등)가 추가될 수 있습니다.• 본 공고는 채용 완료 시 조기 마감될 수 있습니다. • 지원서에 기재된 학력 및 경력사항 등 기재사항이 허위임이 판명될 경우 합격이 취소될 수 있습니다.• 장애인 및 국가유공자 등 취업보호대상자는 관계 법령에 따라 우대합니다.• 제출해 주신 지원서의 검토 결과 발표는 지원서에 등록하신 이메일로 개별 안내드립니다.• 구직자 서류는 채용 여부 확정 후 1년간 보관 후 파기됩니다.': 1}\n"
     ]
    },
    {
     "data": {
      "image/png": "[encoded data removed]",
      "text/plain": [
       "<Figure size 1000x800 with 1 Axes>"
      ]
     },
     "metadata": {},
     "output_type": "display_data"
    }
   ],
   "source": [
    "keyword='포지션'\n",
    "stopwords = [keyword, ''] # wordcloud에서 제외할 단어\n",
    "\n",
    "print(f'sector_list len: {len(sector_list)}')\n",
    "make_wordcloud(sector_list, stopwords, 50)"
   ]
  },
  {
   "cell_type": "code",
   "execution_count": null,
   "metadata": {},
   "outputs": [],
   "source": []
  }
 ],
 "metadata": {
  "kernelspec": {
   "display_name": "EV_PY312",
   "language": "python",
   "name": "python3"
  },
  "language_info": {
   "codemirror_mode": {
    "name": "ipython",
    "version": 3
   },
   "file_extension": ".py",
   "mimetype": "text/x-python",
   "name": "python",
   "nbconvert_exporter": "python",
   "pygments_lexer": "ipython3",
   "version": "3.12.8"
  }
 },
 "nbformat": 4,
 "nbformat_minor": 2
}
