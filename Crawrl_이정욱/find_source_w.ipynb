{
 "cells": [
  {
   "cell_type": "code",
   "execution_count": 15,
   "metadata": {},
   "outputs": [],
   "source": [
    "import time\n",
    "from bs4 import BeautifulSoup\n",
    "from selenium import webdriver\n",
    "from selenium.webdriver.common.by import By\n",
    "from selenium.webdriver.common.keys  import Keys\n",
    "from selenium.webdriver.common.action_chains import ActionChains\n",
    "import pandas as pd"
   ]
  },
  {
   "cell_type": "code",
   "execution_count": null,
   "metadata": {},
   "outputs": [],
   "source": [
    "def scroll_all(driver):\n",
    "    global ready_count\n",
    "    ready_count = 0\n",
    "    body = driver.find_element(By.TAG_NAME, \"body\")\n",
    "    \n",
    "    for _ in range(100):  # 10번 페이지 다운\n",
    "        body.send_keys(Keys.END)\n",
    "        time.sleep(1)\n",
    "    \n",
    "    ready_count = 1\n"
   ]
  },
  {
   "cell_type": "code",
   "execution_count": 17,
   "metadata": {},
   "outputs": [],
   "source": [
    "def main():\n",
    "    global parse\n",
    "    driver = webdriver.Chrome()\n",
    "\n",
    "    # login(driver, user_id, passwd)\n",
    "    scroll_all(driver)       \n",
    "    # time.sleep(5) \n",
    "    # parse = get_page_source(driver)\n",
    "    \n",
    "    time.sleep(5)\n",
    "    driver.close()\n",
    "    return "
   ]
  },
  {
   "cell_type": "code",
   "execution_count": 18,
   "metadata": {},
   "outputs": [],
   "source": [
    "# driver = webdriver.Chrome()\n",
    "\n",
    "# # login(driver, user_id, passwd)\n",
    "# driver.get('https://www.wanted.co.kr/wdlist/518?country=kr&job_sort=job.latest_order&years=-1&locations=all')\n",
    "# # driver.switch_to.frame('mainFrame') # 해당 iframe으로 이동\n",
    "# scroll_all(driver)\n",
    "\n",
    "# html = driver.page_source\n",
    "# soup = BeautifulSoup(html, 'html.parser')\n",
    "\n",
    "# results = soup.find_all('div', {'class': 'JobCard_JobCard__Tb7pI'})\n",
    "# # 'span',{'class':'JobCard_JobCard__body__position__CyaGY wds-1mh3acf'}\n",
    "\n",
    "# # print(results)\n",
    "\n",
    "# # return results\n",
    "# print(results)"
   ]
  },
  {
   "cell_type": "code",
   "execution_count": 19,
   "metadata": {},
   "outputs": [
    {
     "name": "stdout",
     "output_type": "stream",
     "text": [
      "/wd/267736\n",
      "<span class=\"JobCard_JobCard__body__position__CyaGY wds-1mh3acf\">소프트웨어 엔지니어</span>\n",
      "<span class=\"CompanyNameWithLocationPeriod_CompanyNameWithLocationPeriod__company__j_pad wds-1m3gvmz\">폴라리스오피스</span>\n",
      "<span class=\"CompanyNameWithLocationPeriod_CompanyNameWithLocationPeriod__location__FHNmN wds-1m3gvmz\">서울 구로구 · 신입-경력 6년</span>\n"
     ]
    }
   ],
   "source": [
    "driver = webdriver.Chrome()\n",
    "\n",
    "# login(driver, user_id, passwd)\n",
    "driver.get('https://www.wanted.co.kr/wdlist/518?country=kr&job_sort=job.latest_order&years=-1&locations=all')\n",
    "# driver.switch_to.frame('mainFrame') # 해당 iframe으로 이동\n",
    "scroll_all(driver)\n",
    "\n",
    "html = driver.page_source\n",
    "soup = BeautifulSoup(html, 'html.parser')\n",
    "\n",
    "results_a = soup.find_all('div',{'class':'JobCard_JobCard__Tb7pI'})\n",
    "results0 = soup.find_all('span', {'class': 'JobCard_JobCard__body__position__CyaGY wds-1mh3acf'})\n",
    "results1 = soup.find_all('span', {'class': 'CompanyNameWithLocationPeriod_CompanyNameWithLocationPeriod__company__j_pad wds-1m3gvmz'})\n",
    "results2 = soup.find_all('span', {'class': 'CompanyNameWithLocationPeriod_CompanyNameWithLocationPeriod__location__FHNmN wds-1m3gvmz'})\n",
    "# 'span',{'class':'JobCard_JobCard__body__position__CyaGY wds-1mh3acf'}\n",
    "\n",
    "# print(results)\n",
    "time.sleep(1)\n",
    "driver.close()\n",
    "\n",
    "# return results\n",
    "print(results_a[0].a['href'])\n",
    "print(results0[0])\n",
    "print(results1[0])\n",
    "print(results2[0])\n"
   ]
  },
  {
   "cell_type": "code",
   "execution_count": 20,
   "metadata": {},
   "outputs": [],
   "source": [
    "exportDF = pd.DataFrame(columns=['포지션','회사명','지역명','경력','링크'])"
   ]
  },
  {
   "cell_type": "code",
   "execution_count": 21,
   "metadata": {},
   "outputs": [],
   "source": [
    "region = []\n",
    "years = []"
   ]
  },
  {
   "cell_type": "code",
   "execution_count": 22,
   "metadata": {},
   "outputs": [],
   "source": [
    "for i in range(len(results2)):\n",
    "    region.append(results2[i].text.split('·')[0])\n",
    "    years.append(results2[i].text.split('·')[1])"
   ]
  },
  {
   "cell_type": "code",
   "execution_count": 23,
   "metadata": {},
   "outputs": [],
   "source": [
    "for i in range(len(results0)):\n",
    "    results0[i] = results0[i].text\n",
    "    results1[i] = results1[i].text\n",
    "    results2[i] = results2[i].text\n",
    "    results_a[i] = results_a[i].a['href']"
   ]
  },
  {
   "cell_type": "code",
   "execution_count": 24,
   "metadata": {},
   "outputs": [],
   "source": [
    "exportDF['포지션']=results0\n",
    "exportDF['회사명']=results1\n",
    "exportDF['지역명']=region\n",
    "exportDF['경력']=years\n",
    "exportDF['링크']=results_a"
   ]
  },
  {
   "cell_type": "code",
   "execution_count": 25,
   "metadata": {},
   "outputs": [
    {
     "data": {
      "text/html": [
       "<div>\n",
       "<style scoped>\n",
       "    .dataframe tbody tr th:only-of-type {\n",
       "        vertical-align: middle;\n",
       "    }\n",
       "\n",
       "    .dataframe tbody tr th {\n",
       "        vertical-align: top;\n",
       "    }\n",
       "\n",
       "    .dataframe thead th {\n",
       "        text-align: right;\n",
       "    }\n",
       "</style>\n",
       "<table border=\"1\" class=\"dataframe\">\n",
       "  <thead>\n",
       "    <tr style=\"text-align: right;\">\n",
       "      <th></th>\n",
       "      <th>포지션</th>\n",
       "      <th>회사명</th>\n",
       "      <th>지역명</th>\n",
       "      <th>경력</th>\n",
       "      <th>링크</th>\n",
       "    </tr>\n",
       "  </thead>\n",
       "  <tbody>\n",
       "    <tr>\n",
       "      <th>0</th>\n",
       "      <td>소프트웨어 엔지니어</td>\n",
       "      <td>폴라리스오피스</td>\n",
       "      <td>서울 구로구</td>\n",
       "      <td>신입-경력 6년</td>\n",
       "      <td>/wd/267736</td>\n",
       "    </tr>\n",
       "    <tr>\n",
       "      <th>1</th>\n",
       "      <td>시니어 개발자 (Rust)</td>\n",
       "      <td>베링랩</td>\n",
       "      <td>서울 마포구</td>\n",
       "      <td>경력 5-10년</td>\n",
       "      <td>/wd/206209</td>\n",
       "    </tr>\n",
       "    <tr>\n",
       "      <th>2</th>\n",
       "      <td>Unity 개발자</td>\n",
       "      <td>인터엑스</td>\n",
       "      <td>서울 금천구</td>\n",
       "      <td>경력 5-10년</td>\n",
       "      <td>/wd/261266</td>\n",
       "    </tr>\n",
       "    <tr>\n",
       "      <th>3</th>\n",
       "      <td>Head of Architecture</td>\n",
       "      <td>인터엑스</td>\n",
       "      <td>서울 금천구</td>\n",
       "      <td>경력 10년 이상</td>\n",
       "      <td>/wd/256936</td>\n",
       "    </tr>\n",
       "    <tr>\n",
       "      <th>4</th>\n",
       "      <td>AI Model Optimization Engineer (CPU/GPU/NPU)</td>\n",
       "      <td>인터엑스</td>\n",
       "      <td>울산 중구</td>\n",
       "      <td>경력 3-15년</td>\n",
       "      <td>/wd/252960</td>\n",
       "    </tr>\n",
       "    <tr>\n",
       "      <th>...</th>\n",
       "      <td>...</td>\n",
       "      <td>...</td>\n",
       "      <td>...</td>\n",
       "      <td>...</td>\n",
       "      <td>...</td>\n",
       "    </tr>\n",
       "    <tr>\n",
       "      <th>3212</th>\n",
       "      <td>DBMS 엔진 개발</td>\n",
       "      <td>큐브리드</td>\n",
       "      <td>서울 강남구</td>\n",
       "      <td>경력 1-15년</td>\n",
       "      <td>/wd/118825</td>\n",
       "    </tr>\n",
       "    <tr>\n",
       "      <th>3213</th>\n",
       "      <td>Windows Application 개발자</td>\n",
       "      <td>아진엑스텍</td>\n",
       "      <td>경기 군포시</td>\n",
       "      <td>경력 8-12년</td>\n",
       "      <td>/wd/113536</td>\n",
       "    </tr>\n",
       "    <tr>\n",
       "      <th>3214</th>\n",
       "      <td>친환경 올인원 에어케어시스템 PCB 및 펌웨어</td>\n",
       "      <td>엔트</td>\n",
       "      <td>경기 부천시</td>\n",
       "      <td>경력 5-10년</td>\n",
       "      <td>/wd/76159</td>\n",
       "    </tr>\n",
       "    <tr>\n",
       "      <th>3215</th>\n",
       "      <td>PCB약품 개발, 제조업, 화학약품</td>\n",
       "      <td>엔알지엔씨</td>\n",
       "      <td>경기 수원시</td>\n",
       "      <td>신입</td>\n",
       "      <td>/wd/87790</td>\n",
       "    </tr>\n",
       "    <tr>\n",
       "      <th>3216</th>\n",
       "      <td>C/C++개발자(3년~)</td>\n",
       "      <td>제노레이</td>\n",
       "      <td>경기 성남시</td>\n",
       "      <td>경력 3-10년</td>\n",
       "      <td>/wd/80732</td>\n",
       "    </tr>\n",
       "  </tbody>\n",
       "</table>\n",
       "<p>3217 rows × 5 columns</p>\n",
       "</div>"
      ],
      "text/plain": [
       "                                               포지션      회사명      지역명  \\\n",
       "0                                       소프트웨어 엔지니어  폴라리스오피스  서울 구로구    \n",
       "1                                   시니어 개발자 (Rust)      베링랩  서울 마포구    \n",
       "2                                        Unity 개발자     인터엑스  서울 금천구    \n",
       "3                             Head of Architecture     인터엑스  서울 금천구    \n",
       "4     AI Model Optimization Engineer (CPU/GPU/NPU)     인터엑스   울산 중구    \n",
       "...                                            ...      ...      ...   \n",
       "3212                                    DBMS 엔진 개발     큐브리드  서울 강남구    \n",
       "3213                       Windows Application 개발자    아진엑스텍  경기 군포시    \n",
       "3214                     친환경 올인원 에어케어시스템 PCB 및 펌웨어       엔트  경기 부천시    \n",
       "3215                           PCB약품 개발, 제조업, 화학약품    엔알지엔씨  경기 수원시    \n",
       "3216                                 C/C++개발자(3년~)     제노레이  경기 성남시    \n",
       "\n",
       "              경력          링크  \n",
       "0       신입-경력 6년  /wd/267736  \n",
       "1       경력 5-10년  /wd/206209  \n",
       "2       경력 5-10년  /wd/261266  \n",
       "3      경력 10년 이상  /wd/256936  \n",
       "4       경력 3-15년  /wd/252960  \n",
       "...          ...         ...  \n",
       "3212    경력 1-15년  /wd/118825  \n",
       "3213    경력 8-12년  /wd/113536  \n",
       "3214    경력 5-10년   /wd/76159  \n",
       "3215          신입   /wd/87790  \n",
       "3216    경력 3-10년   /wd/80732  \n",
       "\n",
       "[3217 rows x 5 columns]"
      ]
     },
     "execution_count": 25,
     "metadata": {},
     "output_type": "execute_result"
    }
   ],
   "source": [
    "exportDF"
   ]
  },
  {
   "cell_type": "code",
   "execution_count": null,
   "metadata": {},
   "outputs": [],
   "source": [
    "article_list = []"
   ]
  },
  {
   "cell_type": "code",
   "execution_count": null,
   "metadata": {},
   "outputs": [],
   "source": [
    "\n",
    "for i in exportDF.index[1000:2000]:\n",
    "    driver = webdriver.Chrome()\n",
    "    driver.get(f\"{'https://www.wanted.co.kr' + exportDF.loc[i,'링크']}\")\n",
    "    try:\n",
    "        # \"상세정보 더 보기\" 버튼 찾기 (버튼의 텍스트가 '상세정보 더 보기'일 경우)\n",
    "        button = driver.find_element(By.XPATH, \"//*[@id='__next']/main/div[1]/div/section/section/article[1]/div/button\")\n",
    "        \n",
    "        # 버튼 클릭\n",
    "        button.click()\n",
    "        \n",
    "        # 클릭 후 페이지가 갱신될 시간을 기다림\n",
    "        time.sleep(1)\n",
    "    except :\n",
    "        pass\n",
    "    html = driver.page_source\n",
    "    soup = BeautifulSoup(html, 'html.parser')\n",
    "\n",
    "    article = soup.find('div',{'class':\"JobDescription_JobDescription__paragraph__Lhegj\"})\n",
    "    article_list.append(article.text)\n",
    "   \n",
    "    \n",
    "    time.sleep(2)\n",
    "    driver.close()"
   ]
  },
  {
   "cell_type": "code",
   "execution_count": 44,
   "metadata": {},
   "outputs": [
    {
     "data": {
      "text/plain": [
       "804"
      ]
     },
     "execution_count": 44,
     "metadata": {},
     "output_type": "execute_result"
    }
   ],
   "source": [
    "len(article_list)"
   ]
  },
  {
   "cell_type": "code",
   "execution_count": 47,
   "metadata": {},
   "outputs": [
    {
     "data": {
      "text/plain": [
       "'주요업무＜이런일을 해요＞• 자사가 보유한 ITSM 솔루션을 개발하거나 고객사에 맞게 커스터마이징 및 유지보수 업무를 수행합니다.• 필요에 따라 프로젝트 구축 및 수행 업무가 일부 있을 수 있습니다.• 고객 요구사항 분석, 솔루션과 갭 분석 등의 업무도 진행합니다.'"
      ]
     },
     "execution_count": 47,
     "metadata": {},
     "output_type": "execute_result"
    }
   ],
   "source": [
    "article_list[-1]"
   ]
  },
  {
   "cell_type": "markdown",
   "metadata": {},
   "source": []
  },
  {
   "cell_type": "code",
   "execution_count": null,
   "metadata": {},
   "outputs": [],
   "source": [
    "with open(\"test_txt.txt\", \"w\", encoding=\"utf-8\") as file:\n",
    "    for i in article_list:\n",
    "        file.write(i + \"\\n\")"
   ]
  },
  {
   "cell_type": "code",
   "execution_count": null,
   "metadata": {},
   "outputs": [],
   "source": []
  }
 ],
 "metadata": {
  "kernelspec": {
   "display_name": "bigdata",
   "language": "python",
   "name": "python3"
  },
  "language_info": {
   "codemirror_mode": {
    "name": "ipython",
    "version": 3
   },
   "file_extension": ".py",
   "mimetype": "text/x-python",
   "name": "python",
   "nbconvert_exporter": "python",
   "pygments_lexer": "ipython3",
   "version": "3.12.3"
  }
 },
 "nbformat": 4,
 "nbformat_minor": 2
}
