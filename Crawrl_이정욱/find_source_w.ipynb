{
 "cells": [
  {
   "cell_type": "code",
   "execution_count": 8,
   "metadata": {},
   "outputs": [],
   "source": [
    "import time\n",
    "from bs4 import BeautifulSoup\n",
    "from selenium import webdriver\n",
    "from selenium.webdriver.common.by import By\n",
    "from selenium.webdriver.common.keys  import Keys\n",
    "from selenium.webdriver.common.action_chains import ActionChains\n",
    "import pandas as pd"
   ]
  },
  {
   "cell_type": "code",
   "execution_count": null,
   "metadata": {},
   "outputs": [],
   "source": [
    "def scroll_all(driver):\n",
    "    global ready_count\n",
    "    ready_count = 0\n",
    "    body = driver.find_element(By.TAG_NAME, \"body\")\n",
    "    \n",
    "    for _ in range(1000):  # 10번 페이지 다운\n",
    "        body.send_keys(Keys.END)\n",
    "        time.sleep(1)\n",
    "    \n",
    "    ready_count = 1\n"
   ]
  },
  {
   "cell_type": "code",
   "execution_count": 10,
   "metadata": {},
   "outputs": [],
   "source": [
    "def main():\n",
    "    global parse\n",
    "    driver = webdriver.Chrome()\n",
    "\n",
    "    # login(driver, user_id, passwd)\n",
    "    scroll_all(driver)       \n",
    "    # time.sleep(5) \n",
    "    # parse = get_page_source(driver)\n",
    "    \n",
    "    time.sleep(5)\n",
    "    driver.close()\n",
    "    return "
   ]
  },
  {
   "cell_type": "code",
   "execution_count": 11,
   "metadata": {},
   "outputs": [],
   "source": [
    "# driver = webdriver.Chrome()\n",
    "\n",
    "# # login(driver, user_id, passwd)\n",
    "# driver.get('https://www.wanted.co.kr/wdlist/518?country=kr&job_sort=job.latest_order&years=-1&locations=all')\n",
    "# # driver.switch_to.frame('mainFrame') # 해당 iframe으로 이동\n",
    "# scroll_all(driver)\n",
    "\n",
    "# html = driver.page_source\n",
    "# soup = BeautifulSoup(html, 'html.parser')\n",
    "\n",
    "# results = soup.find_all('div', {'class': 'JobCard_JobCard__Tb7pI'})\n",
    "# # 'span',{'class':'JobCard_JobCard__body__position__CyaGY wds-1mh3acf'}\n",
    "\n",
    "# # print(results)\n",
    "\n",
    "# # return results\n",
    "# print(results)"
   ]
  },
  {
   "cell_type": "code",
   "execution_count": null,
   "metadata": {},
   "outputs": [
    {
     "name": "stdout",
     "output_type": "stream",
     "text": [
      "/wd/267736\n",
      "<span class=\"JobCard_JobCard__body__position__CyaGY wds-1mh3acf\">소프트웨어 엔지니어</span>\n",
      "<span class=\"CompanyNameWithLocationPeriod_CompanyNameWithLocationPeriod__company__j_pad wds-1m3gvmz\">폴라리스오피스</span>\n",
      "<span class=\"CompanyNameWithLocationPeriod_CompanyNameWithLocationPeriod__location__FHNmN wds-1m3gvmz\">서울 구로구 · 신입-경력 6년</span>\n"
     ]
    }
   ],
   "source": [
    "driver = webdriver.Chrome()\n",
    "\n",
    "# login(driver, user_id, passwd)\n",
    "driver.get('https://www.wanted.co.kr/wdlist/518?country=kr&job_sort=job.latest_order&years=-1&locations=all')\n",
    "# driver.switch_to.frame('mainFrame') # 해당 iframe으로 이동\n",
    "scroll_all(driver)\n",
    "\n",
    "html = driver.page_source\n",
    "soup = BeautifulSoup(html, 'html.parser')\n",
    "\n",
    "results_a = soup.find_all('div',{'class':'JobCard_JobCard__Tb7pI'})\n",
    "results0 = soup.find_all('span', {'class': 'JobCard_JobCard__body__position__CyaGY wds-1mh3acf'})\n",
    "results1 = soup.find_all('span', {'class': 'CompanyNameWithLocationPeriod_CompanyNameWithLocationPeriod__company__j_pad wds-1m3gvmz'})\n",
    "results2 = soup.find_all('span', {'class': 'CompanyNameWithLocationPeriod_CompanyNameWithLocationPeriod__location__FHNmN wds-1m3gvmz'})\n",
    "# 'span',{'class':'JobCard_JobCard__body__position__CyaGY wds-1mh3acf'}\n",
    "\n",
    "# print(results)\n",
    "time.sleep(1)\n",
    "driver.close()\n",
    "\n",
    "# return results\n",
    "print(results_a[0].a['href'])\n",
    "print(results0[0])\n",
    "print(results1[0])\n",
    "print(results2[0])\n"
   ]
  },
  {
   "cell_type": "code",
   "execution_count": 13,
   "metadata": {},
   "outputs": [],
   "source": [
    "exportDF = pd.DataFrame(columns=['포지션','회사명','지역명','경력','링크'])"
   ]
  },
  {
   "cell_type": "code",
   "execution_count": 14,
   "metadata": {},
   "outputs": [],
   "source": [
    "region = []\n",
    "years = []"
   ]
  },
  {
   "cell_type": "code",
   "execution_count": 15,
   "metadata": {},
   "outputs": [],
   "source": [
    "for i in range(len(results2)):\n",
    "    region.append(results2[i].text.split('·')[0])\n",
    "    years.append(results2[i].text.split('·')[1])"
   ]
  },
  {
   "cell_type": "code",
   "execution_count": 16,
   "metadata": {},
   "outputs": [],
   "source": [
    "for i in range(len(results0)):\n",
    "    results0[i] = results0[i].text\n",
    "    results1[i] = results1[i].text\n",
    "    results2[i] = results2[i].text\n",
    "    results_a[i] = results_a[i].a['href']"
   ]
  },
  {
   "cell_type": "code",
   "execution_count": 17,
   "metadata": {},
   "outputs": [],
   "source": [
    "exportDF['포지션']=results0\n",
    "exportDF['회사명']=results1\n",
    "exportDF['지역명']=region\n",
    "exportDF['경력']=years\n",
    "exportDF['링크']=results_a"
   ]
  },
  {
   "cell_type": "code",
   "execution_count": 18,
   "metadata": {},
   "outputs": [
    {
     "data": {
      "text/html": [
       "<div>\n",
       "<style scoped>\n",
       "    .dataframe tbody tr th:only-of-type {\n",
       "        vertical-align: middle;\n",
       "    }\n",
       "\n",
       "    .dataframe tbody tr th {\n",
       "        vertical-align: top;\n",
       "    }\n",
       "\n",
       "    .dataframe thead th {\n",
       "        text-align: right;\n",
       "    }\n",
       "</style>\n",
       "<table border=\"1\" class=\"dataframe\">\n",
       "  <thead>\n",
       "    <tr style=\"text-align: right;\">\n",
       "      <th></th>\n",
       "      <th>포지션</th>\n",
       "      <th>회사명</th>\n",
       "      <th>지역명</th>\n",
       "      <th>경력</th>\n",
       "      <th>링크</th>\n",
       "    </tr>\n",
       "  </thead>\n",
       "  <tbody>\n",
       "    <tr>\n",
       "      <th>0</th>\n",
       "      <td>소프트웨어 엔지니어</td>\n",
       "      <td>폴라리스오피스</td>\n",
       "      <td>서울 구로구</td>\n",
       "      <td>신입-경력 6년</td>\n",
       "      <td>/wd/267736</td>\n",
       "    </tr>\n",
       "    <tr>\n",
       "      <th>1</th>\n",
       "      <td>시니어 개발자 (Rust)</td>\n",
       "      <td>베링랩</td>\n",
       "      <td>서울 마포구</td>\n",
       "      <td>경력 5-10년</td>\n",
       "      <td>/wd/206209</td>\n",
       "    </tr>\n",
       "    <tr>\n",
       "      <th>2</th>\n",
       "      <td>Unity 개발자</td>\n",
       "      <td>인터엑스</td>\n",
       "      <td>서울 금천구</td>\n",
       "      <td>경력 5-10년</td>\n",
       "      <td>/wd/261266</td>\n",
       "    </tr>\n",
       "    <tr>\n",
       "      <th>3</th>\n",
       "      <td>Head of Architecture</td>\n",
       "      <td>인터엑스</td>\n",
       "      <td>서울 금천구</td>\n",
       "      <td>경력 10년 이상</td>\n",
       "      <td>/wd/256936</td>\n",
       "    </tr>\n",
       "    <tr>\n",
       "      <th>4</th>\n",
       "      <td>AI Model Optimization Engineer (CPU/GPU/NPU)</td>\n",
       "      <td>인터엑스</td>\n",
       "      <td>울산 중구</td>\n",
       "      <td>경력 3-15년</td>\n",
       "      <td>/wd/252960</td>\n",
       "    </tr>\n",
       "    <tr>\n",
       "      <th>...</th>\n",
       "      <td>...</td>\n",
       "      <td>...</td>\n",
       "      <td>...</td>\n",
       "      <td>...</td>\n",
       "      <td>...</td>\n",
       "    </tr>\n",
       "    <tr>\n",
       "      <th>215</th>\n",
       "      <td>Software Engineer, DevOps and Infrastructure</td>\n",
       "      <td>로우키코드(DELIGHT LABS)</td>\n",
       "      <td>서울 강남구</td>\n",
       "      <td>경력 3년 이상</td>\n",
       "      <td>/wd/267230</td>\n",
       "    </tr>\n",
       "    <tr>\n",
       "      <th>216</th>\n",
       "      <td>Robotics Engineer</td>\n",
       "      <td>씨메스(CMES)</td>\n",
       "      <td>서울 강남구</td>\n",
       "      <td>경력 3-15년</td>\n",
       "      <td>/wd/256658</td>\n",
       "    </tr>\n",
       "    <tr>\n",
       "      <th>217</th>\n",
       "      <td>Software Developer</td>\n",
       "      <td>씨메스(CMES)</td>\n",
       "      <td>서울 강남구</td>\n",
       "      <td>신입-경력 3년</td>\n",
       "      <td>/wd/255533</td>\n",
       "    </tr>\n",
       "    <tr>\n",
       "      <th>218</th>\n",
       "      <td>백엔드 개발자 (5년 이상)</td>\n",
       "      <td>와이어바알리(wirebarley)</td>\n",
       "      <td>서울 강남구</td>\n",
       "      <td>경력 5-10년</td>\n",
       "      <td>/wd/257514</td>\n",
       "    </tr>\n",
       "    <tr>\n",
       "      <th>219</th>\n",
       "      <td>백엔드 개발자 (1년 이상)</td>\n",
       "      <td>바딧</td>\n",
       "      <td>서울 금천구</td>\n",
       "      <td>경력 1-10년</td>\n",
       "      <td>/wd/267194</td>\n",
       "    </tr>\n",
       "  </tbody>\n",
       "</table>\n",
       "<p>220 rows × 5 columns</p>\n",
       "</div>"
      ],
      "text/plain": [
       "                                              포지션                  회사명  \\\n",
       "0                                      소프트웨어 엔지니어              폴라리스오피스   \n",
       "1                                  시니어 개발자 (Rust)                  베링랩   \n",
       "2                                       Unity 개발자                 인터엑스   \n",
       "3                            Head of Architecture                 인터엑스   \n",
       "4    AI Model Optimization Engineer (CPU/GPU/NPU)                 인터엑스   \n",
       "..                                            ...                  ...   \n",
       "215  Software Engineer, DevOps and Infrastructure  로우키코드(DELIGHT LABS)   \n",
       "216                             Robotics Engineer            씨메스(CMES)   \n",
       "217                            Software Developer            씨메스(CMES)   \n",
       "218                               백엔드 개발자 (5년 이상)   와이어바알리(wirebarley)   \n",
       "219                               백엔드 개발자 (1년 이상)                   바딧   \n",
       "\n",
       "         지역명          경력          링크  \n",
       "0    서울 구로구     신입-경력 6년  /wd/267736  \n",
       "1    서울 마포구     경력 5-10년  /wd/206209  \n",
       "2    서울 금천구     경력 5-10년  /wd/261266  \n",
       "3    서울 금천구    경력 10년 이상  /wd/256936  \n",
       "4     울산 중구     경력 3-15년  /wd/252960  \n",
       "..       ...         ...         ...  \n",
       "215  서울 강남구     경력 3년 이상  /wd/267230  \n",
       "216  서울 강남구     경력 3-15년  /wd/256658  \n",
       "217  서울 강남구     신입-경력 3년  /wd/255533  \n",
       "218  서울 강남구     경력 5-10년  /wd/257514  \n",
       "219  서울 금천구     경력 1-10년  /wd/267194  \n",
       "\n",
       "[220 rows x 5 columns]"
      ]
     },
     "execution_count": 18,
     "metadata": {},
     "output_type": "execute_result"
    }
   ],
   "source": [
    "exportDF"
   ]
  },
  {
   "cell_type": "code",
   "execution_count": null,
   "metadata": {},
   "outputs": [],
   "source": []
  },
  {
   "cell_type": "code",
   "execution_count": 19,
   "metadata": {},
   "outputs": [],
   "source": [
    "article_list = []\n",
    "for i in exportDF.index[:5]:\n",
    "    driver = webdriver.Chrome()\n",
    "    driver.get(f\"{'https://www.wanted.co.kr' + exportDF.loc[i,'링크']}\")\n",
    "    try:\n",
    "        # \"상세정보 더 보기\" 버튼 찾기 (버튼의 텍스트가 '상세정보 더 보기'일 경우)\n",
    "        button = driver.find_element(By.XPATH, \"//*[@id='__next']/main/div[1]/div/section/section/article[1]/div/button\")\n",
    "        \n",
    "        # 버튼 클릭\n",
    "        button.click()\n",
    "        \n",
    "        # 클릭 후 페이지가 갱신될 시간을 기다림\n",
    "        time.sleep(1)\n",
    "    except :\n",
    "        pass\n",
    "    html = driver.page_source\n",
    "    soup = BeautifulSoup(html, 'html.parser')\n",
    "\n",
    "    article = soup.find('div',{'class':\"JobDescription_JobDescription__paragraph__Lhegj\"})\n",
    "    article_list.append(article.text)\n",
    "   \n",
    "    \n",
    "    time.sleep(1)\n",
    "    driver.close()"
   ]
  },
  {
   "cell_type": "code",
   "execution_count": 21,
   "metadata": {},
   "outputs": [
    {
     "data": {
      "text/plain": [
       "['주요업무• Docker 기반 오피스 솔루션 구축 및 유지보수• 기업 요청사항에 따른 솔루션 기능개발[사용하는 기술 및 환경]• Docker, Spring Java, JPA, JavaScript, JSP, jQuery, Ajax, HTML5, CSS',\n",
       " '주요업무- 번역의 의뢰부터 진행/검수/납품/결제까지의 전 단계를 커버하는 번역 서비스 플랫폼을 만듭니다.',\n",
       " '주요업무• Unity 3D 개발• 디지털 트윈 플랫폼 개발• Unity 엔진을 이용한 그래픽 시뮬레이션 프로그램 개발',\n",
       " '주요업무[담당 업무]DataSpace 플랫폼 설계 및 아키텍쳐 정의• DataSpace 플랫폼 상세 서비스 설계• B2B 마켓플레이스 플랫폼 설계• 검색(SEO), 추천 시스템, 트랜잭션 설계 등 플랫폼 핵심 기능 설계• 데이터 거래 중심의 비즈니스 프로세스 최적화서비스 아키텍처 설계• 결제 및 트랜잭션 관리 시스템 설계 및 운영• 데이터 기반 고객 맞춤형 솔루션 설계• 디지털 자산 거래 솔루션 설계 및 운영Data Space R&D 팀 리더십• 팀 빌딩 및 조직화• 효율적인 개발 환경 및 인프라 구축',\n",
       " '주요업무AI Model Optimization• 모델 압축(양자화, 프루닝 등), 연산자 퓨전, 메모리 최적화 기법을 활용하여 모델 성능 개선 및 모델 추론 속도 향상• CPU/GPU/NPU등 HW를 고려한 AI모델 최적화 기법 개발• 필요한 AI 모듈(예: 객체 인식, 이상 탐지 등)을 최적화하여 실시간 실행 성능 확보• AI 모델 병렬화 및 분산 실행 기술 적용Tool 체인 개발• AI 모델 변환 및 최적화를 위한 툴체인 설계 및 구현신기술 리서치 및 연구 • AI 및 Hardware 가속기 관련 최신 기술 및 연구 동향 분석']"
      ]
     },
     "execution_count": 21,
     "metadata": {},
     "output_type": "execute_result"
    }
   ],
   "source": [
    "article_list"
   ]
  }
 ],
 "metadata": {
  "kernelspec": {
   "display_name": "EV_PY312",
   "language": "python",
   "name": "python3"
  },
  "language_info": {
   "codemirror_mode": {
    "name": "ipython",
    "version": 3
   },
   "file_extension": ".py",
   "mimetype": "text/x-python",
   "name": "python",
   "nbconvert_exporter": "python",
   "pygments_lexer": "ipython3",
   "version": "3.12.8"
  }
 },
 "nbformat": 4,
 "nbformat_minor": 2
}
