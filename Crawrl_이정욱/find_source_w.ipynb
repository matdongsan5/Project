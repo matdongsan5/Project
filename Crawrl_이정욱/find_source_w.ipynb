{
 "cells": [
  {
   "cell_type": "code",
   "execution_count": 15,
   "metadata": {},
   "outputs": [],
   "source": [
    "import time\n",
    "from bs4 import BeautifulSoup\n",
    "from selenium import webdriver\n",
    "from selenium.webdriver.common.by import By\n",
    "from selenium.webdriver.common.keys  import Keys\n",
    "from selenium.webdriver.common.action_chains import ActionChains\n",
    "import pandas as pd"
   ]
  },
  {
   "cell_type": "code",
   "execution_count": null,
   "metadata": {},
   "outputs": [],
   "source": [
    "def scroll_all(driver):\n",
    "    global ready_count\n",
    "    ready_count = 0\n",
    "    body = driver.find_element(By.TAG_NAME, \"body\")\n",
    "    \n",
    "    for _ in range(100):  # 10번 페이지 다운\n",
    "        body.send_keys(Keys.END)\n",
    "        time.sleep(1)\n",
    "    \n",
    "    ready_count = 1\n"
   ]
  },
  {
   "cell_type": "code",
   "execution_count": 17,
   "metadata": {},
   "outputs": [],
   "source": [
    "def main():\n",
    "    global parse\n",
    "    driver = webdriver.Chrome()\n",
    "\n",
    "    # login(driver, user_id, passwd)\n",
    "    scroll_all(driver)       \n",
    "    # time.sleep(5) \n",
    "    # parse = get_page_source(driver)\n",
    "    \n",
    "    time.sleep(5)\n",
    "    driver.close()\n",
    "    return "
   ]
  },
  {
   "cell_type": "code",
   "execution_count": 18,
   "metadata": {},
   "outputs": [],
   "source": [
    "# driver = webdriver.Chrome()\n",
    "\n",
    "# # login(driver, user_id, passwd)\n",
    "# driver.get('https://www.wanted.co.kr/wdlist/518?country=kr&job_sort=job.latest_order&years=-1&locations=all')\n",
    "# # driver.switch_to.frame('mainFrame') # 해당 iframe으로 이동\n",
    "# scroll_all(driver)\n",
    "\n",
    "# html = driver.page_source\n",
    "# soup = BeautifulSoup(html, 'html.parser')\n",
    "\n",
    "# results = soup.find_all('div', {'class': 'JobCard_JobCard__Tb7pI'})\n",
    "# # 'span',{'class':'JobCard_JobCard__body__position__CyaGY wds-1mh3acf'}\n",
    "\n",
    "# # print(results)\n",
    "\n",
    "# # return results\n",
    "# print(results)"
   ]
  },
  {
   "cell_type": "code",
   "execution_count": 19,
   "metadata": {},
   "outputs": [
    {
     "name": "stdout",
     "output_type": "stream",
     "text": [
      "/wd/267736\n",
      "<span class=\"JobCard_JobCard__body__position__CyaGY wds-1mh3acf\">소프트웨어 엔지니어</span>\n",
      "<span class=\"CompanyNameWithLocationPeriod_CompanyNameWithLocationPeriod__company__j_pad wds-1m3gvmz\">폴라리스오피스</span>\n",
      "<span class=\"CompanyNameWithLocationPeriod_CompanyNameWithLocationPeriod__location__FHNmN wds-1m3gvmz\">서울 구로구 · 신입-경력 6년</span>\n"
     ]
    }
   ],
   "source": [
    "driver = webdriver.Chrome()\n",
    "\n",
    "# login(driver, user_id, passwd)\n",
    "driver.get('https://www.wanted.co.kr/wdlist/518?country=kr&job_sort=job.latest_order&years=-1&locations=all')\n",
    "# driver.switch_to.frame('mainFrame') # 해당 iframe으로 이동\n",
    "scroll_all(driver)\n",
    "\n",
    "html = driver.page_source\n",
    "soup = BeautifulSoup(html, 'html.parser')\n",
    "\n",
    "results_a = soup.find_all('div',{'class':'JobCard_JobCard__Tb7pI'})\n",
    "results0 = soup.find_all('span', {'class': 'JobCard_JobCard__body__position__CyaGY wds-1mh3acf'})\n",
    "results1 = soup.find_all('span', {'class': 'CompanyNameWithLocationPeriod_CompanyNameWithLocationPeriod__company__j_pad wds-1m3gvmz'})\n",
    "results2 = soup.find_all('span', {'class': 'CompanyNameWithLocationPeriod_CompanyNameWithLocationPeriod__location__FHNmN wds-1m3gvmz'})\n",
    "# 'span',{'class':'JobCard_JobCard__body__position__CyaGY wds-1mh3acf'}\n",
    "\n",
    "# print(results)\n",
    "time.sleep(1)\n",
    "driver.close()\n",
    "\n",
    "# return results\n",
    "print(results_a[0].a['href'])\n",
    "print(results0[0])\n",
    "print(results1[0])\n",
    "print(results2[0])\n"
   ]
  },
  {
   "cell_type": "code",
   "execution_count": 20,
   "metadata": {},
   "outputs": [],
   "source": [
    "exportDF = pd.DataFrame(columns=['포지션','회사명','지역명','경력','링크'])"
   ]
  },
  {
   "cell_type": "code",
   "execution_count": 21,
   "metadata": {},
   "outputs": [],
   "source": [
    "region = []\n",
    "years = []"
   ]
  },
  {
   "cell_type": "code",
   "execution_count": 22,
   "metadata": {},
   "outputs": [],
   "source": [
    "for i in range(len(results2)):\n",
    "    region.append(results2[i].text.split('·')[0])\n",
    "    years.append(results2[i].text.split('·')[1])"
   ]
  },
  {
   "cell_type": "code",
   "execution_count": 23,
   "metadata": {},
   "outputs": [],
   "source": [
    "for i in range(len(results0)):\n",
    "    results0[i] = results0[i].text\n",
    "    results1[i] = results1[i].text\n",
    "    results2[i] = results2[i].text\n",
    "    results_a[i] = results_a[i].a['href']"
   ]
  },
  {
   "cell_type": "code",
   "execution_count": 24,
   "metadata": {},
   "outputs": [],
   "source": [
    "exportDF['포지션']=results0\n",
    "exportDF['회사명']=results1\n",
    "exportDF['지역명']=region\n",
    "exportDF['경력']=years\n",
    "exportDF['링크']=results_a"
   ]
  },
  {
   "cell_type": "code",
   "execution_count": 52,
   "metadata": {},
   "outputs": [],
   "source": [
    "exportDF.to_csv('source.csv', encoding='utf-8')"
   ]
  },
  {
   "cell_type": "code",
   "execution_count": 56,
   "metadata": {},
   "outputs": [
    {
     "data": {
      "text/html": [
       "<div>\n",
       "<style scoped>\n",
       "    .dataframe tbody tr th:only-of-type {\n",
       "        vertical-align: middle;\n",
       "    }\n",
       "\n",
       "    .dataframe tbody tr th {\n",
       "        vertical-align: top;\n",
       "    }\n",
       "\n",
       "    .dataframe thead th {\n",
       "        text-align: right;\n",
       "    }\n",
       "</style>\n",
       "<table border=\"1\" class=\"dataframe\">\n",
       "  <thead>\n",
       "    <tr style=\"text-align: right;\">\n",
       "      <th></th>\n",
       "      <th>포지션</th>\n",
       "      <th>회사명</th>\n",
       "      <th>지역명</th>\n",
       "      <th>경력</th>\n",
       "      <th>링크</th>\n",
       "    </tr>\n",
       "  </thead>\n",
       "  <tbody>\n",
       "    <tr>\n",
       "      <th>0</th>\n",
       "      <td>소프트웨어 엔지니어</td>\n",
       "      <td>폴라리스오피스</td>\n",
       "      <td>서울 구로구</td>\n",
       "      <td>신입-경력 6년</td>\n",
       "      <td>/wd/267736</td>\n",
       "    </tr>\n",
       "    <tr>\n",
       "      <th>1</th>\n",
       "      <td>시니어 개발자 (Rust)</td>\n",
       "      <td>베링랩</td>\n",
       "      <td>서울 마포구</td>\n",
       "      <td>경력 5-10년</td>\n",
       "      <td>/wd/206209</td>\n",
       "    </tr>\n",
       "    <tr>\n",
       "      <th>2</th>\n",
       "      <td>Unity 개발자</td>\n",
       "      <td>인터엑스</td>\n",
       "      <td>서울 금천구</td>\n",
       "      <td>경력 5-10년</td>\n",
       "      <td>/wd/261266</td>\n",
       "    </tr>\n",
       "    <tr>\n",
       "      <th>3</th>\n",
       "      <td>Head of Architecture</td>\n",
       "      <td>인터엑스</td>\n",
       "      <td>서울 금천구</td>\n",
       "      <td>경력 10년 이상</td>\n",
       "      <td>/wd/256936</td>\n",
       "    </tr>\n",
       "    <tr>\n",
       "      <th>4</th>\n",
       "      <td>AI Model Optimization Engineer (CPU/GPU/NPU)</td>\n",
       "      <td>인터엑스</td>\n",
       "      <td>울산 중구</td>\n",
       "      <td>경력 3-15년</td>\n",
       "      <td>/wd/252960</td>\n",
       "    </tr>\n",
       "    <tr>\n",
       "      <th>...</th>\n",
       "      <td>...</td>\n",
       "      <td>...</td>\n",
       "      <td>...</td>\n",
       "      <td>...</td>\n",
       "      <td>...</td>\n",
       "    </tr>\n",
       "    <tr>\n",
       "      <th>3212</th>\n",
       "      <td>DBMS 엔진 개발</td>\n",
       "      <td>큐브리드</td>\n",
       "      <td>서울 강남구</td>\n",
       "      <td>경력 1-15년</td>\n",
       "      <td>/wd/118825</td>\n",
       "    </tr>\n",
       "    <tr>\n",
       "      <th>3213</th>\n",
       "      <td>Windows Application 개발자</td>\n",
       "      <td>아진엑스텍</td>\n",
       "      <td>경기 군포시</td>\n",
       "      <td>경력 8-12년</td>\n",
       "      <td>/wd/113536</td>\n",
       "    </tr>\n",
       "    <tr>\n",
       "      <th>3214</th>\n",
       "      <td>친환경 올인원 에어케어시스템 PCB 및 펌웨어</td>\n",
       "      <td>엔트</td>\n",
       "      <td>경기 부천시</td>\n",
       "      <td>경력 5-10년</td>\n",
       "      <td>/wd/76159</td>\n",
       "    </tr>\n",
       "    <tr>\n",
       "      <th>3215</th>\n",
       "      <td>PCB약품 개발, 제조업, 화학약품</td>\n",
       "      <td>엔알지엔씨</td>\n",
       "      <td>경기 수원시</td>\n",
       "      <td>신입</td>\n",
       "      <td>/wd/87790</td>\n",
       "    </tr>\n",
       "    <tr>\n",
       "      <th>3216</th>\n",
       "      <td>C/C++개발자(3년~)</td>\n",
       "      <td>제노레이</td>\n",
       "      <td>경기 성남시</td>\n",
       "      <td>경력 3-10년</td>\n",
       "      <td>/wd/80732</td>\n",
       "    </tr>\n",
       "  </tbody>\n",
       "</table>\n",
       "<p>3217 rows × 5 columns</p>\n",
       "</div>"
      ],
      "text/plain": [
       "                                               포지션      회사명      지역명  \\\n",
       "0                                       소프트웨어 엔지니어  폴라리스오피스  서울 구로구    \n",
       "1                                   시니어 개발자 (Rust)      베링랩  서울 마포구    \n",
       "2                                        Unity 개발자     인터엑스  서울 금천구    \n",
       "3                             Head of Architecture     인터엑스  서울 금천구    \n",
       "4     AI Model Optimization Engineer (CPU/GPU/NPU)     인터엑스   울산 중구    \n",
       "...                                            ...      ...      ...   \n",
       "3212                                    DBMS 엔진 개발     큐브리드  서울 강남구    \n",
       "3213                       Windows Application 개발자    아진엑스텍  경기 군포시    \n",
       "3214                     친환경 올인원 에어케어시스템 PCB 및 펌웨어       엔트  경기 부천시    \n",
       "3215                           PCB약품 개발, 제조업, 화학약품    엔알지엔씨  경기 수원시    \n",
       "3216                                 C/C++개발자(3년~)     제노레이  경기 성남시    \n",
       "\n",
       "              경력          링크  \n",
       "0       신입-경력 6년  /wd/267736  \n",
       "1       경력 5-10년  /wd/206209  \n",
       "2       경력 5-10년  /wd/261266  \n",
       "3      경력 10년 이상  /wd/256936  \n",
       "4       경력 3-15년  /wd/252960  \n",
       "...          ...         ...  \n",
       "3212    경력 1-15년  /wd/118825  \n",
       "3213    경력 8-12년  /wd/113536  \n",
       "3214    경력 5-10년   /wd/76159  \n",
       "3215          신입   /wd/87790  \n",
       "3216    경력 3-10년   /wd/80732  \n",
       "\n",
       "[3217 rows x 5 columns]"
      ]
     },
     "execution_count": 56,
     "metadata": {},
     "output_type": "execute_result"
    }
   ],
   "source": [
    "exportDF"
   ]
  },
  {
   "cell_type": "code",
   "execution_count": null,
   "metadata": {},
   "outputs": [],
   "source": [
    "article_list = []\n",
    "main_task = list()\n",
    "required = list()\n",
    "preferred = list()\n",
    "benefit =list()"
   ]
  },
  {
   "cell_type": "code",
   "execution_count": null,
   "metadata": {},
   "outputs": [],
   "source": [
    "\n",
    "for i in exportDF.index[:1]:\n",
    "    print(i)\n",
    "    driver = webdriver.Chrome()\n",
    "    driver.get(f\"{'https://www.wanted.co.kr' + exportDF.loc[i,'링크']}\")\n",
    "    try:\n",
    "        # \"상세정보 더 보기\" 버튼 찾기 (버튼의 텍스트가 '상세정보 더 보기'일 경우)\n",
    "        button = driver.find_element(By.XPATH, \"//*[@id='__next']/main/div[1]/div/section/section/article[1]/div/button\")\n",
    "        \n",
    "        # 버튼 클릭\n",
    "        button.click()\n",
    "        \n",
    "        # 클릭 후 페이지가 갱신될 시간을 기다림\n",
    "        time.sleep(1)\n",
    "    except :\n",
    "        pass\n",
    "    html = driver.page_source\n",
    "    soup = BeautifulSoup(html, 'html.parser')\n",
    "\n",
    "    detail_div = soup.find('div',{'class':\"JobDescription_JobDescription__paragraph__wrapper__G4CNd\"})\n",
    "    detail_div_list = detail_div.find_all('div',{'class':'JobDescription_JobDescription__paragraph__Lhegj'})\n",
    "    main_task.append(detail_div_list[0])\n",
    "    required.append(detail_div_list[1])\n",
    "    preferred.append(detail_div_list[2])\n",
    "    benefit.append(detail_div_list[3])\n",
    "    \n",
    "    time.sleep(2)\n",
    "    driver.close()"
   ]
  },
  {
   "cell_type": "code",
   "execution_count": 50,
   "metadata": {},
   "outputs": [
    {
     "data": {
      "text/plain": [
       "213"
      ]
     },
     "execution_count": 50,
     "metadata": {},
     "output_type": "execute_result"
    }
   ],
   "source": [
    "len(article_list)"
   ]
  },
  {
   "cell_type": "code",
   "execution_count": null,
   "metadata": {},
   "outputs": [
    {
     "data": {
      "text/plain": [
       "[<div class=\"JobDescription_JobDescription__paragraph__Lhegj\"><h3 class=\"wds-1y0suvb\">주요업무</h3><span class=\"wds-wcfcu3\"><span>• Docker 기반 오피스 솔루션 구축 및 유지보수<br/>• 기업 요청사항에 따른 솔루션 기능개발<br/><br/>[사용하는 기술 및 환경]<br/>• Docker, Spring Java, JPA, JavaScript, JSP, jQuery, Ajax, HTML5, CSS</span></span></div>,\n",
       " <div class=\"JobDescription_JobDescription__paragraph__Lhegj\"><h3 class=\"wds-1y0suvb\">자격요건</h3><span class=\"wds-wcfcu3\"><span>[자격요건]<br/>• 신입 ~ 경력 6년 이하<br/>• Spring 기반 Java API 구현 및 내부 서비스 구현<br/>• HTML5, CSS3 웹 표준에 대한 이해<br/>• JS(ES6)/HTML/CSS를 이용해 웹 페이지 개발 가능하신 분<br/>• RDBMS(MariaDB) 사용 경험이 있으신 분<br/>• 고객사와 원활하게 소통이 가능하며 외근 및 출장 업무에 거부감이 없으신 분<br/><br/>[필요지식 및 기술]<br/>• Spring 기반 Java API 구현 및 내부 서비스 구현<br/>• HTML5, CSS3 웹 표준에 대한 이해<br/>• JavaScript에 대한 이해 및 활용<br/>• shell script에 대한 이해<br/><br/>[이런 분을 선호해요!]<br/>• 새로운 AI 기술과 트렌드에 대한 열린 자세로 끊임없이 학습·적용하며, 변화에 유연하게 대응하는 태도가 좋은 분<br/>• 협업 동료와의 원활한 커뮤니케이션을 바탕으로 협업을 이끌어내고, 요구사항을 정확히 파악하여 반영하는 태도가 좋은 분<br/>• 사용자 중심의 관점과 논리적 사고를 통해 문제를 파악하고 해결책을 제시할 수 있는 태도가 좋은 분</span></span></div>,\n",
       " <div class=\"JobDescription_JobDescription__paragraph__Lhegj\"><h3 class=\"wds-1y0suvb\">우대사항</h3><span class=\"wds-wcfcu3\"><span>• Linux 서버 운영 경험자<br/>• Docker 환경에서 서비스 유경험자<br/>• 서버 이중화 유경험자<br/>• 서버 기반의 제품 서비스 유경험자<br/>• 고객 요구사항 관련 미팅 및 유지보수/구축업무를 위한 외근 및 출장 가능한 분•<br/><br/> [제출자료]<br/>•이력서(자기소개서와 기본 인적사항 기재해주세요.)<br/>•경력기술서<br/>•포트폴리오 (선택사항)</span></span></div>,\n",
       " <div class=\"JobDescription_JobDescription__paragraph__Lhegj\"><h3 class=\"wds-1y0suvb\">혜택 및 복지</h3><span class=\"wds-wcfcu3\"><span>[Polaris Office Culture]<br/>■ 성장의 에너지를 경험해요!<br/>•   폴라리스오피스는 가파르게 성장하며 지금은 5개 상장사로 구성된 폴라리스오피스그룹의 모회사가 되었어요. 구성원으로 합류한다면 성장의 에너지와 문화를 경험할 수 있어요! <br/>•  국내 최초 온디바이스 AI 오피스 솔루션으로 글로벌 1억 3천만명 이상의 가입자를 보유하고 있어요! 높은 트래픽을 지닌 서비스를 경험하며 성장하고 커리어도 Level Up! 할 수 있어요. <br/>•  개발자가 성장할 수 있는 문화를 지향해요.  Devday, 개인 연구시간 부여, 직무 관련 도서/교육비를 폭넓게 지원하며 새로운 기술을 경험하고 성장할 수 있는 환경을 만들어가고 있어요. <br/><br/>■ 커뮤니케이션은 수평적으로, 업무는 체계적으로 해요!<br/>•  영어 호칭을 사용한 지 무려 10년차! 유연한 커뮤니케이션을 위해 직급을 사용하지  않고 누구나 적극적으로 의견을 낼  수 있는 환경을 만들었어요.<br/>•  “Meet up with Project” 행사를 통해 프로젝트별 목표와 성과를 전사에 공유하고 회고하는 시간을 가져요. 프로젝트 구성원 모두가 목표를 생각하고 동기부여될 수 있는 ‘등대’와도 같은 행사에요. <br/>• Teams, Confluence 와 같은 협업툴을 적극 활용하여 산출물은 투명하게 관리하고 불필요한 보고체계는 최소화하여 보다 집중해서 업무에 몰두할 수 있어요.<br/><br/>■ 자율과 책임의 조직문화를 기반으로 혁신적인 근무제도를 시행하고있어요.<br/>• 원격지에 거주하는 개발인재는 100% 재택근무를 지원해요. 연고지에서 이전 불필요! 출퇴근 비용과 시간 절감까지 하고 업무효율도 높일 수 있어요. <br/>•  퇴근 후 저녁이 있는 삶을 존중해요. 하이브리드 근무제를 운영해서 주2회 재택근무와 자율출퇴근제를 사용해요. 8시~10시 30분 까지 자유롭게 출근하고 야근하는 날이 있으면 다른 날 일찍 퇴근할 수 있어요. <br/><br/>■ Work &amp; Life Synergy ! 휴식이 있어야 즐겁게 일할 수 있고 생산성과 만족도도 높아져요!<br/>•  일하는 시간보다는 성과와 도전에 더 집중해요. 불필요한 야근을 줄이고 업무효율성을 높이는 근무환경을 만들어가고 있어요.      <br/>• 당일 연차사용도 OK! 매년 전직원이 99% 이상 연차를 사용하고 있어요. 가족과 함께 소중한 날을 보낼 수 있도록 연2회 패밀리데이(유급휴가)도 지원해요. <br/><br/>[Benefits]<br/>• 든든한 점심식사 1만원 지원!<br/>• 급한 용무 볼 수 있는 반반차(외출) 휴가제도 운영<br/>• 더 행복한 생일을 위한 20만원 상당의 백화점 상품권 지원<br/>• 동반가족 1인 포함 종합건강검진 지원<br/>• 자녀 초등학교 입학선물 지원<br/>• 신규입사 Welcome Kit, 임신직원 Maternity Kit 지원<br/>• 1년에 2번, 가족과 오붓한 시간을 보낼 수 있는 Family Day<br/>• 질병, 부상 관련 본인 의료비 지원<br/>• 자기개발 및 어학능력 향상을 위한 외국어 교육비 지원<br/>• 직무 관련 도서구입비 지원<br/>• 임직원 생활안정자금 대출제도 운영<br/>• 결혼축하금 100만원 및 7일 휴가지원, 본인/배우자 출산선물 지원<br/>• 중소기업 청년 소득세 감면제도 운영<br/>• 휴게실, 안마의자, 커피머신, 음료 등 입사하면 더 많은 혜택이!</span></span></div>,\n",
       " <div class=\"JobDescription_JobDescription__paragraph__Lhegj\"><h3 class=\"wds-1y0suvb\">채용 전형</h3><span class=\"wds-wcfcu3\"><span>•서류전형 ＞ 온라인코딩테스트 ＞ 1차 인터뷰 ＞ 인성검사/2차 인터뷰 ＞ 처우협상 ＞ 최종합격</span></span></div>]"
      ]
     },
     "execution_count": 64,
     "metadata": {},
     "output_type": "execute_result"
    }
   ],
   "source": [
    "\n",
    "# article_list.append(article.text)\n"
   ]
  },
  {
   "cell_type": "markdown",
   "metadata": {},
   "source": []
  },
  {
   "cell_type": "code",
   "execution_count": null,
   "metadata": {},
   "outputs": [],
   "source": [
    "with open(\"test_txt.txt\", \"w\", encoding=\"utf-8\") as file:\n",
    "    for i in article_list:\n",
    "        file.write(i + \"\\n\")"
   ]
  },
  {
   "cell_type": "code",
   "execution_count": null,
   "metadata": {},
   "outputs": [],
   "source": []
  }
 ],
 "metadata": {
  "kernelspec": {
   "display_name": "bigdata",
   "language": "python",
   "name": "python3"
  },
  "language_info": {
   "codemirror_mode": {
    "name": "ipython",
    "version": 3
   },
   "file_extension": ".py",
   "mimetype": "text/x-python",
   "name": "python",
   "nbconvert_exporter": "python",
   "pygments_lexer": "ipython3",
   "version": "3.12.3"
  }
 },
 "nbformat": 4,
 "nbformat_minor": 2
}
