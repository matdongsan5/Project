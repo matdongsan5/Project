{
 "cells": [
  {
   "cell_type": "code",
   "execution_count": 2,
   "metadata": {},
   "outputs": [],
   "source": [
    "import sys\n",
    "from PyQt5.QtWidgets import QApplication, QWidget, QVBoxLayout, QHBoxLayout, QPushButton, QLabel\n",
    "from PyQt5.QtGui import QPainter, QPen, QColor, QBrush\n",
    "from PyQt5.QtCore import Qt"
   ]
  },
  {
   "cell_type": "code",
   "execution_count": 3,
   "metadata": {},
   "outputs": [
    {
     "name": "stderr",
     "output_type": "stream",
     "text": [
      "C:\\Users\\kdt\\AppData\\Local\\Temp\\ipykernel_40272\\498352596.py:1: DeprecationWarning: sipPyTypeDict() is deprecated, the extension module should use sipPyTypeDictRef() instead\n",
      "  class base_Frame(QWidget):\n"
     ]
    }
   ],
   "source": [
    "class base_Frame(QWidget):\n",
    "    def __init__(self):\n",
    "        super().__init__()\n",
    "        self.initUI()\n",
    "\n",
    "    def initUI(self):\n",
    "        self.setGeometry(800, 800, 1024, 978)\n",
    "        self.main_layout = QHBoxLayout()\n",
    "        self.vbox1 = QVBoxLayout()\n",
    "        self.hbox1_1 = QHBoxLayout()\n",
    "        self.hbox1_2 = QHBoxLayout()\n",
    "        self.hbox1_3 = QHBoxLayout()\n",
    "        \n",
    "        self.vbox2 = QVBoxLayout()\n",
    "        self.hbox2_1 = QHBoxLayout()\n",
    "        self.hbox2_2 = QHBoxLayout()\n",
    "        self.hbox2_3 = QHBoxLayout()\n",
    "        \n",
    "        self.vbox3 = QVBoxLayout()\n",
    "        \n",
    "        self.main_layout.addLayout(self.vbox1)\n",
    "        self.vbox1.addLayout(self.hbox1_1)\n",
    "        self.vbox1.addLayout(self.hbox1_2)\n",
    "        self.vbox1.addLayout(self.hbox1_3)\n",
    "        \n",
    "        self.main_layout.addLayout(self.vbox2)\n",
    "        self.vbox2.addLayout(self.hbox2_1)\n",
    "        self.vbox2.addLayout(self.hbox2_2)\n",
    "        self.vbox2.addLayout(self.hbox2_3)\n",
    "        \n",
    "        self.main_layout.addLayout(self.vbox3)\n",
    "        \n",
    "        label1 = QLabel('First Label', self)\n",
    "        label1.setAlignment(Qt.AlignCenter)\n",
    "        \n",
    "        \n",
    "        btn_v11 = QPushButton('frame_v1-1')\n",
    "        btn_v11.setCheckable(True)\n",
    "        btn_v11.toggle()\n",
    "        self.btn_v12 = QPushButton('frame_v1-2')\n",
    "        \n",
    "        \n",
    "        self.hbox1_1.addWidget(btn_v11)\n",
    "        self.hbox1_2.addWidget(self.btn_v12)\n",
    "        self.hbox1_1.addWidget(label1)\n",
    "        self.hbox1_2.addWidget(label1)\n",
    "        self.hbox1_3.addWidget(label1)\n",
    "        \n",
    "        \n",
    "        self.btn_v21 = QPushButton('frame_v21')\n",
    "        self.btn_v22 = QPushButton('frame_v22')\n",
    "        \n",
    "        self.hbox2_1.addWidget(self.btn_v21)\n",
    "        self.hbox2_2.addWidget(self.btn_v22)\n",
    "        self.hbox2_1.addWidget(label1)\n",
    "        self.hbox2_2.addWidget(label1)\n",
    "        self.hbox2_3.addWidget(label1)\n",
    "    \n",
    "        self.setLayout(self.main_layout)\n",
    "        self.setWindowTitle(\"Nested Layout Example\")\n",
    "        self.show()\n",
    "        \n",
    "        \n",
    "    def btn_ACT1(self):\n",
    "        pass"
   ]
  },
  {
   "cell_type": "code",
   "execution_count": 4,
   "metadata": {},
   "outputs": [
    {
     "ename": "SystemExit",
     "evalue": "0",
     "output_type": "error",
     "traceback": [
      "An exception has occurred, use %tb to see the full traceback.\n",
      "\u001b[1;31mSystemExit\u001b[0m\u001b[1;31m:\u001b[0m 0\n"
     ]
    },
    {
     "name": "stderr",
     "output_type": "stream",
     "text": [
      "c:\\Users\\kdt\\anaconda3\\envs\\PY39\\lib\\site-packages\\IPython\\core\\interactiveshell.py:3558: UserWarning: To exit: use 'exit', 'quit', or Ctrl-D.\n",
      "  warn(\"To exit: use 'exit', 'quit', or Ctrl-D.\", stacklevel=1)\n"
     ]
    }
   ],
   "source": [
    "# 애플리케이션 실행\n",
    "if __name__ == \"__main__\":\n",
    "    # Jupyter Notebook에서는 QApplication이 중복 실행되면 커널이 죽음!\n",
    "    app = QApplication.instance()  # 이미 실행 중인지 확인\n",
    "    if not app:  # 실행되지 않았다면 새로 생성\n",
    "        app = QApplication(sys.argv)\n",
    "    window = base_Frame()\n",
    "    window.show()\n",
    "    sys.exit(app.exec_())"
   ]
  },
  {
   "cell_type": "code",
   "execution_count": 55,
   "metadata": {},
   "outputs": [
    {
     "name": "stderr",
     "output_type": "stream",
     "text": [
      "C:\\Users\\kdt\\AppData\\Local\\Temp\\ipykernel_25428\\767331008.py:7: DeprecationWarning: sipPyTypeDict() is deprecated, the extension module should use sipPyTypeDictRef() instead\n",
      "  class MyApp(QWidget):\n"
     ]
    },
    {
     "ename": "SystemExit",
     "evalue": "0",
     "output_type": "error",
     "traceback": [
      "An exception has occurred, use %tb to see the full traceback.\n",
      "\u001b[1;31mSystemExit\u001b[0m\u001b[1;31m:\u001b[0m 0\n"
     ]
    },
    {
     "name": "stderr",
     "output_type": "stream",
     "text": [
      "c:\\Users\\kdt\\anaconda3\\envs\\PY39\\lib\\site-packages\\IPython\\core\\interactiveshell.py:3558: UserWarning: To exit: use 'exit', 'quit', or Ctrl-D.\n",
      "  warn(\"To exit: use 'exit', 'quit', or Ctrl-D.\", stacklevel=1)\n"
     ]
    }
   ],
   "source": [
    "## Ex 5-1. QPushButton.\n",
    "\n",
    "import sys\n",
    "from PyQt5.QtWidgets import QApplication, QWidget, QPushButton, QVBoxLayout\n",
    "\n",
    "\n",
    "class MyApp(QWidget):\n",
    "\n",
    "    def __init__(self):\n",
    "        super().__init__()\n",
    "        self.initUI()\n",
    "\n",
    "    def initUI(self):\n",
    "        btn1 = QPushButton('&Button1', self)\n",
    "        btn1.setCheckable(True)\n",
    "        btn1.toggle()\n",
    "\n",
    "        btn2 = QPushButton(self)\n",
    "        btn2.setText('Button&2')\n",
    "\n",
    "        btn3 = QPushButton('Button3', self)\n",
    "        btn3.setEnabled(False)\n",
    "\n",
    "        vbox = QVBoxLayout()\n",
    "        vbox.addWidget(btn1)\n",
    "        vbox.addWidget(btn2)\n",
    "        vbox.addWidget(btn3)\n",
    "\n",
    "        self.setLayout(vbox)\n",
    "        self.setWindowTitle('QPushButton')\n",
    "        self.setGeometry(300, 300, 300, 200)\n",
    "        self.show()\n",
    "\n",
    "\n",
    "# 애플리케이션 실행\n",
    "if __name__ == \"__main__\":\n",
    "    # Jupyter Notebook에서는 QApplication이 중복 실행되면 커널이 죽음!\n",
    "    app = QApplication.instance()  # 이미 실행 중인지 확인\n",
    "    if not app:  # 실행되지 않았다면 새로 생성\n",
    "        app = QApplication(sys.argv)\n",
    "    window = MyApp()\n",
    "    window.show()\n",
    "    sys.exit(app.exec_())\n"
   ]
  },
  {
   "cell_type": "code",
   "execution_count": null,
   "metadata": {},
   "outputs": [],
   "source": []
  }
 ],
 "metadata": {
  "kernelspec": {
   "display_name": "PY39",
   "language": "python",
   "name": "python3"
  },
  "language_info": {
   "codemirror_mode": {
    "name": "ipython",
    "version": 3
   },
   "file_extension": ".py",
   "mimetype": "text/x-python",
   "name": "python",
   "nbconvert_exporter": "python",
   "pygments_lexer": "ipython3",
   "version": "3.9.21"
  }
 },
 "nbformat": 4,
 "nbformat_minor": 2
}
